{
 "cells": [
  {
   "cell_type": "markdown",
   "id": "912df4bd",
   "metadata": {},
   "source": [
    "# String\n",
    "- Sequence Data Type"
   ]
  },
  {
   "cell_type": "code",
   "execution_count": 2,
   "id": "f108ccde",
   "metadata": {},
   "outputs": [
    {
     "name": "stdout",
     "output_type": "stream",
     "text": [
      "This is an example of string\n"
     ]
    }
   ],
   "source": [
    "print(\"This is an example of string\")"
   ]
  },
  {
   "cell_type": "code",
   "execution_count": 3,
   "id": "151b60f9",
   "metadata": {},
   "outputs": [
    {
     "name": "stdout",
     "output_type": "stream",
     "text": [
      "How are you\n"
     ]
    }
   ],
   "source": [
    "c=\"How are you\"\n",
    "print(c)"
   ]
  },
  {
   "cell_type": "code",
   "execution_count": 5,
   "id": "ba9f50f0",
   "metadata": {},
   "outputs": [
    {
     "name": "stdout",
     "output_type": "stream",
     "text": [
      "This is a python basic class\n",
      "today is monday\n",
      "\n"
     ]
    }
   ],
   "source": [
    "x=\"\"\"This is a python basic class\n",
    "today is monday\n",
    "\"\"\"\n",
    "print(x)\n",
    "# This is multiline string"
   ]
  },
  {
   "cell_type": "code",
   "execution_count": 8,
   "id": "ebfaf17d",
   "metadata": {},
   "outputs": [
    {
     "name": "stdout",
     "output_type": "stream",
     "text": [
      "Danish\tkhan\n"
     ]
    }
   ],
   "source": [
    "print(\"Danish\\tkhan\") \n",
    "# \\t means tab"
   ]
  },
  {
   "cell_type": "code",
   "execution_count": 3,
   "id": "be735089",
   "metadata": {},
   "outputs": [
    {
     "name": "stdout",
     "output_type": "stream",
     "text": [
      "Danish\n",
      "khan\n"
     ]
    }
   ],
   "source": [
    "print(\"Danish\\nkhan\") \n",
    "# \\n means new line"
   ]
  },
  {
   "cell_type": "code",
   "execution_count": 4,
   "id": "f3f5c303",
   "metadata": {},
   "outputs": [
    {
     "name": "stdout",
     "output_type": "stream",
     "text": [
      "Danish\b\n"
     ]
    }
   ],
   "source": [
    "print(\"Danish\\b\") \n",
    "# \\b means back space"
   ]
  },
  {
   "cell_type": "code",
   "execution_count": 16,
   "id": "8425f6be",
   "metadata": {},
   "outputs": [
    {
     "name": "stdout",
     "output_type": "stream",
     "text": [
      "Danish \\s khan\n"
     ]
    }
   ],
   "source": [
    "print(\"Danishkhan\")\n",
    "#\\s means space"
   ]
  },
  {
   "cell_type": "code",
   "execution_count": 17,
   "id": "589356ca",
   "metadata": {},
   "outputs": [
    {
     "name": "stdout",
     "output_type": "stream",
     "text": [
      "['D', 'a', 'n']\n"
     ]
    }
   ],
   "source": [
    "v=\"D a n\"\n",
    "print(v.split())"
   ]
  },
  {
   "cell_type": "code",
   "execution_count": 18,
   "id": "34c5c962",
   "metadata": {},
   "outputs": [
    {
     "name": "stdout",
     "output_type": "stream",
     "text": [
      "['D', 'a', 'n']\n"
     ]
    }
   ],
   "source": [
    "v=\"D$a$n\"\n",
    "print(v.split(\"$\"))"
   ]
  },
  {
   "cell_type": "code",
   "execution_count": 19,
   "id": "2db1616f",
   "metadata": {},
   "outputs": [
    {
     "name": "stdout",
     "output_type": "stream",
     "text": [
      "['D', 'a', '', 'n', 'i', 's', 'h']\n"
     ]
    }
   ],
   "source": [
    "v=\"D$a$$n$i$s$h\"\n",
    "print(v.split(\"$\"))"
   ]
  },
  {
   "cell_type": "code",
   "execution_count": 21,
   "id": "5c4ee303",
   "metadata": {},
   "outputs": [
    {
     "data": {
      "text/plain": [
       "['D', 'a', '', 'n', 'i', 's', 'h']"
      ]
     },
     "execution_count": 21,
     "metadata": {},
     "output_type": "execute_result"
    }
   ],
   "source": [
    "Var1=v.split(\"$\")\n",
    "Var1"
   ]
  },
  {
   "cell_type": "code",
   "execution_count": 22,
   "id": "e3d9dfea",
   "metadata": {},
   "outputs": [
    {
     "data": {
      "text/plain": [
       "list"
      ]
     },
     "execution_count": 22,
     "metadata": {},
     "output_type": "execute_result"
    }
   ],
   "source": [
    "type(Var1)"
   ]
  },
  {
   "cell_type": "code",
   "execution_count": 25,
   "id": "dc086374",
   "metadata": {},
   "outputs": [
    {
     "data": {
      "text/plain": [
       "'Danish'"
      ]
     },
     "execution_count": 25,
     "metadata": {},
     "output_type": "execute_result"
    }
   ],
   "source": [
    "\"\".join(Var1)"
   ]
  },
  {
   "cell_type": "code",
   "execution_count": 26,
   "id": "83a1d61d",
   "metadata": {},
   "outputs": [
    {
     "data": {
      "text/plain": [
       "'DCARaCARCARnCARiCARsCARh'"
      ]
     },
     "execution_count": 26,
     "metadata": {},
     "output_type": "execute_result"
    }
   ],
   "source": [
    "\"CAR\".join(Var1)"
   ]
  },
  {
   "cell_type": "code",
   "execution_count": 28,
   "id": "5b2ee9bb",
   "metadata": {},
   "outputs": [
    {
     "data": {
      "text/plain": [
       "9"
      ]
     },
     "execution_count": 28,
     "metadata": {},
     "output_type": "execute_result"
    }
   ],
   "source": [
    "K=\"Democracy\"\n",
    "len(K)"
   ]
  },
  {
   "cell_type": "code",
   "execution_count": 29,
   "id": "035398a4",
   "metadata": {},
   "outputs": [
    {
     "data": {
      "text/plain": [
       "'Demo'"
      ]
     },
     "execution_count": 29,
     "metadata": {},
     "output_type": "execute_result"
    }
   ],
   "source": [
    "#Slice\n",
    "K[0:4] #(Start:Stop: Step)"
   ]
  },
  {
   "cell_type": "code",
   "execution_count": 30,
   "id": "1257b1a1",
   "metadata": {},
   "outputs": [
    {
     "data": {
      "text/plain": [
       "'emocrac'"
      ]
     },
     "execution_count": 30,
     "metadata": {},
     "output_type": "execute_result"
    }
   ],
   "source": [
    "K[1:8]"
   ]
  },
  {
   "cell_type": "code",
   "execution_count": 31,
   "id": "a12e4ce1",
   "metadata": {},
   "outputs": [
    {
     "data": {
      "text/plain": [
       "'eorc'"
      ]
     },
     "execution_count": 31,
     "metadata": {},
     "output_type": "execute_result"
    }
   ],
   "source": [
    "K[1:8:2]"
   ]
  },
  {
   "cell_type": "code",
   "execution_count": 32,
   "id": "9b5a7157",
   "metadata": {},
   "outputs": [
    {
     "data": {
      "text/plain": [
       "'Democracy'"
      ]
     },
     "execution_count": 32,
     "metadata": {},
     "output_type": "execute_result"
    }
   ],
   "source": [
    "K[:] "
   ]
  },
  {
   "cell_type": "code",
   "execution_count": 33,
   "id": "e5563183",
   "metadata": {},
   "outputs": [
    {
     "data": {
      "text/plain": [
       "'Demo'"
      ]
     },
     "execution_count": 33,
     "metadata": {},
     "output_type": "execute_result"
    }
   ],
   "source": [
    "K[:4]"
   ]
  },
  {
   "cell_type": "code",
   "execution_count": 34,
   "id": "33ff24f2",
   "metadata": {},
   "outputs": [
    {
     "data": {
      "text/plain": [
       "'ocracy'"
      ]
     },
     "execution_count": 34,
     "metadata": {},
     "output_type": "execute_result"
    }
   ],
   "source": [
    "K[3:]"
   ]
  },
  {
   "cell_type": "code",
   "execution_count": 42,
   "id": "5af52cda",
   "metadata": {},
   "outputs": [
    {
     "data": {
      "text/plain": [
       "'acy'"
      ]
     },
     "execution_count": 42,
     "metadata": {},
     "output_type": "execute_result"
    }
   ],
   "source": [
    "K[-3:]"
   ]
  },
  {
   "cell_type": "code",
   "execution_count": 51,
   "id": "64d783b6",
   "metadata": {},
   "outputs": [
    {
     "data": {
      "text/plain": [
       "'ycarcomeD'"
      ]
     },
     "execution_count": 51,
     "metadata": {},
     "output_type": "execute_result"
    }
   ],
   "source": [
    "K[::-1]"
   ]
  },
  {
   "cell_type": "code",
   "execution_count": 53,
   "id": "05ea0ba3",
   "metadata": {},
   "outputs": [
    {
     "name": "stdout",
     "output_type": "stream",
     "text": [
      "D\n",
      "e\n",
      "m\n",
      "o\n",
      "c\n",
      "r\n",
      "a\n",
      "c\n",
      "y\n"
     ]
    }
   ],
   "source": [
    "for i in K:\n",
    "    print(i)"
   ]
  },
  {
   "cell_type": "code",
   "execution_count": 54,
   "id": "d4f98375",
   "metadata": {},
   "outputs": [],
   "source": [
    "l=\"Today is a very Beautiful day\""
   ]
  },
  {
   "cell_type": "code",
   "execution_count": 55,
   "id": "8c7e602d",
   "metadata": {},
   "outputs": [
    {
     "name": "stdout",
     "output_type": "stream",
     "text": [
      "found\n"
     ]
    }
   ],
   "source": [
    "if \"very\" in l:\n",
    "    print(\"found\")"
   ]
  },
  {
   "cell_type": "code",
   "execution_count": 56,
   "id": "cfc35726",
   "metadata": {},
   "outputs": [
    {
     "name": "stdout",
     "output_type": "stream",
     "text": [
      "its true\n"
     ]
    }
   ],
   "source": [
    "if \"night\"  not in l:\n",
    "    print(\"its true\")"
   ]
  },
  {
   "cell_type": "code",
   "execution_count": 58,
   "id": "1d643ac0",
   "metadata": {},
   "outputs": [
    {
     "name": "stdout",
     "output_type": "stream",
     "text": [
      "Danish Khan\n"
     ]
    }
   ],
   "source": [
    "a=\"Danish\"\n",
    "b=\"Khan\"\n",
    "print(a+\" \"+b) #concatinate"
   ]
  },
  {
   "cell_type": "code",
   "execution_count": 9,
   "id": "a38396f6",
   "metadata": {},
   "outputs": [
    {
     "data": {
      "text/plain": [
       "'Python is'"
      ]
     },
     "execution_count": 9,
     "metadata": {},
     "output_type": "execute_result"
    }
   ],
   "source": [
    "#String method\n",
    "m=\"python is\"\n",
    "m.capitalize()"
   ]
  },
  {
   "cell_type": "code",
   "execution_count": 62,
   "id": "64f1bfec",
   "metadata": {},
   "outputs": [
    {
     "data": {
      "text/plain": [
       "'python'"
      ]
     },
     "execution_count": 62,
     "metadata": {},
     "output_type": "execute_result"
    }
   ],
   "source": [
    "f=\"Python\"\n",
    "f.casefold()"
   ]
  },
  {
   "cell_type": "code",
   "execution_count": 66,
   "id": "f7fa3f06",
   "metadata": {},
   "outputs": [
    {
     "data": {
      "text/plain": [
       "'  Python  '"
      ]
     },
     "execution_count": 66,
     "metadata": {},
     "output_type": "execute_result"
    }
   ],
   "source": [
    "f.center(10)"
   ]
  },
  {
   "cell_type": "code",
   "execution_count": 68,
   "id": "2633c2ec",
   "metadata": {},
   "outputs": [
    {
     "data": {
      "text/plain": [
       "2"
      ]
     },
     "execution_count": 68,
     "metadata": {},
     "output_type": "execute_result"
    }
   ],
   "source": [
    "\"tweet\".count(\"e\")"
   ]
  },
  {
   "cell_type": "code",
   "execution_count": 69,
   "id": "57e9f8d7",
   "metadata": {},
   "outputs": [
    {
     "data": {
      "text/plain": [
       "False"
      ]
     },
     "execution_count": 69,
     "metadata": {},
     "output_type": "execute_result"
    }
   ],
   "source": [
    "\"tweet\".endswith(\"e\")"
   ]
  },
  {
   "cell_type": "code",
   "execution_count": 70,
   "id": "3e567e6f",
   "metadata": {},
   "outputs": [
    {
     "data": {
      "text/plain": [
       "-1"
      ]
     },
     "execution_count": 70,
     "metadata": {},
     "output_type": "execute_result"
    }
   ],
   "source": [
    "\"This is a job,is great\".find(\"apple\")"
   ]
  },
  {
   "cell_type": "code",
   "execution_count": 71,
   "id": "d6e5b011",
   "metadata": {},
   "outputs": [
    {
     "data": {
      "text/plain": [
       "2"
      ]
     },
     "execution_count": 71,
     "metadata": {},
     "output_type": "execute_result"
    }
   ],
   "source": [
    "\"This is a job,is great\".find(\"is\")"
   ]
  },
  {
   "cell_type": "code",
   "execution_count": 72,
   "id": "371c1cd3",
   "metadata": {},
   "outputs": [
    {
     "data": {
      "text/plain": [
       "'THIS IS A JOB,IS GREAT'"
      ]
     },
     "execution_count": 72,
     "metadata": {},
     "output_type": "execute_result"
    }
   ],
   "source": [
    "\"This is a job,is great\".upper()"
   ]
  },
  {
   "cell_type": "code",
   "execution_count": 73,
   "id": "d93ec295",
   "metadata": {},
   "outputs": [
    {
     "data": {
      "text/plain": [
       "'this is a job,is great'"
      ]
     },
     "execution_count": 73,
     "metadata": {},
     "output_type": "execute_result"
    }
   ],
   "source": [
    "\"This is a job,is great\".lower()"
   ]
  },
  {
   "cell_type": "code",
   "execution_count": 74,
   "id": "e0074220",
   "metadata": {},
   "outputs": [
    {
     "data": {
      "text/plain": [
       "'tHIS IS A JOB,IS GREAT'"
      ]
     },
     "execution_count": 74,
     "metadata": {},
     "output_type": "execute_result"
    }
   ],
   "source": [
    "\"This is a job,is great\".swapcase()"
   ]
  },
  {
   "cell_type": "code",
   "execution_count": 75,
   "id": "7c88bca7",
   "metadata": {},
   "outputs": [
    {
     "data": {
      "text/plain": [
       "'apple'"
      ]
     },
     "execution_count": 75,
     "metadata": {},
     "output_type": "execute_result"
    }
   ],
   "source": [
    "\" apple \".strip()"
   ]
  },
  {
   "cell_type": "code",
   "execution_count": 4,
   "id": "65a6eec6",
   "metadata": {},
   "outputs": [
    {
     "data": {
      "text/plain": [
       "' apple'"
      ]
     },
     "execution_count": 4,
     "metadata": {},
     "output_type": "execute_result"
    }
   ],
   "source": [
    "\" apple \".rstrip()"
   ]
  },
  {
   "cell_type": "code",
   "execution_count": 77,
   "id": "4ba4658a",
   "metadata": {},
   "outputs": [
    {
     "data": {
      "text/plain": [
       "'This Is A Job,Is Great'"
      ]
     },
     "execution_count": 77,
     "metadata": {},
     "output_type": "execute_result"
    }
   ],
   "source": [
    "\"This is a job,is great\".title()"
   ]
  },
  {
   "cell_type": "code",
   "execution_count": 78,
   "id": "952fd05f",
   "metadata": {},
   "outputs": [
    {
     "data": {
      "text/plain": [
       "'This is a job,is worst'"
      ]
     },
     "execution_count": 78,
     "metadata": {},
     "output_type": "execute_result"
    }
   ],
   "source": [
    "\"This is a job,is great\".replace(\"great\",\"worst\")"
   ]
  },
  {
   "cell_type": "code",
   "execution_count": 79,
   "id": "87316000",
   "metadata": {},
   "outputs": [
    {
     "data": {
      "text/plain": [
       "False"
      ]
     },
     "execution_count": 79,
     "metadata": {},
     "output_type": "execute_result"
    }
   ],
   "source": [
    "\" apple \".isupper()"
   ]
  },
  {
   "cell_type": "code",
   "execution_count": 81,
   "id": "9c966f4d",
   "metadata": {},
   "outputs": [
    {
     "data": {
      "text/plain": [
       "False"
      ]
     },
     "execution_count": 81,
     "metadata": {},
     "output_type": "execute_result"
    }
   ],
   "source": [
    "\" apple4 \".isnumeric()"
   ]
  },
  {
   "cell_type": "code",
   "execution_count": 84,
   "id": "9340656a",
   "metadata": {},
   "outputs": [
    {
     "data": {
      "text/plain": [
       "True"
      ]
     },
     "execution_count": 84,
     "metadata": {},
     "output_type": "execute_result"
    }
   ],
   "source": [
    "\"apple4\".isalnum()"
   ]
  },
  {
   "cell_type": "code",
   "execution_count": 86,
   "id": "6424aba9",
   "metadata": {},
   "outputs": [
    {
     "data": {
      "text/plain": [
       "True"
      ]
     },
     "execution_count": 86,
     "metadata": {},
     "output_type": "execute_result"
    }
   ],
   "source": [
    "\" \".isspace()"
   ]
  },
  {
   "cell_type": "code",
   "execution_count": 82,
   "id": "c577ee81",
   "metadata": {},
   "outputs": [
    {
     "data": {
      "text/plain": [
       "True"
      ]
     },
     "execution_count": 82,
     "metadata": {},
     "output_type": "execute_result"
    }
   ],
   "source": [
    "\"234\".isdigit()"
   ]
  },
  {
   "cell_type": "code",
   "execution_count": 6,
   "id": "45a542a3",
   "metadata": {},
   "outputs": [],
   "source": [
    "j=\"Education\""
   ]
  },
  {
   "cell_type": "code",
   "execution_count": 9,
   "id": "4d0e2c04",
   "metadata": {},
   "outputs": [
    {
     "data": {
      "text/plain": [
       "'noitacudE'"
      ]
     },
     "execution_count": 9,
     "metadata": {},
     "output_type": "execute_result"
    }
   ],
   "source": [
    "j[-1::-1]"
   ]
  },
  {
   "cell_type": "code",
   "execution_count": null,
   "id": "76c68c00",
   "metadata": {},
   "outputs": [],
   "source": []
  },
  {
   "cell_type": "code",
   "execution_count": null,
   "id": "9076ecf1",
   "metadata": {},
   "outputs": [],
   "source": []
  },
  {
   "cell_type": "code",
   "execution_count": null,
   "id": "6d9037d5",
   "metadata": {},
   "outputs": [],
   "source": []
  }
 ],
 "metadata": {
  "kernelspec": {
   "display_name": "Python 3 (ipykernel)",
   "language": "python",
   "name": "python3"
  },
  "language_info": {
   "codemirror_mode": {
    "name": "ipython",
    "version": 3
   },
   "file_extension": ".py",
   "mimetype": "text/x-python",
   "name": "python",
   "nbconvert_exporter": "python",
   "pygments_lexer": "ipython3",
   "version": "3.9.13"
  }
 },
 "nbformat": 4,
 "nbformat_minor": 5
}
