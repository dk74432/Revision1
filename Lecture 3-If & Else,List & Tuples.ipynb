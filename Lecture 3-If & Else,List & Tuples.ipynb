{
 "cells": [
  {
   "cell_type": "code",
   "execution_count": 1,
   "id": "06fac0d1",
   "metadata": {},
   "outputs": [],
   "source": [
    "#Equals: a == b\n",
    "#Not Equals: a != b\n",
    "#Less than: a < b\n",
    "#Less than or equal to: a <= b\n",
    "#Greater than: a > b\n",
    "#Greater than or equal to: a >= b"
   ]
  },
  {
   "cell_type": "code",
   "execution_count": 8,
   "id": "19aaf44d",
   "metadata": {},
   "outputs": [
    {
     "name": "stdout",
     "output_type": "stream",
     "text": [
      "True\n"
     ]
    }
   ],
   "source": [
    "a=4\n",
    "b=7\n",
    "if b>a:\n",
    "    print(\"True\")"
   ]
  },
  {
   "cell_type": "code",
   "execution_count": 9,
   "id": "409ba7b1",
   "metadata": {},
   "outputs": [
    {
     "name": "stdout",
     "output_type": "stream",
     "text": [
      "b is eql to a\n"
     ]
    }
   ],
   "source": [
    "a=b=3\n",
    "if b>a:\n",
    "    print(\"b is grt than a\")\n",
    "elif a==b:\n",
    "    print(\"b is eql to a\")\n",
    "    "
   ]
  },
  {
   "cell_type": "code",
   "execution_count": 2,
   "id": "b49d6b6c",
   "metadata": {},
   "outputs": [
    {
     "name": "stdout",
     "output_type": "stream",
     "text": [
      "True\n"
     ]
    }
   ],
   "source": [
    "a=7\n",
    "b=3\n",
    "if b>a:\n",
    "    print(\"False\")\n",
    "elif a==b:\n",
    "    print(\"Fail\")\n",
    "else:\n",
    "    print(\"True\")"
   ]
  },
  {
   "cell_type": "code",
   "execution_count": 3,
   "id": "30629646",
   "metadata": {},
   "outputs": [
    {
     "name": "stdout",
     "output_type": "stream",
     "text": [
      "True\n"
     ]
    }
   ],
   "source": [
    "x=8\n",
    "y=10\n",
    "if y>x:print(\"True\")"
   ]
  },
  {
   "cell_type": "code",
   "execution_count": 5,
   "id": "b40ec0b8",
   "metadata": {},
   "outputs": [
    {
     "name": "stdout",
     "output_type": "stream",
     "text": [
      "False\n"
     ]
    }
   ],
   "source": [
    "x=18\n",
    "y=10\n",
    "print(\"True\") if y>x else print(\"False\")"
   ]
  },
  {
   "cell_type": "code",
   "execution_count": 6,
   "id": "88ae11db",
   "metadata": {},
   "outputs": [
    {
     "name": "stdout",
     "output_type": "stream",
     "text": [
      "True\n"
     ]
    }
   ],
   "source": [
    "a=18\n",
    "b=10\n",
    "c=21\n",
    "if a>b and a<c:\n",
    "    print(\"True\")"
   ]
  },
  {
   "cell_type": "code",
   "execution_count": 7,
   "id": "e4191bb0",
   "metadata": {},
   "outputs": [
    {
     "name": "stdout",
     "output_type": "stream",
     "text": [
      "True\n"
     ]
    }
   ],
   "source": [
    "a=18\n",
    "b=10\n",
    "c=21\n",
    "if a>b or a<c:\n",
    "    print(\"True\")"
   ]
  },
  {
   "cell_type": "code",
   "execution_count": 13,
   "id": "85874a8f",
   "metadata": {},
   "outputs": [
    {
     "name": "stdout",
     "output_type": "stream",
     "text": [
      "Enter your 10th %age: 50\n",
      "Grade C\n"
     ]
    }
   ],
   "source": [
    "d=int(input(\"Enter your 10th %age: \"))\n",
    "if d>=33:\n",
    "    if (d>=33) and (d<=50):\n",
    "        print(\"Grade C\")\n",
    "    elif (d>50)  and (d<=80):\n",
    "        print(\"Grade B\")\n",
    "    else:\n",
    "        print(\"Grade A\")\n",
    "else:\n",
    "    print(\"Fail\")"
   ]
  },
  {
   "cell_type": "code",
   "execution_count": 15,
   "id": "44ca8fbe",
   "metadata": {},
   "outputs": [],
   "source": [
    "a=10\n",
    "b=75\n",
    "if b>a:\n",
    "    pass"
   ]
  },
  {
   "cell_type": "code",
   "execution_count": null,
   "id": "d0155a03",
   "metadata": {},
   "outputs": [],
   "source": [
    "## Data Container"
   ]
  },
  {
   "cell_type": "markdown",
   "id": "b802f349",
   "metadata": {},
   "source": [
    "# List\n",
    "It is  a order,sequence data type which is used to store collection of Data"
   ]
  },
  {
   "cell_type": "code",
   "execution_count": 118,
   "id": "a709e320",
   "metadata": {},
   "outputs": [],
   "source": [
    "Name=[\"Ajay\",\"Balram\",\"Chaman\",\"Danish\"]\n",
    "Num=[1,4,7,9,9,9]\n",
    "Mix=[\"Ajit\",5,9.33,-15]"
   ]
  },
  {
   "cell_type": "code",
   "execution_count": 88,
   "id": "b5a64755",
   "metadata": {},
   "outputs": [
    {
     "data": {
      "text/plain": [
       "['Ajay', 'Balram', 'Chaman', 'Danish']"
      ]
     },
     "execution_count": 88,
     "metadata": {},
     "output_type": "execute_result"
    }
   ],
   "source": [
    "Name"
   ]
  },
  {
   "cell_type": "code",
   "execution_count": 89,
   "id": "17ef6848",
   "metadata": {},
   "outputs": [
    {
     "name": "stdout",
     "output_type": "stream",
     "text": [
      "[1, 4, 7, 9, 9, 9]\n"
     ]
    }
   ],
   "source": [
    "print(Num)"
   ]
  },
  {
   "cell_type": "code",
   "execution_count": 90,
   "id": "3654cc18",
   "metadata": {},
   "outputs": [
    {
     "data": {
      "text/plain": [
       "['Ajit', 5, 9.33, -15]"
      ]
     },
     "execution_count": 90,
     "metadata": {},
     "output_type": "execute_result"
    }
   ],
   "source": [
    "Mix"
   ]
  },
  {
   "cell_type": "code",
   "execution_count": 91,
   "id": "250226fe",
   "metadata": {},
   "outputs": [
    {
     "data": {
      "text/plain": [
       "['Ajay', 'Balram']"
      ]
     },
     "execution_count": 91,
     "metadata": {},
     "output_type": "execute_result"
    }
   ],
   "source": [
    "Name[:2]"
   ]
  },
  {
   "cell_type": "code",
   "execution_count": 92,
   "id": "de0a3d70",
   "metadata": {},
   "outputs": [
    {
     "data": {
      "text/plain": [
       "[-15, 9.33, 5, 'Ajit']"
      ]
     },
     "execution_count": 92,
     "metadata": {},
     "output_type": "execute_result"
    }
   ],
   "source": [
    "Mix[::-1]"
   ]
  },
  {
   "cell_type": "code",
   "execution_count": 93,
   "id": "1f1e8532",
   "metadata": {},
   "outputs": [],
   "source": [
    "# List items are order,changeable\n",
    "# it also allow Duplicate values.\n",
    "# List items are indexed"
   ]
  },
  {
   "cell_type": "code",
   "execution_count": 94,
   "id": "698e4c0a",
   "metadata": {},
   "outputs": [
    {
     "data": {
      "text/plain": [
       "(4, 4, 6)"
      ]
     },
     "execution_count": 94,
     "metadata": {},
     "output_type": "execute_result"
    }
   ],
   "source": [
    "len(Name),len(Mix),len(Num)"
   ]
  },
  {
   "cell_type": "code",
   "execution_count": 95,
   "id": "1c39ef7d",
   "metadata": {},
   "outputs": [],
   "source": [
    "B1=[True,False,True,True,False]"
   ]
  },
  {
   "cell_type": "code",
   "execution_count": 96,
   "id": "0c971b6b",
   "metadata": {},
   "outputs": [
    {
     "ename": "NameError",
     "evalue": "name 'a' is not defined",
     "output_type": "error",
     "traceback": [
      "\u001b[1;31m---------------------------------------------------------------------------\u001b[0m",
      "\u001b[1;31mNameError\u001b[0m                                 Traceback (most recent call last)",
      "\u001b[1;32m~\\AppData\\Local\\Temp\\ipykernel_508\\388850186.py\u001b[0m in \u001b[0;36m<module>\u001b[1;34m\u001b[0m\n\u001b[1;32m----> 1\u001b[1;33m \u001b[0mtype\u001b[0m\u001b[1;33m(\u001b[0m\u001b[0mB1\u001b[0m\u001b[1;33m)\u001b[0m\u001b[1;33m,\u001b[0m\u001b[0mtype\u001b[0m\u001b[1;33m(\u001b[0m\u001b[0ma\u001b[0m\u001b[1;33m)\u001b[0m\u001b[1;33m\u001b[0m\u001b[1;33m\u001b[0m\u001b[0m\n\u001b[0m",
      "\u001b[1;31mNameError\u001b[0m: name 'a' is not defined"
     ]
    }
   ],
   "source": [
    "type(B1),type(a)"
   ]
  },
  {
   "cell_type": "code",
   "execution_count": 97,
   "id": "71529ad5",
   "metadata": {},
   "outputs": [
    {
     "name": "stdout",
     "output_type": "stream",
     "text": [
      "5 is present in the list \n"
     ]
    }
   ],
   "source": [
    "if 5 in Mix:\n",
    "    print(\"5 is present in the list \")"
   ]
  },
  {
   "cell_type": "code",
   "execution_count": 98,
   "id": "97c8ccc7",
   "metadata": {},
   "outputs": [
    {
     "data": {
      "text/plain": [
       "['Ajay', 'Balram', 'Chaman', 'Danish']"
      ]
     },
     "execution_count": 98,
     "metadata": {},
     "output_type": "execute_result"
    }
   ],
   "source": [
    "Name"
   ]
  },
  {
   "cell_type": "markdown",
   "id": "167a668c",
   "metadata": {},
   "source": [
    "# Update"
   ]
  },
  {
   "cell_type": "code",
   "execution_count": 99,
   "id": "bfde9ac7",
   "metadata": {},
   "outputs": [
    {
     "data": {
      "text/plain": [
       "['Ajay', 'Binish', 'Chaman', 'Danish']"
      ]
     },
     "execution_count": 99,
     "metadata": {},
     "output_type": "execute_result"
    }
   ],
   "source": [
    "Name[1]=\"Binish\" #Changing the value of a specific item by giving the index number\n",
    "Name"
   ]
  },
  {
   "cell_type": "code",
   "execution_count": 100,
   "id": "3a02ac1f",
   "metadata": {},
   "outputs": [
    {
     "data": {
      "text/plain": [
       "['Ajay', 'Gaurav', 'Lucky', 'Danish']"
      ]
     },
     "execution_count": 100,
     "metadata": {},
     "output_type": "execute_result"
    }
   ],
   "source": [
    "Name[1:3]=[\"Gaurav\",\"Lucky\"]\n",
    "Name"
   ]
  },
  {
   "cell_type": "code",
   "execution_count": 101,
   "id": "9623b2d9",
   "metadata": {},
   "outputs": [
    {
     "data": {
      "text/plain": [
       "['Ajay', 'Kailash', 'Lokesh', 'Mahesh', 'Danish']"
      ]
     },
     "execution_count": 101,
     "metadata": {},
     "output_type": "execute_result"
    }
   ],
   "source": [
    "Name[1:3]=[\"Kailash\",\"Lokesh\",\"Mahesh\"] # if you insert more item than you replace new item will be inserted and remaining item move accordingly\n",
    "Name"
   ]
  },
  {
   "cell_type": "markdown",
   "id": "a9a06bb1",
   "metadata": {},
   "source": [
    "# Insert"
   ]
  },
  {
   "cell_type": "code",
   "execution_count": 102,
   "id": "7714780b",
   "metadata": {},
   "outputs": [
    {
     "data": {
      "text/plain": [
       "['Ajay', 'Pawan', 'Kailash', 'Lokesh', 'Mahesh', 'Danish']"
      ]
     },
     "execution_count": 102,
     "metadata": {},
     "output_type": "execute_result"
    }
   ],
   "source": [
    "Name.insert(1,\"Pawan\") # insert method is use to insert the item at specify index without replacing  the previous element.\n",
    "Name"
   ]
  },
  {
   "cell_type": "markdown",
   "id": "6673f0fd",
   "metadata": {},
   "source": [
    "# Append"
   ]
  },
  {
   "cell_type": "code",
   "execution_count": 103,
   "id": "e57a70ea",
   "metadata": {},
   "outputs": [
    {
     "data": {
      "text/plain": [
       "['Ajay', 'Pawan', 'Kailash', 'Lokesh', 'Mahesh', 'Danish', 'Om']"
      ]
     },
     "execution_count": 103,
     "metadata": {},
     "output_type": "execute_result"
    }
   ],
   "source": [
    "Name.append(\"Om\") # it add the item at the end of the list\n",
    "Name"
   ]
  },
  {
   "cell_type": "code",
   "execution_count": 104,
   "id": "606aae7e",
   "metadata": {},
   "outputs": [
    {
     "data": {
      "text/plain": [
       "['Ajay',\n",
       " 'Pawan',\n",
       " 'Kailash',\n",
       " 'Lokesh',\n",
       " 'Mahesh',\n",
       " 'Danish',\n",
       " 'Om',\n",
       " ['Ramesh', 'Vikas']]"
      ]
     },
     "execution_count": 104,
     "metadata": {},
     "output_type": "execute_result"
    }
   ],
   "source": [
    "Name.append([\"Ramesh\",\"Vikas\"]) # it add the item at the end of the list\n",
    "Name"
   ]
  },
  {
   "cell_type": "markdown",
   "id": "ebbd86a3",
   "metadata": {},
   "source": [
    "# Extend"
   ]
  },
  {
   "cell_type": "code",
   "execution_count": 105,
   "id": "725be673",
   "metadata": {},
   "outputs": [
    {
     "data": {
      "text/plain": [
       "['A', 'B', 'C', 'K', 'L', 'M']"
      ]
     },
     "execution_count": 105,
     "metadata": {},
     "output_type": "execute_result"
    }
   ],
   "source": [
    "l1=[\"A\",\"B\",\"C\"] # it is used to add two or more list\n",
    "l2=[\"K\",\"L\",\"M\"] \n",
    "l1.extend(l2)\n",
    "l1"
   ]
  },
  {
   "cell_type": "code",
   "execution_count": 106,
   "id": "85919c51",
   "metadata": {},
   "outputs": [
    {
     "data": {
      "text/plain": [
       "['A', 'B', 'C', 'K', 'L', 'M', 'G', 'F']"
      ]
     },
     "execution_count": 106,
     "metadata": {},
     "output_type": "execute_result"
    }
   ],
   "source": [
    "l1.extend([\"G\",\"F\"])\n",
    "l1"
   ]
  },
  {
   "cell_type": "markdown",
   "id": "2b2e6dd8",
   "metadata": {},
   "source": [
    "### Indexing"
   ]
  },
  {
   "cell_type": "code",
   "execution_count": 107,
   "id": "ae603461",
   "metadata": {},
   "outputs": [
    {
     "data": {
      "text/plain": [
       "['Ramesh', 'Vikas']"
      ]
     },
     "execution_count": 107,
     "metadata": {},
     "output_type": "execute_result"
    }
   ],
   "source": [
    "Name[-1]"
   ]
  },
  {
   "cell_type": "markdown",
   "id": "e9d73a4b",
   "metadata": {},
   "source": [
    "# Pop"
   ]
  },
  {
   "cell_type": "code",
   "execution_count": 108,
   "id": "ddff772c",
   "metadata": {},
   "outputs": [
    {
     "data": {
      "text/plain": [
       "['Ramesh', 'Vikas']"
      ]
     },
     "execution_count": 108,
     "metadata": {},
     "output_type": "execute_result"
    }
   ],
   "source": [
    "Name.pop() # it remove the last item "
   ]
  },
  {
   "cell_type": "code",
   "execution_count": 109,
   "id": "d4c4d578",
   "metadata": {},
   "outputs": [
    {
     "data": {
      "text/plain": [
       "['Ajay', 'Pawan', 'Kailash', 'Lokesh', 'Mahesh', 'Danish', 'Om']"
      ]
     },
     "execution_count": 109,
     "metadata": {},
     "output_type": "execute_result"
    }
   ],
   "source": [
    "Name"
   ]
  },
  {
   "cell_type": "code",
   "execution_count": 110,
   "id": "f9d07381",
   "metadata": {},
   "outputs": [
    {
     "data": {
      "text/plain": [
       "'Lokesh'"
      ]
     },
     "execution_count": 110,
     "metadata": {},
     "output_type": "execute_result"
    }
   ],
   "source": [
    "Name.pop(3) # it remove the last item "
   ]
  },
  {
   "cell_type": "code",
   "execution_count": 111,
   "id": "30b22f2a",
   "metadata": {},
   "outputs": [
    {
     "data": {
      "text/plain": [
       "['Ajay', 'Pawan', 'Kailash', 'Mahesh', 'Danish', 'Om']"
      ]
     },
     "execution_count": 111,
     "metadata": {},
     "output_type": "execute_result"
    }
   ],
   "source": [
    "Name"
   ]
  },
  {
   "cell_type": "markdown",
   "id": "338a2559",
   "metadata": {},
   "source": [
    "#  Remove"
   ]
  },
  {
   "cell_type": "code",
   "execution_count": 112,
   "id": "494671c1",
   "metadata": {},
   "outputs": [],
   "source": [
    "Name.remove(\"Pawan\") #Remove the item from the list"
   ]
  },
  {
   "cell_type": "code",
   "execution_count": 113,
   "id": "89319a23",
   "metadata": {},
   "outputs": [
    {
     "data": {
      "text/plain": [
       "['Ajay', 'Kailash', 'Mahesh', 'Danish', 'Om']"
      ]
     },
     "execution_count": 113,
     "metadata": {},
     "output_type": "execute_result"
    }
   ],
   "source": [
    "Name"
   ]
  },
  {
   "cell_type": "code",
   "execution_count": 114,
   "id": "e5f9c99f",
   "metadata": {},
   "outputs": [],
   "source": [
    "del Name[-1]"
   ]
  },
  {
   "cell_type": "code",
   "execution_count": 115,
   "id": "b3d0b5a3",
   "metadata": {},
   "outputs": [
    {
     "data": {
      "text/plain": [
       "['Ajay', 'Kailash', 'Mahesh', 'Danish']"
      ]
     },
     "execution_count": 115,
     "metadata": {},
     "output_type": "execute_result"
    }
   ],
   "source": [
    "Name"
   ]
  },
  {
   "cell_type": "markdown",
   "id": "a5cadf4b",
   "metadata": {},
   "source": [
    "# Copy"
   ]
  },
  {
   "cell_type": "code",
   "execution_count": 123,
   "id": "1f662aa9",
   "metadata": {},
   "outputs": [
    {
     "data": {
      "text/plain": [
       "['Ajay', 'Balram', 'Chaman']"
      ]
     },
     "execution_count": 123,
     "metadata": {},
     "output_type": "execute_result"
    }
   ],
   "source": [
    "n2=Name.copy() #Returns a copy of the list\n",
    "n2"
   ]
  },
  {
   "cell_type": "code",
   "execution_count": 124,
   "id": "ca306890",
   "metadata": {},
   "outputs": [
    {
     "data": {
      "text/plain": [
       "['Ajay', 'Balram', 'Chaman']"
      ]
     },
     "execution_count": 124,
     "metadata": {},
     "output_type": "execute_result"
    }
   ],
   "source": [
    "Name"
   ]
  },
  {
   "cell_type": "code",
   "execution_count": 125,
   "id": "2d4b324b",
   "metadata": {},
   "outputs": [
    {
     "data": {
      "text/plain": [
       "['Ajay', 'Balram', 'Chaman']"
      ]
     },
     "execution_count": 125,
     "metadata": {},
     "output_type": "execute_result"
    }
   ],
   "source": [
    "n3=Name\n",
    "n3"
   ]
  },
  {
   "cell_type": "code",
   "execution_count": 126,
   "id": "ace20e99",
   "metadata": {},
   "outputs": [
    {
     "data": {
      "text/plain": [
       "['Ajay', 'Balram']"
      ]
     },
     "execution_count": 126,
     "metadata": {},
     "output_type": "execute_result"
    }
   ],
   "source": [
    "Name.pop()\n",
    "Name"
   ]
  },
  {
   "cell_type": "code",
   "execution_count": 127,
   "id": "629e92d6",
   "metadata": {},
   "outputs": [
    {
     "data": {
      "text/plain": [
       "['Ajay', 'Balram']"
      ]
     },
     "execution_count": 127,
     "metadata": {},
     "output_type": "execute_result"
    }
   ],
   "source": [
    "n3"
   ]
  },
  {
   "cell_type": "code",
   "execution_count": 128,
   "id": "eddefd85",
   "metadata": {},
   "outputs": [
    {
     "data": {
      "text/plain": [
       "['Ajay', 'Balram', 'Chaman']"
      ]
     },
     "execution_count": 128,
     "metadata": {},
     "output_type": "execute_result"
    }
   ],
   "source": [
    "n2"
   ]
  },
  {
   "cell_type": "code",
   "execution_count": 121,
   "id": "9608c304",
   "metadata": {},
   "outputs": [],
   "source": [
    "del n2"
   ]
  },
  {
   "cell_type": "code",
   "execution_count": 122,
   "id": "79e6d024",
   "metadata": {},
   "outputs": [
    {
     "ename": "NameError",
     "evalue": "name 'n2' is not defined",
     "output_type": "error",
     "traceback": [
      "\u001b[1;31m---------------------------------------------------------------------------\u001b[0m",
      "\u001b[1;31mNameError\u001b[0m                                 Traceback (most recent call last)",
      "\u001b[1;32m~\\AppData\\Local\\Temp\\ipykernel_508\\3943495885.py\u001b[0m in \u001b[0;36m<module>\u001b[1;34m\u001b[0m\n\u001b[1;32m----> 1\u001b[1;33m \u001b[0mn2\u001b[0m\u001b[1;33m\u001b[0m\u001b[1;33m\u001b[0m\u001b[0m\n\u001b[0m",
      "\u001b[1;31mNameError\u001b[0m: name 'n2' is not defined"
     ]
    }
   ],
   "source": [
    "n2"
   ]
  },
  {
   "cell_type": "code",
   "execution_count": 123,
   "id": "1173f49b",
   "metadata": {},
   "outputs": [
    {
     "data": {
      "text/plain": [
       "['Ajay', 'Kailash', 'Mahesh']"
      ]
     },
     "execution_count": 123,
     "metadata": {},
     "output_type": "execute_result"
    }
   ],
   "source": [
    "n2=Name.copy()\n",
    "n2"
   ]
  },
  {
   "cell_type": "markdown",
   "id": "1ac20048",
   "metadata": {},
   "source": [
    "# Clear"
   ]
  },
  {
   "cell_type": "code",
   "execution_count": 124,
   "id": "d6ae58df",
   "metadata": {},
   "outputs": [],
   "source": [
    "n2.clear() #Remove all the item from the list and left a empty list"
   ]
  },
  {
   "cell_type": "code",
   "execution_count": 125,
   "id": "ba087faf",
   "metadata": {},
   "outputs": [
    {
     "data": {
      "text/plain": [
       "[]"
      ]
     },
     "execution_count": 125,
     "metadata": {},
     "output_type": "execute_result"
    }
   ],
   "source": [
    "n2"
   ]
  },
  {
   "cell_type": "code",
   "execution_count": 126,
   "id": "d064689d",
   "metadata": {},
   "outputs": [
    {
     "data": {
      "text/plain": [
       "0"
      ]
     },
     "execution_count": 126,
     "metadata": {},
     "output_type": "execute_result"
    }
   ],
   "source": [
    "len(n2)"
   ]
  },
  {
   "cell_type": "code",
   "execution_count": 127,
   "id": "e69a18f3",
   "metadata": {},
   "outputs": [
    {
     "data": {
      "text/plain": [
       "['Vikas']"
      ]
     },
     "execution_count": 127,
     "metadata": {},
     "output_type": "execute_result"
    }
   ],
   "source": [
    "n2.append(\"Vikas\")\n",
    "n2"
   ]
  },
  {
   "cell_type": "code",
   "execution_count": 128,
   "id": "3454d85e",
   "metadata": {},
   "outputs": [
    {
     "data": {
      "text/plain": [
       "[1, 4, 7, 9, 9, 9]"
      ]
     },
     "execution_count": 128,
     "metadata": {},
     "output_type": "execute_result"
    }
   ],
   "source": [
    "Num"
   ]
  },
  {
   "cell_type": "markdown",
   "id": "d7705e6d",
   "metadata": {},
   "source": [
    "# Sort"
   ]
  },
  {
   "cell_type": "code",
   "execution_count": 134,
   "id": "4049c813",
   "metadata": {},
   "outputs": [],
   "source": [
    "Num.sort() #sort items in ascending order"
   ]
  },
  {
   "cell_type": "code",
   "execution_count": 135,
   "id": "63aad8fe",
   "metadata": {},
   "outputs": [
    {
     "data": {
      "text/plain": [
       "[9, 9, 9, 7, 4, 1]"
      ]
     },
     "execution_count": 135,
     "metadata": {},
     "output_type": "execute_result"
    }
   ],
   "source": [
    "Num.sort(reverse=True)\n",
    "Num"
   ]
  },
  {
   "cell_type": "code",
   "execution_count": 136,
   "id": "06521ca6",
   "metadata": {},
   "outputs": [
    {
     "data": {
      "text/plain": [
       "['Mahesh', 'Kailash', 'Ajay']"
      ]
     },
     "execution_count": 136,
     "metadata": {},
     "output_type": "execute_result"
    }
   ],
   "source": [
    "Name.sort(reverse=True)\n",
    "Name"
   ]
  },
  {
   "cell_type": "code",
   "execution_count": 137,
   "id": "0abe99c2",
   "metadata": {},
   "outputs": [
    {
     "data": {
      "text/plain": [
       "[-15, 9.33, 5, 'Ajit']"
      ]
     },
     "execution_count": 137,
     "metadata": {},
     "output_type": "execute_result"
    }
   ],
   "source": [
    "Mix"
   ]
  },
  {
   "cell_type": "code",
   "execution_count": 138,
   "id": "5fd8635d",
   "metadata": {},
   "outputs": [],
   "source": [
    "Mix.reverse()"
   ]
  },
  {
   "cell_type": "code",
   "execution_count": 85,
   "id": "c8be892c",
   "metadata": {},
   "outputs": [
    {
     "data": {
      "text/plain": [
       "[-15, 9.33, 5, 'Ajit']"
      ]
     },
     "execution_count": 85,
     "metadata": {},
     "output_type": "execute_result"
    }
   ],
   "source": [
    "Mix"
   ]
  },
  {
   "cell_type": "markdown",
   "id": "31632e41",
   "metadata": {},
   "source": [
    "####  for Loop"
   ]
  },
  {
   "cell_type": "code",
   "execution_count": 12,
   "id": "3e27b5d1",
   "metadata": {},
   "outputs": [
    {
     "name": "stdout",
     "output_type": "stream",
     "text": [
      "Danish\n",
      "23\n",
      "34.56\n",
      "Vijay\n",
      "Happy\n",
      "10\n"
     ]
    }
   ],
   "source": [
    "V1=[\"Danish\",23,34.56,\"Vijay\",\"Happy\",10]\n",
    "for i in V1:\n",
    "    print(i)"
   ]
  },
  {
   "cell_type": "code",
   "execution_count": 13,
   "id": "f9e6944f",
   "metadata": {},
   "outputs": [
    {
     "data": {
      "text/plain": [
       "range(5, 25, 5)"
      ]
     },
     "execution_count": 13,
     "metadata": {},
     "output_type": "execute_result"
    }
   ],
   "source": [
    "l=range(5,25,5)\n",
    "l"
   ]
  },
  {
   "cell_type": "code",
   "execution_count": 14,
   "id": "5d543cbb",
   "metadata": {},
   "outputs": [
    {
     "name": "stdout",
     "output_type": "stream",
     "text": [
      "5\n",
      "10\n",
      "15\n",
      "20\n"
     ]
    }
   ],
   "source": [
    "for i in l:\n",
    "    print(i)"
   ]
  },
  {
   "cell_type": "code",
   "execution_count": 15,
   "id": "9b22767a",
   "metadata": {},
   "outputs": [
    {
     "data": {
      "text/plain": [
       "[5, 7, 9, 11]"
      ]
     },
     "execution_count": 15,
     "metadata": {},
     "output_type": "execute_result"
    }
   ],
   "source": [
    "i2=list(range(5,13,2))\n",
    "i2"
   ]
  },
  {
   "cell_type": "code",
   "execution_count": 16,
   "id": "f5c17113",
   "metadata": {},
   "outputs": [
    {
     "name": "stdout",
     "output_type": "stream",
     "text": [
      "0\n",
      "1\n",
      "2\n",
      "3\n",
      "4\n",
      "5\n"
     ]
    }
   ],
   "source": [
    "for i in range(len(V1)): # Loop through the list\n",
    "    print(i)"
   ]
  },
  {
   "cell_type": "code",
   "execution_count": 19,
   "id": "9794545e",
   "metadata": {},
   "outputs": [
    {
     "name": "stdout",
     "output_type": "stream",
     "text": [
      "0 Danish\n",
      "1 23\n",
      "2 34.56\n",
      "3 Vijay\n",
      "4 Happy\n",
      "5 10\n"
     ]
    }
   ],
   "source": [
    "for i in range(len(V1)): # Loop through the index\n",
    "    print(i,V1[i])"
   ]
  },
  {
   "cell_type": "code",
   "execution_count": 74,
   "id": "56c997c3",
   "metadata": {},
   "outputs": [
    {
     "name": "stdout",
     "output_type": "stream",
     "text": [
      "['abc', 'pobc', 'vad', 'xus', 'ioa']\n"
     ]
    }
   ],
   "source": [
    "old=[\"abc\" , \"pobc\" , \"vad\" , \"xus\" , \"ioa\"]\n",
    "new=[]\n",
    "print(old)"
   ]
  },
  {
   "cell_type": "code",
   "execution_count": 75,
   "id": "1e96ee5f",
   "metadata": {},
   "outputs": [
    {
     "name": "stdout",
     "output_type": "stream",
     "text": [
      "[]\n"
     ]
    }
   ],
   "source": [
    "print(new)"
   ]
  },
  {
   "cell_type": "code",
   "execution_count": 76,
   "id": "1c1376af",
   "metadata": {},
   "outputs": [
    {
     "name": "stdout",
     "output_type": "stream",
     "text": [
      "abc\n",
      "vad\n",
      "ioa\n"
     ]
    }
   ],
   "source": [
    "for i in old:\n",
    "    if \"a\" in i:\n",
    "        print(i)\n",
    "        new.append(i)"
   ]
  },
  {
   "cell_type": "code",
   "execution_count": 77,
   "id": "6a2d9e62",
   "metadata": {},
   "outputs": [
    {
     "data": {
      "text/plain": [
       "['abc', 'vad', 'ioa']"
      ]
     },
     "execution_count": 77,
     "metadata": {},
     "output_type": "execute_result"
    }
   ],
   "source": [
    "new"
   ]
  },
  {
   "cell_type": "code",
   "execution_count": 78,
   "id": "a51d97e2",
   "metadata": {},
   "outputs": [
    {
     "data": {
      "text/plain": [
       "[1, 4, 7, 10, 13]"
      ]
     },
     "execution_count": 78,
     "metadata": {},
     "output_type": "execute_result"
    }
   ],
   "source": [
    "c=list(range(1,16,3))\n",
    "c"
   ]
  },
  {
   "cell_type": "code",
   "execution_count": 79,
   "id": "e387ea16",
   "metadata": {},
   "outputs": [],
   "source": [
    "emp=[]"
   ]
  },
  {
   "cell_type": "code",
   "execution_count": 26,
   "id": "65f8be6e",
   "metadata": {},
   "outputs": [
    {
     "data": {
      "text/plain": [
       "[1, 4, 7, 10, 13]"
      ]
     },
     "execution_count": 26,
     "metadata": {},
     "output_type": "execute_result"
    }
   ],
   "source": [
    "for i in c:\n",
    "    emp.append(i)\n",
    "emp"
   ]
  },
  {
   "cell_type": "code",
   "execution_count": 30,
   "id": "e7a3a6e8",
   "metadata": {},
   "outputs": [
    {
     "name": "stdout",
     "output_type": "stream",
     "text": [
      "1 not divisble\n",
      "7 not divisble\n",
      "13 not divisble\n"
     ]
    },
    {
     "data": {
      "text/plain": [
       "[4, 10]"
      ]
     },
     "execution_count": 30,
     "metadata": {},
     "output_type": "execute_result"
    }
   ],
   "source": [
    "for i in c:\n",
    "    if i%2==0:\n",
    "        emp.append(i)\n",
    "    else:\n",
    "        print(i,\"not divisble\")\n",
    "emp"
   ]
  },
  {
   "cell_type": "code",
   "execution_count": 31,
   "id": "95255273",
   "metadata": {},
   "outputs": [
    {
     "data": {
      "text/plain": [
       "[4, 10]"
      ]
     },
     "execution_count": 31,
     "metadata": {},
     "output_type": "execute_result"
    }
   ],
   "source": [
    "emp1=[]\n",
    "for i in c:\n",
    "    if i%2==0:\n",
    "        emp1.append(i)\n",
    "emp1"
   ]
  },
  {
   "cell_type": "code",
   "execution_count": 32,
   "id": "e6e5c858",
   "metadata": {},
   "outputs": [
    {
     "data": {
      "text/plain": [
       "[1, 4, 7, 10, 13]"
      ]
     },
     "execution_count": 32,
     "metadata": {},
     "output_type": "execute_result"
    }
   ],
   "source": [
    "c"
   ]
  },
  {
   "cell_type": "code",
   "execution_count": 33,
   "id": "64ed8284",
   "metadata": {},
   "outputs": [
    {
     "data": {
      "text/plain": [
       "[1, 7, 13]"
      ]
     },
     "execution_count": 33,
     "metadata": {},
     "output_type": "execute_result"
    }
   ],
   "source": [
    "nl=[i for i in c if i%2!=0] #newlist = [expression for item in iterable if condition == True]\n",
    "nl"
   ]
  },
  {
   "cell_type": "code",
   "execution_count": 34,
   "id": "d908ddb5",
   "metadata": {},
   "outputs": [
    {
     "data": {
      "text/plain": [
       "[1, 4, 7, 10, 13]"
      ]
     },
     "execution_count": 34,
     "metadata": {},
     "output_type": "execute_result"
    }
   ],
   "source": [
    "nk=[i for i in c]  \n",
    "nk"
   ]
  },
  {
   "cell_type": "code",
   "execution_count": 35,
   "id": "4d7d0bc0",
   "metadata": {},
   "outputs": [
    {
     "data": {
      "text/plain": [
       "['Danish', 23, 34.56, 'Vijay', 'Happy', 10]"
      ]
     },
     "execution_count": 35,
     "metadata": {},
     "output_type": "execute_result"
    }
   ],
   "source": [
    "V1"
   ]
  },
  {
   "cell_type": "code",
   "execution_count": 36,
   "id": "35fde954",
   "metadata": {},
   "outputs": [
    {
     "data": {
      "text/plain": [
       "3"
      ]
     },
     "execution_count": 36,
     "metadata": {},
     "output_type": "execute_result"
    }
   ],
   "source": [
    "V1.index(\"Vijay\")"
   ]
  },
  {
   "cell_type": "markdown",
   "id": "a7cdf39e",
   "metadata": {},
   "source": [
    "# Tuple\n",
    "- Tuple is used to store item\n",
    "- tuple are ordered but not changable"
   ]
  },
  {
   "cell_type": "code",
   "execution_count": 37,
   "id": "6a58258f",
   "metadata": {},
   "outputs": [
    {
     "data": {
      "text/plain": [
       "tuple"
      ]
     },
     "execution_count": 37,
     "metadata": {},
     "output_type": "execute_result"
    }
   ],
   "source": [
    "t1=(\"a\",\"b\",\"c\",\"d\")\n",
    "type(t1) "
   ]
  },
  {
   "cell_type": "code",
   "execution_count": 39,
   "id": "827a7948",
   "metadata": {},
   "outputs": [
    {
     "data": {
      "text/plain": [
       "4"
      ]
     },
     "execution_count": 39,
     "metadata": {},
     "output_type": "execute_result"
    }
   ],
   "source": [
    "t2=(\"Danish\",3.4,88,\"Ravi\")\n",
    "len(t2)"
   ]
  },
  {
   "cell_type": "code",
   "execution_count": 40,
   "id": "d31c0e56",
   "metadata": {},
   "outputs": [
    {
     "data": {
      "text/plain": [
       "('Danish', 3.4)"
      ]
     },
     "execution_count": 40,
     "metadata": {},
     "output_type": "execute_result"
    }
   ],
   "source": [
    "t2[0:2] # index"
   ]
  },
  {
   "cell_type": "code",
   "execution_count": 41,
   "id": "124b9cc8",
   "metadata": {},
   "outputs": [
    {
     "name": "stdout",
     "output_type": "stream",
     "text": [
      "Danish\n",
      "3.4\n",
      "88\n",
      "Ravi\n"
     ]
    }
   ],
   "source": [
    "for i in t2:\n",
    "    print(i)"
   ]
  },
  {
   "cell_type": "code",
   "execution_count": 42,
   "id": "8f491072",
   "metadata": {},
   "outputs": [
    {
     "ename": "TypeError",
     "evalue": "'tuple' object does not support item assignment",
     "output_type": "error",
     "traceback": [
      "\u001b[1;31m---------------------------------------------------------------------------\u001b[0m",
      "\u001b[1;31mTypeError\u001b[0m                                 Traceback (most recent call last)",
      "\u001b[1;32m~\\AppData\\Local\\Temp\\ipykernel_10332\\424678572.py\u001b[0m in \u001b[0;36m<module>\u001b[1;34m\u001b[0m\n\u001b[1;32m----> 1\u001b[1;33m \u001b[0mt2\u001b[0m\u001b[1;33m[\u001b[0m\u001b[1;36m2\u001b[0m\u001b[1;33m]\u001b[0m\u001b[1;33m=\u001b[0m\u001b[1;36m66\u001b[0m\u001b[1;33m\u001b[0m\u001b[1;33m\u001b[0m\u001b[0m\n\u001b[0m\u001b[0;32m      2\u001b[0m \u001b[0mt2\u001b[0m\u001b[1;33m\u001b[0m\u001b[1;33m\u001b[0m\u001b[0m\n",
      "\u001b[1;31mTypeError\u001b[0m: 'tuple' object does not support item assignment"
     ]
    }
   ],
   "source": [
    "t2[2]=66  # Tuples are immutable\n",
    "t2"
   ]
  },
  {
   "cell_type": "code",
   "execution_count": 44,
   "id": "c85c35ba",
   "metadata": {},
   "outputs": [
    {
     "data": {
      "text/plain": [
       "['Danish', 3.4, 88, 'Ravi']"
      ]
     },
     "execution_count": 44,
     "metadata": {},
     "output_type": "execute_result"
    }
   ],
   "source": [
    "c1=list(t2) #Change Tuple to List First then Change into Tuple\n",
    "c1"
   ]
  },
  {
   "cell_type": "code",
   "execution_count": 45,
   "id": "76c5dbf9",
   "metadata": {},
   "outputs": [
    {
     "data": {
      "text/plain": [
       "['Danish', 3.4, 88, 'Ravi', 'Jhon']"
      ]
     },
     "execution_count": 45,
     "metadata": {},
     "output_type": "execute_result"
    }
   ],
   "source": [
    "c1.append(\"Jhon\")\n",
    "c1"
   ]
  },
  {
   "cell_type": "code",
   "execution_count": 47,
   "id": "09d5eca0",
   "metadata": {},
   "outputs": [
    {
     "data": {
      "text/plain": [
       "('Danish', 3.4, 88, 'Ravi', 'Jhon')"
      ]
     },
     "execution_count": 47,
     "metadata": {},
     "output_type": "execute_result"
    }
   ],
   "source": [
    "t3=tuple(c1)\n",
    "t3"
   ]
  },
  {
   "cell_type": "markdown",
   "id": "e1182351",
   "metadata": {},
   "source": [
    "#### List & Tuple Unpacking"
   ]
  },
  {
   "cell_type": "code",
   "execution_count": 49,
   "id": "7102bc49",
   "metadata": {},
   "outputs": [],
   "source": [
    "lst=[\"a\",\"b\",\"c\"]\n",
    "x1,x2,x3=lst"
   ]
  },
  {
   "cell_type": "code",
   "execution_count": 50,
   "id": "da12af8d",
   "metadata": {},
   "outputs": [
    {
     "data": {
      "text/plain": [
       "'a'"
      ]
     },
     "execution_count": 50,
     "metadata": {},
     "output_type": "execute_result"
    }
   ],
   "source": [
    "x1"
   ]
  },
  {
   "cell_type": "code",
   "execution_count": 51,
   "id": "13ef5833",
   "metadata": {},
   "outputs": [
    {
     "data": {
      "text/plain": [
       "'b'"
      ]
     },
     "execution_count": 51,
     "metadata": {},
     "output_type": "execute_result"
    }
   ],
   "source": [
    "x2"
   ]
  },
  {
   "cell_type": "code",
   "execution_count": 52,
   "id": "56bb592b",
   "metadata": {},
   "outputs": [
    {
     "data": {
      "text/plain": [
       "'c'"
      ]
     },
     "execution_count": 52,
     "metadata": {},
     "output_type": "execute_result"
    }
   ],
   "source": [
    "x3"
   ]
  },
  {
   "cell_type": "code",
   "execution_count": 54,
   "id": "d5f372b1",
   "metadata": {},
   "outputs": [],
   "source": [
    "x1,*x2=lst"
   ]
  },
  {
   "cell_type": "code",
   "execution_count": 55,
   "id": "04a5734f",
   "metadata": {},
   "outputs": [
    {
     "data": {
      "text/plain": [
       "'a'"
      ]
     },
     "execution_count": 55,
     "metadata": {},
     "output_type": "execute_result"
    }
   ],
   "source": [
    "x1"
   ]
  },
  {
   "cell_type": "code",
   "execution_count": 56,
   "id": "71cedf04",
   "metadata": {},
   "outputs": [
    {
     "data": {
      "text/plain": [
       "['b', 'c']"
      ]
     },
     "execution_count": 56,
     "metadata": {},
     "output_type": "execute_result"
    }
   ],
   "source": [
    "x2"
   ]
  },
  {
   "cell_type": "code",
   "execution_count": 58,
   "id": "74cc5c5e",
   "metadata": {},
   "outputs": [],
   "source": [
    "lst1=[\"a\",\"b\",\"c\",4,6,7,10]\n",
    "y1,*y2,y3,y4=lst1"
   ]
  },
  {
   "cell_type": "code",
   "execution_count": 59,
   "id": "d062c443",
   "metadata": {},
   "outputs": [
    {
     "data": {
      "text/plain": [
       "'a'"
      ]
     },
     "execution_count": 59,
     "metadata": {},
     "output_type": "execute_result"
    }
   ],
   "source": [
    "y1"
   ]
  },
  {
   "cell_type": "code",
   "execution_count": 60,
   "id": "15f32770",
   "metadata": {},
   "outputs": [
    {
     "data": {
      "text/plain": [
       "10"
      ]
     },
     "execution_count": 60,
     "metadata": {},
     "output_type": "execute_result"
    }
   ],
   "source": [
    "y4"
   ]
  },
  {
   "cell_type": "code",
   "execution_count": 61,
   "id": "76008e59",
   "metadata": {},
   "outputs": [
    {
     "data": {
      "text/plain": [
       "7"
      ]
     },
     "execution_count": 61,
     "metadata": {},
     "output_type": "execute_result"
    }
   ],
   "source": [
    "y3"
   ]
  },
  {
   "cell_type": "code",
   "execution_count": 62,
   "id": "ad52408b",
   "metadata": {},
   "outputs": [
    {
     "data": {
      "text/plain": [
       "['b', 'c', 4, 6]"
      ]
     },
     "execution_count": 62,
     "metadata": {},
     "output_type": "execute_result"
    }
   ],
   "source": [
    "y2"
   ]
  },
  {
   "cell_type": "code",
   "execution_count": 63,
   "id": "a83745e5",
   "metadata": {},
   "outputs": [
    {
     "data": {
      "text/plain": [
       "['a', 'b', 'c']"
      ]
     },
     "execution_count": 63,
     "metadata": {},
     "output_type": "execute_result"
    }
   ],
   "source": [
    "lst"
   ]
  },
  {
   "cell_type": "code",
   "execution_count": 64,
   "id": "c4e74e34",
   "metadata": {},
   "outputs": [
    {
     "data": {
      "text/plain": [
       "['a', 'b', 'c', 'a', 'b', 'c']"
      ]
     },
     "execution_count": 64,
     "metadata": {},
     "output_type": "execute_result"
    }
   ],
   "source": [
    "lst*2"
   ]
  },
  {
   "cell_type": "code",
   "execution_count": null,
   "id": "c9799e0b",
   "metadata": {},
   "outputs": [],
   "source": []
  },
  {
   "cell_type": "code",
   "execution_count": 12,
   "id": "5726558b",
   "metadata": {},
   "outputs": [],
   "source": [
    "g=list(range(1,51))"
   ]
  },
  {
   "cell_type": "code",
   "execution_count": 18,
   "id": "3fb1edb2",
   "metadata": {},
   "outputs": [
    {
     "name": "stdout",
     "output_type": "stream",
     "text": [
      "Numbers are divisible by 2: [2, 4, 6, 8, 10, 12, 14, 16, 18, 20, 22, 24, 26, 28, 30, 32, 34, 36, 38, 40, 42, 44, 46, 48, 50]\n",
      "Numbers are divisible by 3: [3, 9, 15, 21, 27, 33, 39, 45]\n",
      "Numbers are divisible by 5: [5, 25, 35]\n",
      "Numbers neither divisible by 2 nor 3: [1, 7, 11, 13, 17, 19, 23, 29, 31, 37, 41, 43, 47, 49]\n"
     ]
    }
   ],
   "source": [
    "Num_2=[]\n",
    "Num_3=[]\n",
    "Num_5=[]\n",
    "Num=[]\n",
    "for i in g:\n",
    "    if i%2==0:\n",
    "        Num_2.append(i)\n",
    "    elif i%3==0 :\n",
    "        Num_3.append(i)\n",
    "    elif i%5==0 :\n",
    "        Num_5.append(i)\n",
    "    else:\n",
    "        Num.append(i)\n",
    "print(\"Numbers are divisible by 2:\" ,Num_2)\n",
    "print(\"Numbers are divisible by 3:\" ,Num_3)\n",
    "print(\"Numbers are divisible by 5:\" ,Num_5)\n",
    "print(\"Numbers neither divisible by 2 nor 3:\" ,Num)"
   ]
  },
  {
   "cell_type": "code",
   "execution_count": 39,
   "id": "81444afa",
   "metadata": {},
   "outputs": [
    {
     "name": "stdout",
     "output_type": "stream",
     "text": [
      "Numbers are divisible by 2: [2, 4, 6, 8, 10, 12, 14, 16, 18, 20, 22, 24, 26, 28, 30, 32, 34, 36, 38, 40, 42, 44, 46, 48, 50]\n",
      "Numbers are divisible by 2&3: [6, 12, 18, 24, 36, 42, 48]\n",
      "Numbers are divisible by 2&5: [10, 20, 40, 50]\n",
      "Numbers divisible by 2,3&5: [30]\n",
      "Numbers are divisible by 3: [3, 9, 15, 21, 27, 33, 39, 45]\n",
      "Numbers are divisible by 5: [5, 25, 35]\n",
      "Numbers are divisible by 3&5: [15, 45]\n",
      "Numbers not divisible by 2,3,5: [1, 7, 11, 13, 17, 19, 23, 29, 31, 37, 41, 43, 47, 49]\n"
     ]
    }
   ],
   "source": [
    "Num_2=[]\n",
    "Num_2and3=[]\n",
    "Num_2and5=[]\n",
    "Num_3=[]\n",
    "Num_5=[]\n",
    "Num_3and5=[]\n",
    "Num_2and3and5=[]\n",
    "Num=[]\n",
    "for i in g:\n",
    "    if i%2==0:\n",
    "        Num_2.append(i)\n",
    "        if i%2==0 and i%3==0 and i%5==0:\n",
    "            Num_2and3and5.append(i)\n",
    "        elif i%3==0 :\n",
    "            Num_2and3.append(i) \n",
    "        elif i%5==0 :\n",
    "            Num_2and5.append(i)\n",
    "    elif i%3==0 :\n",
    "        Num_3.append(i)\n",
    "        if i%5==0 :\n",
    "            Num_3and5.append(i) \n",
    "    elif i%5==0 :\n",
    "        Num_5.append(i)\n",
    "    else:\n",
    "        Num.append(i)\n",
    "print(\"Numbers are divisible by 2:\" ,Num_2)\n",
    "print(\"Numbers are divisible by 2&3:\" ,Num_2and3)\n",
    "print(\"Numbers are divisible by 2&5:\" ,Num_2and5)\n",
    "print(\"Numbers divisible by 2,3&5:\" ,Num_2and3and5)\n",
    "print(\"Numbers are divisible by 3:\" ,Num_3)\n",
    "print(\"Numbers are divisible by 5:\" ,Num_5)\n",
    "print(\"Numbers are divisible by 3&5:\" ,Num_3and5)\n",
    "print(\"Numbers not divisible by 2,3,5:\" ,Num)"
   ]
  },
  {
   "cell_type": "code",
   "execution_count": 10,
   "id": "967a50de",
   "metadata": {},
   "outputs": [
    {
     "name": "stdout",
     "output_type": "stream",
     "text": [
      "Capital Letters ['A', 'B', 'C', 'D']\n",
      "Small Letters: ['w', 'x', 'y', 'z']\n",
      "Numbers: [1, 2, 3, 4]\n",
      "Special ['!', '@', '$', '&']\n"
     ]
    }
   ],
   "source": [
    "List=[\"A\",\"B\",\"C\",\"D\",\"w\",\"x\",\"y\",\"z\",1,2,3,4,\"!\",\"@\",\"$\",\"&\"]\n",
    "lst1=[]\n",
    "lst2=[]\n",
    "lst3=[]\n",
    "lst4=[]\n",
    "for i in range(0,len(List)):\n",
    "    if str(List[i]).isupper():\n",
    "        lst1.append(List[i])\n",
    "    elif str(List[i]).islower():\n",
    "        lst2.append(List[i])\n",
    "    elif str(List[i]).isdigit():\n",
    "        lst3.append(List[i])\n",
    "    else:\n",
    "        lst4.append(List[i])\n",
    "print(\"Capital Letters\" ,lst1)\n",
    "print(\"Small Letters:\" ,lst2)\n",
    "print(\"Numbers:\" ,lst3)\n",
    "print(\"Special Char\" ,lst4)"
   ]
  },
  {
   "cell_type": "code",
   "execution_count": null,
   "id": "e3b671c9",
   "metadata": {},
   "outputs": [],
   "source": []
  },
  {
   "cell_type": "code",
   "execution_count": null,
   "id": "62bd797b",
   "metadata": {},
   "outputs": [],
   "source": []
  }
 ],
 "metadata": {
  "kernelspec": {
   "display_name": "Python 3 (ipykernel)",
   "language": "python",
   "name": "python3"
  },
  "language_info": {
   "codemirror_mode": {
    "name": "ipython",
    "version": 3
   },
   "file_extension": ".py",
   "mimetype": "text/x-python",
   "name": "python",
   "nbconvert_exporter": "python",
   "pygments_lexer": "ipython3",
   "version": "3.9.13"
  }
 },
 "nbformat": 4,
 "nbformat_minor": 5
}
