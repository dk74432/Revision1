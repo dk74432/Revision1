{
 "cells": [
  {
   "cell_type": "markdown",
   "id": "4bb2f07f",
   "metadata": {},
   "source": [
    "# SET"
   ]
  },
  {
   "cell_type": "markdown",
   "id": "c73a75c7",
   "metadata": {},
   "source": [
    "Set is collection of data\n",
    "- Unchangable (items can't be chage but add or remove)\n",
    "- Unindexed (No indexing is present)\n",
    "- Non-Sequencial"
   ]
  },
  {
   "cell_type": "code",
   "execution_count": 26,
   "id": "6d2ba36a",
   "metadata": {},
   "outputs": [
    {
     "data": {
      "text/plain": [
       "set()"
      ]
     },
     "execution_count": 26,
     "metadata": {},
     "output_type": "execute_result"
    }
   ],
   "source": [
    "Set=set()\n",
    "Set"
   ]
  },
  {
   "cell_type": "code",
   "execution_count": 27,
   "id": "d2014b20",
   "metadata": {},
   "outputs": [
    {
     "data": {
      "text/plain": [
       "{34, 93.2, 'Danish', 'Suraj'}"
      ]
     },
     "execution_count": 27,
     "metadata": {},
     "output_type": "execute_result"
    }
   ],
   "source": [
    "set1={\"Danish\",34,93.2,\"Suraj\"}\n",
    "set1"
   ]
  },
  {
   "cell_type": "code",
   "execution_count": 28,
   "id": "85679d03",
   "metadata": {},
   "outputs": [
    {
     "data": {
      "text/plain": [
       "set"
      ]
     },
     "execution_count": 28,
     "metadata": {},
     "output_type": "execute_result"
    }
   ],
   "source": [
    "type(set1)"
   ]
  },
  {
   "cell_type": "code",
   "execution_count": 29,
   "id": "b0d30489",
   "metadata": {},
   "outputs": [
    {
     "ename": "TypeError",
     "evalue": "'set' object does not support item assignment",
     "output_type": "error",
     "traceback": [
      "\u001b[1;31m---------------------------------------------------------------------------\u001b[0m",
      "\u001b[1;31mTypeError\u001b[0m                                 Traceback (most recent call last)",
      "\u001b[1;32m~\\AppData\\Local\\Temp\\ipykernel_11052\\4289909127.py\u001b[0m in \u001b[0;36m<module>\u001b[1;34m\u001b[0m\n\u001b[1;32m----> 1\u001b[1;33m \u001b[0mset1\u001b[0m\u001b[1;33m[\u001b[0m\u001b[1;36m3\u001b[0m\u001b[1;33m]\u001b[0m\u001b[1;33m=\u001b[0m\u001b[1;34m\"Harsh\"\u001b[0m\u001b[1;33m\u001b[0m\u001b[1;33m\u001b[0m\u001b[0m\n\u001b[0m\u001b[0;32m      2\u001b[0m \u001b[0mset1\u001b[0m\u001b[1;33m\u001b[0m\u001b[1;33m\u001b[0m\u001b[0m\n",
      "\u001b[1;31mTypeError\u001b[0m: 'set' object does not support item assignment"
     ]
    }
   ],
   "source": [
    "set1[3]=\"Harsh\"\n",
    "set1"
   ]
  },
  {
   "cell_type": "code",
   "execution_count": 30,
   "id": "0c390054",
   "metadata": {},
   "outputs": [
    {
     "data": {
      "text/plain": [
       "4"
      ]
     },
     "execution_count": 30,
     "metadata": {},
     "output_type": "execute_result"
    }
   ],
   "source": [
    "len(set1)"
   ]
  },
  {
   "cell_type": "code",
   "execution_count": 31,
   "id": "8c17b2a0",
   "metadata": {},
   "outputs": [
    {
     "data": {
      "text/plain": [
       "{34, 93.2, 'Danish', 'Suraj'}"
      ]
     },
     "execution_count": 31,
     "metadata": {},
     "output_type": "execute_result"
    }
   ],
   "source": [
    "set1"
   ]
  },
  {
   "cell_type": "code",
   "execution_count": 32,
   "id": "54d36e54",
   "metadata": {},
   "outputs": [
    {
     "name": "stdout",
     "output_type": "stream",
     "text": [
      "Suraj\n",
      "34\n",
      "Danish\n",
      "93.2\n"
     ]
    }
   ],
   "source": [
    "for i in set1:\n",
    "    print(i)"
   ]
  },
  {
   "cell_type": "markdown",
   "id": "39bcba62",
   "metadata": {},
   "source": [
    "### Set is  an unordered group of elements as it can change their order"
   ]
  },
  {
   "cell_type": "code",
   "execution_count": 33,
   "id": "d9832bb9",
   "metadata": {},
   "outputs": [
    {
     "data": {
      "text/plain": [
       "{34, 93.2, 'Danish', 'Suraj'}"
      ]
     },
     "execution_count": 33,
     "metadata": {},
     "output_type": "execute_result"
    }
   ],
   "source": [
    "set1 # order Change"
   ]
  },
  {
   "cell_type": "code",
   "execution_count": 34,
   "id": "feb62e26",
   "metadata": {},
   "outputs": [
    {
     "name": "stdout",
     "output_type": "stream",
     "text": [
      "Suraj\n",
      "34\n",
      "Danish\n",
      "93.2\n"
     ]
    }
   ],
   "source": [
    "for i in set1:\n",
    "    print(i)"
   ]
  },
  {
   "cell_type": "markdown",
   "id": "31c58185",
   "metadata": {},
   "source": [
    "#### Add (Add single Element)"
   ]
  },
  {
   "cell_type": "code",
   "execution_count": 35,
   "id": "89d50247",
   "metadata": {},
   "outputs": [
    {
     "data": {
      "text/plain": [
       "{34, 93.2, 'Danish', 'Faiz', 'Suraj'}"
      ]
     },
     "execution_count": 35,
     "metadata": {},
     "output_type": "execute_result"
    }
   ],
   "source": [
    "set1.add(\"Faiz\")\n",
    "set1"
   ]
  },
  {
   "cell_type": "code",
   "execution_count": 36,
   "id": "c3b8ecb2",
   "metadata": {},
   "outputs": [
    {
     "name": "stdout",
     "output_type": "stream",
     "text": [
      "34\n",
      "Suraj\n",
      "Danish\n",
      "93.2\n",
      "Faiz\n"
     ]
    }
   ],
   "source": [
    "for i in set1:\n",
    "    print(i)"
   ]
  },
  {
   "cell_type": "code",
   "execution_count": 37,
   "id": "66a9ab77",
   "metadata": {},
   "outputs": [
    {
     "data": {
      "text/plain": [
       "{21.5, 33, 'Danish', 'Kavya'}"
      ]
     },
     "execution_count": 37,
     "metadata": {},
     "output_type": "execute_result"
    }
   ],
   "source": [
    "set2={\"Kavya\",33,21.5,\"Danish\",\"Danish\"}\n",
    "set2"
   ]
  },
  {
   "cell_type": "markdown",
   "id": "14f9ef7e",
   "metadata": {},
   "source": [
    "###### Update (Add Multiple  Element)"
   ]
  },
  {
   "cell_type": "code",
   "execution_count": 38,
   "id": "b41e8162",
   "metadata": {},
   "outputs": [],
   "source": [
    "set1.update(set2)"
   ]
  },
  {
   "cell_type": "code",
   "execution_count": 39,
   "id": "13156b96",
   "metadata": {},
   "outputs": [
    {
     "data": {
      "text/plain": [
       "{21.5, 33, 34, 93.2, 'Danish', 'Faiz', 'Kavya', 'Suraj'}"
      ]
     },
     "execution_count": 39,
     "metadata": {},
     "output_type": "execute_result"
    }
   ],
   "source": [
    "set1"
   ]
  },
  {
   "cell_type": "code",
   "execution_count": 40,
   "id": "874ce05f",
   "metadata": {},
   "outputs": [
    {
     "data": {
      "text/plain": [
       "{1, 2, 21.5, 3, 33, 34, 93.2, 'Danish', 'Faiz', 'Kavya', 'Suraj'}"
      ]
     },
     "execution_count": 40,
     "metadata": {},
     "output_type": "execute_result"
    }
   ],
   "source": [
    "set1.update([1,1,1,2,3])  # adding all the items of list into the set\n",
    "set1"
   ]
  },
  {
   "cell_type": "code",
   "execution_count": 42,
   "id": "8833f71c",
   "metadata": {},
   "outputs": [
    {
     "data": {
      "text/plain": [
       "{1,\n",
       " 11,\n",
       " 12,\n",
       " 2,\n",
       " 21.5,\n",
       " 22,\n",
       " 3,\n",
       " 31,\n",
       " 33,\n",
       " 34,\n",
       " 93.2,\n",
       " 'Danish',\n",
       " 'Faiz',\n",
       " 'Kavya',\n",
       " 'Suraj'}"
      ]
     },
     "execution_count": 42,
     "metadata": {},
     "output_type": "execute_result"
    }
   ],
   "source": [
    "set1.update(tuple([1,11,12,22,31]))  # adding all the items of tuple into the set\n",
    "set1"
   ]
  },
  {
   "cell_type": "markdown",
   "id": "9499ee36",
   "metadata": {},
   "source": [
    "#### Remove:  it remove the item,otherwise the item is not present it throw an error"
   ]
  },
  {
   "cell_type": "code",
   "execution_count": 43,
   "id": "ae125fe7",
   "metadata": {},
   "outputs": [
    {
     "ename": "KeyError",
     "evalue": "0",
     "output_type": "error",
     "traceback": [
      "\u001b[1;31m---------------------------------------------------------------------------\u001b[0m",
      "\u001b[1;31mKeyError\u001b[0m                                  Traceback (most recent call last)",
      "\u001b[1;32m~\\AppData\\Local\\Temp\\ipykernel_11052\\2301183689.py\u001b[0m in \u001b[0;36m<module>\u001b[1;34m\u001b[0m\n\u001b[1;32m----> 1\u001b[1;33m \u001b[0mset1\u001b[0m\u001b[1;33m.\u001b[0m\u001b[0mremove\u001b[0m\u001b[1;33m(\u001b[0m\u001b[1;36m0\u001b[0m\u001b[1;33m)\u001b[0m\u001b[1;33m\u001b[0m\u001b[1;33m\u001b[0m\u001b[0m\n\u001b[0m",
      "\u001b[1;31mKeyError\u001b[0m: 0"
     ]
    }
   ],
   "source": [
    "set1.remove(0)"
   ]
  },
  {
   "cell_type": "code",
   "execution_count": 44,
   "id": "6c515fe0",
   "metadata": {},
   "outputs": [],
   "source": [
    "set1.remove(\"Danish\")"
   ]
  },
  {
   "cell_type": "code",
   "execution_count": 45,
   "id": "5c0ee637",
   "metadata": {},
   "outputs": [
    {
     "data": {
      "text/plain": [
       "{1, 11, 12, 2, 21.5, 22, 3, 31, 33, 34, 93.2, 'Faiz', 'Kavya', 'Suraj'}"
      ]
     },
     "execution_count": 45,
     "metadata": {},
     "output_type": "execute_result"
    }
   ],
   "source": [
    "set1"
   ]
  },
  {
   "cell_type": "markdown",
   "id": "82021b23",
   "metadata": {},
   "source": [
    "#### Discard:the item if not present it doesn't throw an error \n",
    "Syntax: set.discard(element)"
   ]
  },
  {
   "cell_type": "code",
   "execution_count": 64,
   "id": "92f0a524",
   "metadata": {},
   "outputs": [],
   "source": [
    "set1.discard(0) "
   ]
  },
  {
   "cell_type": "code",
   "execution_count": 65,
   "id": "4e66f617",
   "metadata": {},
   "outputs": [
    {
     "data": {
      "text/plain": [
       "{1, 11, 12, 2, 21.5, 22, 3, 31, 33, 34, 93.2, 'Faiz', 'Suraj'}"
      ]
     },
     "execution_count": 65,
     "metadata": {},
     "output_type": "execute_result"
    }
   ],
   "source": [
    "set1.discard(\"Kavya\") \n",
    "set1"
   ]
  },
  {
   "cell_type": "code",
   "execution_count": 66,
   "id": "59678deb",
   "metadata": {},
   "outputs": [
    {
     "data": {
      "text/plain": [
       "'Suraj'"
      ]
     },
     "execution_count": 66,
     "metadata": {},
     "output_type": "execute_result"
    }
   ],
   "source": [
    "x2=set1.pop()\n",
    "x2"
   ]
  },
  {
   "cell_type": "code",
   "execution_count": 67,
   "id": "ef74a431",
   "metadata": {},
   "outputs": [],
   "source": [
    "set3={22,44,55,66}"
   ]
  },
  {
   "cell_type": "code",
   "execution_count": 68,
   "id": "ccc1542a",
   "metadata": {},
   "outputs": [
    {
     "data": {
      "text/plain": [
       "set()"
      ]
     },
     "execution_count": 68,
     "metadata": {},
     "output_type": "execute_result"
    }
   ],
   "source": [
    "set3.clear()\n",
    "set3"
   ]
  },
  {
   "cell_type": "code",
   "execution_count": 69,
   "id": "8207fc83",
   "metadata": {},
   "outputs": [],
   "source": [
    "del set3"
   ]
  },
  {
   "cell_type": "code",
   "execution_count": 70,
   "id": "b6b57c8f",
   "metadata": {},
   "outputs": [
    {
     "ename": "NameError",
     "evalue": "name 'set3' is not defined",
     "output_type": "error",
     "traceback": [
      "\u001b[1;31m---------------------------------------------------------------------------\u001b[0m",
      "\u001b[1;31mNameError\u001b[0m                                 Traceback (most recent call last)",
      "\u001b[1;32m~\\AppData\\Local\\Temp\\ipykernel_7412\\1790393537.py\u001b[0m in \u001b[0;36m<module>\u001b[1;34m\u001b[0m\n\u001b[1;32m----> 1\u001b[1;33m \u001b[0mset3\u001b[0m\u001b[1;33m\u001b[0m\u001b[1;33m\u001b[0m\u001b[0m\n\u001b[0m",
      "\u001b[1;31mNameError\u001b[0m: name 'set3' is not defined"
     ]
    }
   ],
   "source": [
    "set3"
   ]
  },
  {
   "cell_type": "markdown",
   "id": "2510e7c8",
   "metadata": {},
   "source": [
    "### Union"
   ]
  },
  {
   "cell_type": "code",
   "execution_count": 71,
   "id": "4b4b0d6b",
   "metadata": {},
   "outputs": [],
   "source": [
    "set4={\"j\",\"K\",\"l\"}\n",
    "set5={3,4,5}"
   ]
  },
  {
   "cell_type": "code",
   "execution_count": 72,
   "id": "e4ed9fa1",
   "metadata": {},
   "outputs": [
    {
     "data": {
      "text/plain": [
       "{3, 4, 5, 'K', 'j', 'l'}"
      ]
     },
     "execution_count": 72,
     "metadata": {},
     "output_type": "execute_result"
    }
   ],
   "source": [
    "r=set4.union(set5)\n",
    "r"
   ]
  },
  {
   "cell_type": "code",
   "execution_count": 73,
   "id": "26ff504b",
   "metadata": {},
   "outputs": [],
   "source": [
    "set4={\"j\",\"K\",\"l\",5}\n",
    "set5={3,4,5}"
   ]
  },
  {
   "cell_type": "code",
   "execution_count": 74,
   "id": "a708031e",
   "metadata": {},
   "outputs": [
    {
     "data": {
      "text/plain": [
       "{5}"
      ]
     },
     "execution_count": 74,
     "metadata": {},
     "output_type": "execute_result"
    }
   ],
   "source": [
    "r1=set4.intersection(set5)\n",
    "r1"
   ]
  },
  {
   "cell_type": "code",
   "execution_count": 75,
   "id": "f73ef222",
   "metadata": {},
   "outputs": [],
   "source": [
    "set4.intersection_update(set5) #it keeps only the common element"
   ]
  },
  {
   "cell_type": "code",
   "execution_count": 76,
   "id": "d541a2f2",
   "metadata": {},
   "outputs": [
    {
     "data": {
      "text/plain": [
       "{5}"
      ]
     },
     "execution_count": 76,
     "metadata": {},
     "output_type": "execute_result"
    }
   ],
   "source": [
    "set4"
   ]
  },
  {
   "cell_type": "code",
   "execution_count": 77,
   "id": "8ca92a79",
   "metadata": {},
   "outputs": [],
   "source": [
    "set4={\"j\",\"K\",\"l\",5}\n",
    "set5={3,4,5}"
   ]
  },
  {
   "cell_type": "code",
   "execution_count": 78,
   "id": "ecabe674",
   "metadata": {},
   "outputs": [
    {
     "data": {
      "text/plain": [
       "{3, 4, 'K', 'j', 'l'}"
      ]
     },
     "execution_count": 78,
     "metadata": {},
     "output_type": "execute_result"
    }
   ],
   "source": [
    "r3=set4.symmetric_difference(set5)# keep all but not the duplicate\n",
    "r3"
   ]
  },
  {
   "cell_type": "code",
   "execution_count": 79,
   "id": "0e9f8d89",
   "metadata": {},
   "outputs": [],
   "source": [
    "set4.symmetric_difference_update(set5)"
   ]
  },
  {
   "cell_type": "code",
   "execution_count": 80,
   "id": "f8d8ab4f",
   "metadata": {},
   "outputs": [
    {
     "data": {
      "text/plain": [
       "{3, 4, 'K', 'j', 'l'}"
      ]
     },
     "execution_count": 80,
     "metadata": {},
     "output_type": "execute_result"
    }
   ],
   "source": [
    "set4"
   ]
  },
  {
   "cell_type": "code",
   "execution_count": 81,
   "id": "e4901bf7",
   "metadata": {},
   "outputs": [],
   "source": [
    "e1={\"a\",\"b\",\"c\"}\n",
    "e2={1,2,\"c\"}"
   ]
  },
  {
   "cell_type": "code",
   "execution_count": 82,
   "id": "825d7891",
   "metadata": {},
   "outputs": [
    {
     "data": {
      "text/plain": [
       "{'a', 'b'}"
      ]
     },
     "execution_count": 82,
     "metadata": {},
     "output_type": "execute_result"
    }
   ],
   "source": [
    "t=e1.difference(e2)#That only exist in set 1 but not in set2\n",
    "t"
   ]
  },
  {
   "cell_type": "code",
   "execution_count": 83,
   "id": "fb15c439",
   "metadata": {},
   "outputs": [],
   "source": [
    "#difference_update"
   ]
  },
  {
   "cell_type": "code",
   "execution_count": 84,
   "id": "55255b84",
   "metadata": {},
   "outputs": [],
   "source": [
    "w={1,2,3,4,7,9,12,43} #v is a subset of\n",
    "v={2,3,66}"
   ]
  },
  {
   "cell_type": "code",
   "execution_count": 85,
   "id": "bc6c16b7",
   "metadata": {},
   "outputs": [
    {
     "data": {
      "text/plain": [
       "False"
      ]
     },
     "execution_count": 85,
     "metadata": {},
     "output_type": "execute_result"
    }
   ],
   "source": [
    "k=v.issubset(w) #v is a subset of w\n",
    "k"
   ]
  },
  {
   "cell_type": "code",
   "execution_count": 86,
   "id": "fbe0e80e",
   "metadata": {},
   "outputs": [
    {
     "data": {
      "text/plain": [
       "False"
      ]
     },
     "execution_count": 86,
     "metadata": {},
     "output_type": "execute_result"
    }
   ],
   "source": [
    "k1=w.issuperset(v) #v is a subset of w\n",
    "k1"
   ]
  },
  {
   "cell_type": "markdown",
   "id": "0b2323b1",
   "metadata": {},
   "source": [
    "# Dictionary"
   ]
  },
  {
   "cell_type": "markdown",
   "id": "a022bd3e",
   "metadata": {},
   "source": [
    "- it is collection of Key,Value pair\n",
    "- It's ordered ,changeable\n",
    "- it's keys are not duplicate but value can be duplicate"
   ]
  },
  {
   "cell_type": "code",
   "execution_count": 87,
   "id": "20991e73",
   "metadata": {},
   "outputs": [
    {
     "data": {
      "text/plain": [
       "{0: 'Danish', 1: 'Agra', 'l1': 23}"
      ]
     },
     "execution_count": 87,
     "metadata": {},
     "output_type": "execute_result"
    }
   ],
   "source": [
    "dict1={\n",
    "    0:\"Danish\",1:\"Agra\",\"l1\":23\n",
    "}\n",
    "dict1"
   ]
  },
  {
   "cell_type": "code",
   "execution_count": 88,
   "id": "49d2c86e",
   "metadata": {},
   "outputs": [
    {
     "data": {
      "text/plain": [
       "dict"
      ]
     },
     "execution_count": 88,
     "metadata": {},
     "output_type": "execute_result"
    }
   ],
   "source": [
    "type(dict1)"
   ]
  },
  {
   "cell_type": "code",
   "execution_count": 89,
   "id": "46864ce0",
   "metadata": {},
   "outputs": [
    {
     "data": {
      "text/plain": [
       "{0: ['Danish', 1, 34], 1: ('Agra', 56, 21), 'l1': {23, 34, 'kunal'}}"
      ]
     },
     "execution_count": 89,
     "metadata": {},
     "output_type": "execute_result"
    }
   ],
   "source": [
    "dict2={\n",
    "    0:[\"Danish\",1,34],1:(\"Agra\",56,21),\"l1\":{23,34,\"kunal\"}\n",
    "}\n",
    "dict2"
   ]
  },
  {
   "cell_type": "code",
   "execution_count": 90,
   "id": "d629c46c",
   "metadata": {},
   "outputs": [
    {
     "data": {
      "text/plain": [
       "('Agra', 56, 21)"
      ]
     },
     "execution_count": 90,
     "metadata": {},
     "output_type": "execute_result"
    }
   ],
   "source": [
    "dict2[1]"
   ]
  },
  {
   "cell_type": "code",
   "execution_count": 91,
   "id": "c6602ee3",
   "metadata": {},
   "outputs": [
    {
     "data": {
      "text/plain": [
       "tuple"
      ]
     },
     "execution_count": 91,
     "metadata": {},
     "output_type": "execute_result"
    }
   ],
   "source": [
    "type(dict2[1])"
   ]
  },
  {
   "cell_type": "code",
   "execution_count": 92,
   "id": "ba31c4d2",
   "metadata": {},
   "outputs": [
    {
     "data": {
      "text/plain": [
       "{0: 'queen', 1: 'Agra', 'l1': 23, 'd': 'Agra'}"
      ]
     },
     "execution_count": 92,
     "metadata": {},
     "output_type": "execute_result"
    }
   ],
   "source": [
    "dict1={\n",
    "    0:\"Danish\",1:\"Agra\",\"l1\":23,0:\"queen\",\"d\":\"Agra\"\n",
    "}\n",
    "dict1"
   ]
  },
  {
   "cell_type": "code",
   "execution_count": 93,
   "id": "98ed2844",
   "metadata": {},
   "outputs": [
    {
     "data": {
      "text/plain": [
       "'Agra'"
      ]
     },
     "execution_count": 93,
     "metadata": {},
     "output_type": "execute_result"
    }
   ],
   "source": [
    "s=dict1.get(1)\n",
    "s"
   ]
  },
  {
   "cell_type": "code",
   "execution_count": 94,
   "id": "ea2781ba",
   "metadata": {},
   "outputs": [
    {
     "data": {
      "text/plain": [
       "[0, 1, 'l1', 'd']"
      ]
     },
     "execution_count": 94,
     "metadata": {},
     "output_type": "execute_result"
    }
   ],
   "source": [
    "s1=list(dict1.keys())\n",
    "s1"
   ]
  },
  {
   "cell_type": "code",
   "execution_count": 95,
   "id": "1bca13bc",
   "metadata": {},
   "outputs": [
    {
     "data": {
      "text/plain": [
       "dict_values(['queen', 'Agra', 23, 'Agra'])"
      ]
     },
     "execution_count": 95,
     "metadata": {},
     "output_type": "execute_result"
    }
   ],
   "source": [
    "s2=dict1.values()\n",
    "s2"
   ]
  },
  {
   "cell_type": "code",
   "execution_count": 96,
   "id": "734b19dc",
   "metadata": {},
   "outputs": [
    {
     "data": {
      "text/plain": [
       "['queen', 'Agra', 23, 'Agra']"
      ]
     },
     "execution_count": 96,
     "metadata": {},
     "output_type": "execute_result"
    }
   ],
   "source": [
    "s2=list(dict1.values()) \n",
    "s2"
   ]
  },
  {
   "cell_type": "code",
   "execution_count": 97,
   "id": "73dc27d4",
   "metadata": {},
   "outputs": [
    {
     "data": {
      "text/plain": [
       "{0: 'queen', 1: 'Agra', 'l1': 'Varun', 'd': 'Agra'}"
      ]
     },
     "execution_count": 97,
     "metadata": {},
     "output_type": "execute_result"
    }
   ],
   "source": [
    "dict1[\"l1\"]=\"Varun\"\n",
    "dict1"
   ]
  },
  {
   "cell_type": "code",
   "execution_count": 98,
   "id": "bd5a56db",
   "metadata": {},
   "outputs": [
    {
     "data": {
      "text/plain": [
       "{0: 'queen', 1: 'Agra', 'l1': 'Varun', 'd': 'Agra', 'e': 23}"
      ]
     },
     "execution_count": 98,
     "metadata": {},
     "output_type": "execute_result"
    }
   ],
   "source": [
    "dict1[\"e\"]=23 #New key value pair \n",
    "dict1"
   ]
  },
  {
   "cell_type": "code",
   "execution_count": 99,
   "id": "8c4408ce",
   "metadata": {},
   "outputs": [
    {
     "data": {
      "text/plain": [
       "dict_items([(0, 'queen'), (1, 'Agra'), ('l1', 'Varun'), ('d', 'Agra'), ('e', 23)])"
      ]
     },
     "execution_count": 99,
     "metadata": {},
     "output_type": "execute_result"
    }
   ],
   "source": [
    "dict1.items()"
   ]
  },
  {
   "cell_type": "code",
   "execution_count": 100,
   "id": "c2714224",
   "metadata": {},
   "outputs": [
    {
     "data": {
      "text/plain": [
       "{0: 'queen',\n",
       " 1: 'Agra',\n",
       " 'l1': 'Varun',\n",
       " 'd': 'Agra',\n",
       " 'e': 23,\n",
       " 'q': 34,\n",
       " 3: 'Gaurav'}"
      ]
     },
     "execution_count": 100,
     "metadata": {},
     "output_type": "execute_result"
    }
   ],
   "source": [
    "dict1.update({\"q\":34,3:\"Gaurav\"})\n",
    "dict1"
   ]
  },
  {
   "cell_type": "code",
   "execution_count": 101,
   "id": "a18ffba8",
   "metadata": {},
   "outputs": [
    {
     "data": {
      "text/plain": [
       "{2: 'King', 3: 23}"
      ]
     },
     "execution_count": 101,
     "metadata": {},
     "output_type": "execute_result"
    }
   ],
   "source": [
    "dict4={2:\"King\",3:23}\n",
    "dict4"
   ]
  },
  {
   "cell_type": "code",
   "execution_count": 102,
   "id": "7ab929b6",
   "metadata": {},
   "outputs": [],
   "source": [
    "dict1.update(dict4)"
   ]
  },
  {
   "cell_type": "code",
   "execution_count": 103,
   "id": "45d0bdfa",
   "metadata": {},
   "outputs": [
    {
     "data": {
      "text/plain": [
       "{0: 'queen',\n",
       " 1: 'Agra',\n",
       " 'l1': 'Varun',\n",
       " 'd': 'Agra',\n",
       " 'e': 23,\n",
       " 'q': 34,\n",
       " 3: 23,\n",
       " 2: 'King'}"
      ]
     },
     "execution_count": 103,
     "metadata": {},
     "output_type": "execute_result"
    }
   ],
   "source": [
    "dict1"
   ]
  },
  {
   "cell_type": "code",
   "execution_count": 104,
   "id": "d6bf9c5c",
   "metadata": {},
   "outputs": [
    {
     "data": {
      "text/plain": [
       "'Agra'"
      ]
     },
     "execution_count": 104,
     "metadata": {},
     "output_type": "execute_result"
    }
   ],
   "source": [
    "dict1.pop(1)"
   ]
  },
  {
   "cell_type": "code",
   "execution_count": 105,
   "id": "5f967100",
   "metadata": {},
   "outputs": [
    {
     "data": {
      "text/plain": [
       "{0: 'queen', 'l1': 'Varun', 'd': 'Agra', 'e': 23, 'q': 34, 3: 23, 2: 'King'}"
      ]
     },
     "execution_count": 105,
     "metadata": {},
     "output_type": "execute_result"
    }
   ],
   "source": [
    "dict1"
   ]
  },
  {
   "cell_type": "code",
   "execution_count": 106,
   "id": "de5c3381",
   "metadata": {},
   "outputs": [
    {
     "data": {
      "text/plain": [
       "{0: 'queen', 'l1': 'Varun', 'd': 'Agra', 'e': 23, 'q': 34, 3: 23}"
      ]
     },
     "execution_count": 106,
     "metadata": {},
     "output_type": "execute_result"
    }
   ],
   "source": [
    "dict1.popitem()# rmove the last item\n",
    "dict1"
   ]
  },
  {
   "cell_type": "code",
   "execution_count": 107,
   "id": "3b795d5e",
   "metadata": {},
   "outputs": [
    {
     "data": {
      "text/plain": [
       "{0: 'queen', 'l1': 'Varun', 'd': 'Agra', 'e': 23, 'q': 34, 3: 23}"
      ]
     },
     "execution_count": 107,
     "metadata": {},
     "output_type": "execute_result"
    }
   ],
   "source": [
    "p=dict1.copy()\n",
    "p"
   ]
  },
  {
   "cell_type": "code",
   "execution_count": 108,
   "id": "84ff32ff",
   "metadata": {},
   "outputs": [],
   "source": [
    "p.clear()"
   ]
  },
  {
   "cell_type": "code",
   "execution_count": 109,
   "id": "a47c575e",
   "metadata": {},
   "outputs": [
    {
     "data": {
      "text/plain": [
       "{}"
      ]
     },
     "execution_count": 109,
     "metadata": {},
     "output_type": "execute_result"
    }
   ],
   "source": [
    "p"
   ]
  },
  {
   "cell_type": "code",
   "execution_count": 110,
   "id": "ab6fe58e",
   "metadata": {},
   "outputs": [],
   "source": [
    "del p"
   ]
  },
  {
   "cell_type": "code",
   "execution_count": 111,
   "id": "0de84f16",
   "metadata": {},
   "outputs": [
    {
     "ename": "NameError",
     "evalue": "name 'p' is not defined",
     "output_type": "error",
     "traceback": [
      "\u001b[1;31m---------------------------------------------------------------------------\u001b[0m",
      "\u001b[1;31mNameError\u001b[0m                                 Traceback (most recent call last)",
      "\u001b[1;32m~\\AppData\\Local\\Temp\\ipykernel_7412\\626125819.py\u001b[0m in \u001b[0;36m<module>\u001b[1;34m\u001b[0m\n\u001b[1;32m----> 1\u001b[1;33m \u001b[0mp\u001b[0m\u001b[1;33m\u001b[0m\u001b[1;33m\u001b[0m\u001b[0m\n\u001b[0m",
      "\u001b[1;31mNameError\u001b[0m: name 'p' is not defined"
     ]
    }
   ],
   "source": [
    "p"
   ]
  },
  {
   "cell_type": "code",
   "execution_count": 112,
   "id": "35b18216",
   "metadata": {},
   "outputs": [
    {
     "data": {
      "text/plain": [
       "{}"
      ]
     },
     "execution_count": 112,
     "metadata": {},
     "output_type": "execute_result"
    }
   ],
   "source": [
    "d3={}\n",
    "d3"
   ]
  },
  {
   "cell_type": "code",
   "execution_count": 113,
   "id": "519e2e31",
   "metadata": {},
   "outputs": [
    {
     "data": {
      "text/plain": [
       "dict"
      ]
     },
     "execution_count": 113,
     "metadata": {},
     "output_type": "execute_result"
    }
   ],
   "source": [
    "type(d3)"
   ]
  },
  {
   "cell_type": "code",
   "execution_count": 114,
   "id": "6e0ce580",
   "metadata": {},
   "outputs": [],
   "source": [
    "s={2,3,5}\n",
    "s1=set()"
   ]
  },
  {
   "cell_type": "code",
   "execution_count": 115,
   "id": "1297e575",
   "metadata": {},
   "outputs": [
    {
     "data": {
      "text/plain": [
       "{2, 3, 5}"
      ]
     },
     "execution_count": 115,
     "metadata": {},
     "output_type": "execute_result"
    }
   ],
   "source": [
    "s"
   ]
  },
  {
   "cell_type": "code",
   "execution_count": 116,
   "id": "3b817e8c",
   "metadata": {},
   "outputs": [
    {
     "data": {
      "text/plain": [
       "set()"
      ]
     },
     "execution_count": 116,
     "metadata": {},
     "output_type": "execute_result"
    }
   ],
   "source": [
    "s1"
   ]
  },
  {
   "cell_type": "code",
   "execution_count": 117,
   "id": "8493cb42",
   "metadata": {},
   "outputs": [
    {
     "data": {
      "text/plain": [
       "set"
      ]
     },
     "execution_count": 117,
     "metadata": {},
     "output_type": "execute_result"
    }
   ],
   "source": [
    "type(s1)"
   ]
  },
  {
   "cell_type": "code",
   "execution_count": null,
   "id": "b7dc1b89",
   "metadata": {},
   "outputs": [],
   "source": []
  },
  {
   "cell_type": "code",
   "execution_count": null,
   "id": "3a324b97",
   "metadata": {},
   "outputs": [],
   "source": []
  },
  {
   "cell_type": "code",
   "execution_count": null,
   "id": "52f9e673",
   "metadata": {},
   "outputs": [],
   "source": []
  },
  {
   "cell_type": "code",
   "execution_count": null,
   "id": "053681ae",
   "metadata": {},
   "outputs": [],
   "source": []
  },
  {
   "cell_type": "code",
   "execution_count": null,
   "id": "30b71543",
   "metadata": {},
   "outputs": [],
   "source": []
  }
 ],
 "metadata": {
  "kernelspec": {
   "display_name": "Python 3 (ipykernel)",
   "language": "python",
   "name": "python3"
  },
  "language_info": {
   "codemirror_mode": {
    "name": "ipython",
    "version": 3
   },
   "file_extension": ".py",
   "mimetype": "text/x-python",
   "name": "python",
   "nbconvert_exporter": "python",
   "pygments_lexer": "ipython3",
   "version": "3.9.13"
  }
 },
 "nbformat": 4,
 "nbformat_minor": 5
}
