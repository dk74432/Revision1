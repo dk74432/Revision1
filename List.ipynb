{
 "cells": [
  {
   "cell_type": "markdown",
   "metadata": {},
   "source": [
    "### Python List"
   ]
  },
  {
   "cell_type": "markdown",
   "metadata": {},
   "source": [
    "List is an ordered sequence of items. It is one of the most used datatype in Python and is very flexible. All the items in a list do not need to be of the same type.\n",
    "\n",
    "Declaring a list is pretty straight forward. Items separated by commas are enclosed within brackets [ ].\n",
    "\n",
    "Lists are mutable, meaning, the value of elements of a list can be altered"
   ]
  },
  {
   "cell_type": "code",
   "execution_count": 8,
   "metadata": {},
   "outputs": [
    {
     "name": "stdout",
     "output_type": "stream",
     "text": [
      "a[2] =  15\n",
      "a[0:2] =  [5, 10]\n",
      "a[-4:-1] =  [25, 30, 35]\n",
      "a[3:-3] =  [20, 25]\n",
      "a[-8:] =  [5, 10, 15, 20, 25, 30, 35, 40]\n"
     ]
    }
   ],
   "source": [
    "a = [5,10,15,20,25,30,35,40]\n",
    "\n",
    "\n",
    "print(\"a[2] = \", a[2])\n",
    "\n",
    "\n",
    "print(\"a[0:2] = \", a[0:2])\n",
    "\n",
    "print(\"a[-4:-1] = \", a[-4:-1])\n",
    "\n",
    "print(\"a[3:-3] = \", a[3:-3])\n",
    "\n",
    "\n",
    "print(\"a[-8:] = \", a[-8:])"
   ]
  },
  {
   "cell_type": "code",
   "execution_count": 96,
   "metadata": {},
   "outputs": [
    {
     "name": "stdout",
     "output_type": "stream",
     "text": [
      "0 Mumbai\n",
      "1 Pune\n",
      "2 Ahmedabad\n",
      "3 Delhi\n",
      "4 indore\n",
      "5 Jaipur\n"
     ]
    }
   ],
   "source": [
    "lst=[\"Mumbai\",\"Pune\",\"Ahmedabad\",\"Delhi\",\"indore\",\"Jaipur\"]\n",
    "for i in range(len(lst)):\n",
    "    print(i,lst[i])"
   ]
  },
  {
   "cell_type": "code",
   "execution_count": 23,
   "metadata": {},
   "outputs": [
    {
     "name": "stdout",
     "output_type": "stream",
     "text": [
      "Mumbai\n",
      "Pune\n",
      "Ahmedabad\n",
      "Delhi\n",
      "indore\n",
      "Jaipur\n"
     ]
    }
   ],
   "source": [
    "lst=[\"Mumbai\",\"Pune\",\"Ahmedabad\",\"Delhi\",\"indore\",\"Jaipur\"]\n",
    "for i in lst:\n",
    "    print(i)"
   ]
  },
  {
   "cell_type": "code",
   "execution_count": 24,
   "metadata": {},
   "outputs": [
    {
     "name": "stdout",
     "output_type": "stream",
     "text": [
      "0 6\n",
      "1 4\n",
      "2 9\n",
      "3 5\n",
      "4 6\n",
      "5 6\n"
     ]
    }
   ],
   "source": [
    "lst=[\"Mumbai\",\"Pune\",\"Ahmedabad\",\"Delhi\",\"indore\",\"Jaipur\"]\n",
    "for i in range(len(lst)):\n",
    "    print(i,len(lst[i]))"
   ]
  },
  {
   "cell_type": "code",
   "execution_count": 25,
   "metadata": {},
   "outputs": [
    {
     "name": "stdout",
     "output_type": "stream",
     "text": [
      "6\n",
      "4\n",
      "9\n",
      "5\n",
      "6\n",
      "6\n"
     ]
    }
   ],
   "source": [
    "lst=[\"Mumbai\",\"Pune\",\"Ahmedabad\",\"Delhi\",\"indore\",\"Jaipur\"]\n",
    "for i in lst:\n",
    "    print(len(i))"
   ]
  },
  {
   "cell_type": "code",
   "execution_count": 26,
   "metadata": {},
   "outputs": [
    {
     "data": {
      "text/plain": [
       "['MUMBAI', 'PUNE', 'AHMEDABAD', 'DELHI', 'INDORE', 'JAIPUR']"
      ]
     },
     "execution_count": 26,
     "metadata": {},
     "output_type": "execute_result"
    }
   ],
   "source": [
    "[i.upper() for i in lst]"
   ]
  },
  {
   "cell_type": "code",
   "execution_count": 27,
   "metadata": {},
   "outputs": [
    {
     "data": {
      "text/plain": [
       "['mumbai', 'pune', 'ahmedabad', 'delhi', 'indore', 'jaipur']"
      ]
     },
     "execution_count": 27,
     "metadata": {},
     "output_type": "execute_result"
    }
   ],
   "source": [
    "[i.lower() for i in lst]"
   ]
  },
  {
   "cell_type": "code",
   "execution_count": 28,
   "metadata": {},
   "outputs": [
    {
     "data": {
      "text/plain": [
       "['indore', 'Pune', 'Mumbai', 'Jaipur', 'Delhi', 'Ahmedabad']"
      ]
     },
     "execution_count": 28,
     "metadata": {},
     "output_type": "execute_result"
    }
   ],
   "source": [
    "lst.sort(reverse=True)\n",
    "lst"
   ]
  },
  {
   "cell_type": "code",
   "execution_count": 1,
   "metadata": {},
   "outputs": [],
   "source": [
    "lst1=[1,2,3,4,5,6,7,7]"
   ]
  },
  {
   "cell_type": "code",
   "execution_count": 2,
   "metadata": {},
   "outputs": [
    {
     "data": {
      "text/plain": [
       "2"
      ]
     },
     "execution_count": 2,
     "metadata": {},
     "output_type": "execute_result"
    }
   ],
   "source": [
    "## Count\n",
    "lst1.count(7)"
   ]
  },
  {
   "cell_type": "code",
   "execution_count": 31,
   "metadata": {},
   "outputs": [
    {
     "name": "stdout",
     "output_type": "stream",
     "text": [
      "Maximum value of a is= 7\n"
     ]
    }
   ],
   "source": [
    "#max\n",
    "a=max(lst1)\n",
    "print(\"Maximum value of a is=\",a )"
   ]
  },
  {
   "cell_type": "code",
   "execution_count": 32,
   "metadata": {},
   "outputs": [
    {
     "data": {
      "text/plain": [
       "1"
      ]
     },
     "execution_count": 32,
     "metadata": {},
     "output_type": "execute_result"
    }
   ],
   "source": [
    "#mini\n",
    "min(lst1)"
   ]
  },
  {
   "cell_type": "code",
   "execution_count": 33,
   "metadata": {},
   "outputs": [
    {
     "name": "stdout",
     "output_type": "stream",
     "text": [
      "Minium value of a is= 1\n"
     ]
    }
   ],
   "source": [
    "a=min(lst1)\n",
    "print(\"Minium value of a is=\",a )"
   ]
  },
  {
   "cell_type": "code",
   "execution_count": 84,
   "metadata": {},
   "outputs": [
    {
     "name": "stdout",
     "output_type": "stream",
     "text": [
      "Enter the number1\n",
      "Enter the number2\n",
      "Enter the number3\n",
      "Enter the number4\n",
      "Enter the number5\n",
      "Enter the number6\n",
      "Enter the number7\n",
      "Enter the number8\n",
      "Enter the number9\n",
      "Enter the number10\n",
      "[1, 2, 3, 4, 5, 6, 7, 8, 9, 10]\n"
     ]
    }
   ],
   "source": [
    "a=[]\n",
    "for i in range (10):\n",
    "    x=int(input(\"Enter the number\"))\n",
    "    a.append(x)\n",
    "print(a)\n"
   ]
  },
  {
   "cell_type": "code",
   "execution_count": 85,
   "metadata": {},
   "outputs": [
    {
     "name": "stdout",
     "output_type": "stream",
     "text": [
      "Enter the number1\n",
      "Enter the number2\n",
      "new list after insert= [1, 2, 2, 3, 4, 5, 6, 7, 8, 9, 10]\n"
     ]
    }
   ],
   "source": [
    "# insert\n",
    "y=int(input(\"Enter the number\"))\n",
    "value=int(input(\"Enter the number\"))\n",
    "f=a.insert(y,value)\n",
    "print(\"new list after insert=\",a)"
   ]
  },
  {
   "cell_type": "code",
   "execution_count": 90,
   "metadata": {},
   "outputs": [
    {
     "name": "stdout",
     "output_type": "stream",
     "text": [
      "Enter the number to remove10\n",
      "new list after insert= [1, 2, 3, 4, 5, 6, 7, 8, 9]\n"
     ]
    }
   ],
   "source": [
    "### remove\n",
    "value=int(input(\"Enter the number to remove\"))\n",
    "a.remove(value)\n",
    "print(\"new list after insert=\",a)"
   ]
  },
  {
   "cell_type": "code",
   "execution_count": 91,
   "metadata": {},
   "outputs": [
    {
     "name": "stdout",
     "output_type": "stream",
     "text": [
      "new list after reverse= [9, 8, 7, 6, 5, 4, 3, 2, 1]\n"
     ]
    }
   ],
   "source": [
    "#reverse\n",
    "a.reverse()\n",
    "print(\"new list after reverse=\",a)"
   ]
  },
  {
   "cell_type": "code",
   "execution_count": 93,
   "metadata": {},
   "outputs": [
    {
     "data": {
      "text/plain": [
       "['Shimla', 'Ooty', 'Mysore', 'MountAbu', 'Dargiling']"
      ]
     },
     "execution_count": 93,
     "metadata": {},
     "output_type": "execute_result"
    }
   ],
   "source": [
    "b=['Dargiling', 'MountAbu', 'Mysore', 'Ooty', 'Shimla']\n",
    "b[::-1]"
   ]
  },
  {
   "cell_type": "code",
   "execution_count": 38,
   "metadata": {},
   "outputs": [
    {
     "name": "stdout",
     "output_type": "stream",
     "text": [
      "new list after sort= [1, 2, 2, 3, 4, 5, 6, 7, 8, 10]\n"
     ]
    }
   ],
   "source": [
    "#sort\n",
    "a.sort()\n",
    "print(\"new list after sort=\",a)"
   ]
  },
  {
   "cell_type": "code",
   "execution_count": 39,
   "metadata": {},
   "outputs": [
    {
     "name": "stdout",
     "output_type": "stream",
     "text": [
      "new list after pop= [1, 2, 2, 3, 4, 5, 6, 7, 8]\n"
     ]
    }
   ],
   "source": [
    "#pop\n",
    "a.pop(9)\n",
    "print(\"new list after pop=\",a)"
   ]
  },
  {
   "cell_type": "code",
   "execution_count": null,
   "metadata": {},
   "outputs": [],
   "source": []
  },
  {
   "cell_type": "code",
   "execution_count": 50,
   "metadata": {},
   "outputs": [
    {
     "name": "stdout",
     "output_type": "stream",
     "text": [
      "enter the Size of list 5\n",
      "enter the number1\n",
      "enter the number2\n",
      "enter the number3\n",
      "enter the number4\n",
      "enter the number5\n",
      "15\n"
     ]
    }
   ],
   "source": [
    "b=[]\n",
    "lst_size=int(input(\"enter the Size of list\"))\n",
    "for i in range(lst_size):\n",
    "#for i in range(10):\n",
    "    x=int(input(\"enter the number\"))\n",
    "    b.append(x)\n",
    "    \n",
    "sum=0\n",
    "for i in range(lst_size):\n",
    "    sum=sum+b[i]\n",
    "print(sum)"
   ]
  },
  {
   "cell_type": "code",
   "execution_count": 7,
   "metadata": {},
   "outputs": [
    {
     "name": "stdout",
     "output_type": "stream",
     "text": [
      "Size of List 5\n",
      "Enter the number 1\n",
      "Enter the number2\n",
      "Enter the number3\n",
      "Enter the number4\n",
      "Enter the number5\n",
      "Total no. of even num= 2 Total no of odd num= 3\n"
     ]
    }
   ],
   "source": [
    "c=[]\n",
    "lst_size_=int(input(\"Size of List\"))\n",
    "for i in range(lst_size_):\n",
    "    x=int(input(\"Enter the number\"))\n",
    "    c.append(x)\n",
    "    \n",
    "even=0\n",
    "odd=0\n",
    "for i in range(lst_size_):\n",
    "    if(c[i]%2==0):\n",
    "        even=even+1\n",
    "    else:\n",
    "        odd=odd+1\n",
    "print(\"Total no. of even num=\",even,\"Total no of odd num=\",odd)"
   ]
  },
  {
   "cell_type": "code",
   "execution_count": 2,
   "metadata": {},
   "outputs": [
    {
     "name": "stdout",
     "output_type": "stream",
     "text": [
      "Size of List5\n",
      "Enter the number1\n",
      "Enter the number2\n",
      "Enter the number3\n",
      "Enter the number4\n",
      "Enter the number5\n"
     ]
    }
   ],
   "source": [
    "c=[]\n",
    "lst_size_=int(input(\"Size of List\"))\n",
    "for i in range(lst_size_):\n",
    "    x=int(input(\"Enter the number\"))\n",
    "    c.append(x)"
   ]
  },
  {
   "cell_type": "code",
   "execution_count": 4,
   "metadata": {},
   "outputs": [
    {
     "name": "stdout",
     "output_type": "stream",
     "text": [
      "5\n"
     ]
    }
   ],
   "source": [
    "maxm=c[2]\n",
    "for i in range(lst_size_):\n",
    "    if (c[i]>maxm):\n",
    "        maxm=c[i]\n",
    "print(maxm)     "
   ]
  },
  {
   "cell_type": "code",
   "execution_count": 36,
   "metadata": {},
   "outputs": [
    {
     "name": "stdout",
     "output_type": "stream",
     "text": [
      "1\n"
     ]
    }
   ],
   "source": [
    "minm=c[2]\n",
    "for i in range(lst_size_):\n",
    "    if (c[i]<minm):\n",
    "        minm=c[i]\n",
    "print(minm) "
   ]
  },
  {
   "cell_type": "markdown",
   "metadata": {},
   "source": [
    "### List Operation"
   ]
  },
  {
   "attachments": {
    "List.jpeg": {
     "image/jpeg": "[encoded data removed]"
    }
   },
   "cell_type": "markdown",
   "metadata": {},
   "source": [
    "![List.jpeg](attachment:List.jpeg)"
   ]
  },
  {
   "attachments": {
    "List%20method.JPG": {
     "image/jpeg": "[encoded data removed]"
    }
   },
   "cell_type": "markdown",
   "metadata": {},
   "source": [
    "![List%20method.JPG](attachment:List%20method.JPG)"
   ]
  },
  {
   "attachments": {
    "image.png": {
     "image/png": "[encoded data removed]"
    }
   },
   "cell_type": "markdown",
   "metadata": {},
   "source": [
    "![image.png](attachment:image.png)"
   ]
  },
  {
   "cell_type": "markdown",
   "metadata": {},
   "source": [
    "##### Update\n"
   ]
  },
  {
   "cell_type": "code",
   "execution_count": 2,
   "metadata": {},
   "outputs": [
    {
     "data": {
      "text/plain": [
       "['Mumbai', 'Pune', 'Kolkata', 'Delhi', 'indore', 'Jaipur']"
      ]
     },
     "execution_count": 2,
     "metadata": {},
     "output_type": "execute_result"
    }
   ],
   "source": [
    "b=[\"Mumbai\",\"Pune\",\"Ahmedabad\",\"Delhi\",\"indore\",\"Jaipur\"]\n",
    "b[2]=\"Kolkata\"\n",
    "b"
   ]
  },
  {
   "cell_type": "markdown",
   "metadata": {},
   "source": [
    "#### Delete"
   ]
  },
  {
   "cell_type": "code",
   "execution_count": 3,
   "metadata": {},
   "outputs": [],
   "source": [
    "del b[5]\n"
   ]
  },
  {
   "cell_type": "code",
   "execution_count": 4,
   "metadata": {},
   "outputs": [
    {
     "data": {
      "text/plain": [
       "['Mumbai', 'Pune', 'Kolkata', 'Delhi', 'indore']"
      ]
     },
     "execution_count": 4,
     "metadata": {},
     "output_type": "execute_result"
    }
   ],
   "source": [
    "b"
   ]
  },
  {
   "cell_type": "code",
   "execution_count": 5,
   "metadata": {},
   "outputs": [
    {
     "name": "stdout",
     "output_type": "stream",
     "text": [
      "0 6\n",
      "1 4\n",
      "2 9\n",
      "3 5\n",
      "4 6\n",
      "5 6\n"
     ]
    }
   ],
   "source": [
    "lst=[\"Mumbai\",\"Pune\",\"Ahmedabad\",\"Delhi\",\"indore\",\"Jaipur\"]\n",
    "for i in range(len(lst)):\n",
    "    print(i,len(lst[i]))"
   ]
  },
  {
   "cell_type": "code",
   "execution_count": 6,
   "metadata": {},
   "outputs": [
    {
     "name": "stdout",
     "output_type": "stream",
     "text": [
      "0 Mumbai\n",
      "1 Pune\n",
      "2 Kolkata\n",
      "3 Delhi\n",
      "4 indore\n"
     ]
    }
   ],
   "source": [
    "for i in range(len(b)):\n",
    "    print(i,b[i])"
   ]
  },
  {
   "cell_type": "code",
   "execution_count": 9,
   "metadata": {},
   "outputs": [
    {
     "name": "stdout",
     "output_type": "stream",
     "text": [
      "4 indore\n",
      "3 Delhi\n",
      "2 Kolkata\n",
      "1 Pune\n",
      "0 Mumbai\n"
     ]
    }
   ],
   "source": [
    "for i in range(len(b)-1,-1,-1):\n",
    "    print(i,b[i])"
   ]
  },
  {
   "cell_type": "markdown",
   "metadata": {},
   "source": [
    "##### Max & Min Function"
   ]
  },
  {
   "cell_type": "code",
   "execution_count": 12,
   "metadata": {},
   "outputs": [
    {
     "data": {
      "text/plain": [
       "'indore'"
      ]
     },
     "execution_count": 12,
     "metadata": {},
     "output_type": "execute_result"
    }
   ],
   "source": [
    "max(b)"
   ]
  },
  {
   "cell_type": "code",
   "execution_count": 13,
   "metadata": {},
   "outputs": [
    {
     "data": {
      "text/plain": [
       "'Delhi'"
      ]
     },
     "execution_count": 13,
     "metadata": {},
     "output_type": "execute_result"
    }
   ],
   "source": [
    "min(b)"
   ]
  },
  {
   "cell_type": "code",
   "execution_count": 2,
   "metadata": {},
   "outputs": [],
   "source": [
    "c=[1,2,6,33,87,44]"
   ]
  },
  {
   "cell_type": "code",
   "execution_count": 3,
   "metadata": {},
   "outputs": [
    {
     "data": {
      "text/plain": [
       "87"
      ]
     },
     "execution_count": 3,
     "metadata": {},
     "output_type": "execute_result"
    }
   ],
   "source": [
    "max(c)"
   ]
  },
  {
   "cell_type": "code",
   "execution_count": 4,
   "metadata": {},
   "outputs": [
    {
     "data": {
      "text/plain": [
       "1"
      ]
     },
     "execution_count": 4,
     "metadata": {},
     "output_type": "execute_result"
    }
   ],
   "source": [
    "min(c)"
   ]
  },
  {
   "cell_type": "markdown",
   "metadata": {},
   "source": [
    "##### Sum : Calculates sum of all the elements of List.\n",
    "###### Syntax: sum(List)"
   ]
  },
  {
   "cell_type": "code",
   "execution_count": 47,
   "metadata": {},
   "outputs": [
    {
     "name": "stdout",
     "output_type": "stream",
     "text": [
      "15\n"
     ]
    }
   ],
   "source": [
    "List = [1, 2, 3, 4, 5]\n",
    "print(sum(List))"
   ]
  },
  {
   "cell_type": "markdown",
   "metadata": {},
   "source": [
    "##### Append : It add the item at the end of list\n",
    "\n",
    "###### Syntax=list.append(obj)"
   ]
  },
  {
   "cell_type": "code",
   "execution_count": 15,
   "metadata": {},
   "outputs": [
    {
     "data": {
      "text/plain": [
       "['Mumbai', 'Pune', 'Kolkata', 'Delhi', 'indore', 'London']"
      ]
     },
     "execution_count": 15,
     "metadata": {},
     "output_type": "execute_result"
    }
   ],
   "source": [
    "b.append(\"London\")\n",
    "b"
   ]
  },
  {
   "cell_type": "code",
   "execution_count": 9,
   "metadata": {},
   "outputs": [
    {
     "name": "stdout",
     "output_type": "stream",
     "text": [
      "Initial blank List: \n",
      "[]\n",
      "\n",
      "List after Addition of Three elements: \n",
      "[1, 2, 4]\n",
      "\n",
      "List after Addition of elements from 1-3: \n",
      "[1, 2, 4, 1, 2, 3]\n",
      "\n",
      "List after Addition of a Tuple: \n",
      "[1, 2, 4, 1, 2, 3, (5, 6)]\n",
      "\n",
      "List after Addition of a List: \n",
      "[1, 2, 4, 1, 2, 3, (5, 6), ['For', 'Geeks']]\n"
     ]
    }
   ],
   "source": [
    "List = []\n",
    "print(\"Initial blank List: \")\n",
    "print(List)\n",
    "  \n",
    "# Addition of Elements\n",
    "# in the List\n",
    "List.append(1)\n",
    "List.append(2)\n",
    "List.append(4)\n",
    "print(\"\\nList after Addition of Three elements: \")\n",
    "print(List)\n",
    "  \n",
    "# Adding elements to the List\n",
    "# using Iterator\n",
    "for i in range(1, 4):\n",
    "    List.append(i)\n",
    "print(\"\\nList after Addition of elements from 1-3: \")\n",
    "print(List)\n",
    "  \n",
    "# Adding Tuples to the List\n",
    "List.append((5, 6))\n",
    "print(\"\\nList after Addition of a Tuple: \")\n",
    "print(List)\n",
    "  \n",
    "# Addition of List to a List\n",
    "List2 = ['For', 'Geeks']\n",
    "List.append(List2)\n",
    "print(\"\\nList after Addition of a List: \")\n",
    "print(List)"
   ]
  },
  {
   "cell_type": "code",
   "execution_count": 21,
   "metadata": {},
   "outputs": [
    {
     "name": "stdout",
     "output_type": "stream",
     "text": [
      "Enter the Size10\n",
      "Enter the number1\n",
      "Enter the number2\n",
      "Enter the number3\n",
      "Enter the number4\n",
      "Enter the number5\n",
      "Enter the number6\n",
      "Enter the number7\n",
      "Enter the number8\n",
      "Enter the number9\n",
      "Enter the number10\n",
      "[2, 4, 6, 8, 10, 12, 14, 16, 18, 20]\n"
     ]
    }
   ],
   "source": [
    "d=[]\n",
    "Size=int(input(\"Enter the Size\"))\n",
    "for i in range(Size):\n",
    "    x=int(input(\"Enter the number\"))\n",
    "    d.append(x*2)\n",
    "print(d)"
   ]
  },
  {
   "cell_type": "markdown",
   "metadata": {},
   "source": [
    "##### Extend:This method is used to add multiple elements at the same time at the end of the list.\n",
    "###### Syntax=list.extend(object)\n",
    "\n",
    "- Note – append() and extend() methods can only add elements at the end."
   ]
  },
  {
   "cell_type": "code",
   "execution_count": 11,
   "metadata": {},
   "outputs": [
    {
     "data": {
      "text/plain": [
       "[1, 2, 3, 4, 'Australia', 'Newzealand']"
      ]
     },
     "execution_count": 11,
     "metadata": {},
     "output_type": "execute_result"
    }
   ],
   "source": [
    "    List = [1, 2, 3, 4]\n",
    "List.extend([ 'Australia', 'Newzealand'])\n",
    "List"
   ]
  },
  {
   "cell_type": "code",
   "execution_count": 36,
   "metadata": {},
   "outputs": [
    {
     "name": "stdout",
     "output_type": "stream",
     "text": [
      "Enter the Size of list to be added: 2\n",
      "Enter anything: Danish\n",
      "Enter anything: rahul\n",
      "['Danish', 'rahul']\n",
      "Enter the Size of list to be added: 2\n",
      "Enter anything: Asif\n",
      "Enter anything: kalam\n",
      "['Asif', 'kalam']\n"
     ]
    }
   ],
   "source": [
    "a=[]\n",
    "Size=int(input(\"Enter the Size of list to be added: \"))\n",
    "for i in range(Size):\n",
    "    x=input(\"Enter anything: \")\n",
    "    a.append(x)\n",
    "print(a)\n",
    "b=[]\n",
    "Size1=int(input(\"Enter the Size of list to be added: \"))\n",
    "for i in range(Size1):\n",
    "    y=input(\"Enter anything: \")\n",
    "    b.append(y)\n",
    "print(b)"
   ]
  },
  {
   "cell_type": "code",
   "execution_count": 37,
   "metadata": {},
   "outputs": [
    {
     "data": {
      "text/plain": [
       "['Danish', 'rahul', 'Asif', 'kalam']"
      ]
     },
     "execution_count": 37,
     "metadata": {},
     "output_type": "execute_result"
    }
   ],
   "source": [
    "a.extend(b)\n",
    "a"
   ]
  },
  {
   "cell_type": "markdown",
   "metadata": {},
   "source": [
    "###### Count: Count the Frequency of Object\n",
    "###### Syntax=list.count(obj)"
   ]
  },
  {
   "cell_type": "code",
   "execution_count": 12,
   "metadata": {},
   "outputs": [
    {
     "data": {
      "text/plain": [
       "2"
      ]
     },
     "execution_count": 12,
     "metadata": {},
     "output_type": "execute_result"
    }
   ],
   "source": [
    "a1=['Mumbai', 'Pune', 'Kolkata', 'Delhi', 'indore', 'London','indore']\n",
    "a1.count(\"indore\")"
   ]
  },
  {
   "cell_type": "code",
   "execution_count": 13,
   "metadata": {},
   "outputs": [
    {
     "name": "stdout",
     "output_type": "stream",
     "text": [
      "Enter the Size5\n",
      "Enter the number1\n",
      "Enter the number2\n",
      "Enter the number3\n",
      "Enter the number4\n",
      "Enter the number4\n",
      "Enter the value whose frequency to be count4\n",
      "2\n"
     ]
    }
   ],
   "source": [
    "d=[]\n",
    "Size=int(input(\"Enter the Size\"))\n",
    "for i in range(Size):\n",
    "    x=int(input(\"Enter the number\"))\n",
    "    d.append(x)\n",
    "x=int(input(\"Enter the value whose frequency to be count\"))\n",
    "f=d.count(x)\n",
    "print(f)"
   ]
  },
  {
   "cell_type": "markdown",
   "metadata": {},
   "source": [
    "#### index: Find the index of Object\n",
    "###### Syntax=list.index(obj)"
   ]
  },
  {
   "cell_type": "code",
   "execution_count": 1,
   "metadata": {},
   "outputs": [
    {
     "data": {
      "text/plain": [
       "4"
      ]
     },
     "execution_count": 1,
     "metadata": {},
     "output_type": "execute_result"
    }
   ],
   "source": [
    "a1=['Mumbai', 'Pune', 'Kolkata', 'Delhi', 'indore', 'London','indore']\n",
    "a1.index(\"indore\")"
   ]
  },
  {
   "cell_type": "code",
   "execution_count": 10,
   "metadata": {},
   "outputs": [
    {
     "name": "stdout",
     "output_type": "stream",
     "text": [
      "Enter value1\n",
      "Enter value2\n",
      "Enter value3\n",
      "Enter value4\n",
      "Enter value5\n",
      "Enter the value whose index to be find3\n",
      "index= 2\n"
     ]
    }
   ],
   "source": [
    "a=[]\n",
    "#Size=input(\"Enter the Size \")\n",
    "for i in range(5):\n",
    "    x=input(\"Enter value\")\n",
    "    a.append(x)\n",
    "x=input(\"Enter the value whose index to be find\")\n",
    "z=a.index(x)\n",
    "print(\"index=\",z)"
   ]
  },
  {
   "cell_type": "markdown",
   "metadata": {},
   "source": [
    "##### Insert: insert  the  item at agiven index of Object\n",
    "##### Syntax=list.insert(index,obj)"
   ]
  },
  {
   "cell_type": "code",
   "execution_count": 2,
   "metadata": {},
   "outputs": [
    {
     "name": "stdout",
     "output_type": "stream",
     "text": [
      "Enter value Danish\n",
      "Enter value asif\n",
      "Enter value kalam\n",
      "Enter value eshwar\n",
      "Enter value rahul\n",
      "Enter the index3\n",
      "Enter the value to be insertAnwar\n",
      "index= ['Danish', 'asif', 'kalam', 'Anwar', 'eshwar', 'rahul']\n"
     ]
    }
   ],
   "source": [
    "a=[]\n",
    "for i in range(5):\n",
    "    x=input(\"Enter value \")\n",
    "    a.append(x)\n",
    "y=int(input(\"Enter the index\"))\n",
    "value=input(\"Enter the value to be insert\")\n",
    "z=a.insert(y,value)\n",
    "print(\"index=\",a)"
   ]
  },
  {
   "cell_type": "markdown",
   "metadata": {},
   "source": [
    "###### Remove: Remove  the  Object from List\n",
    "###### Syntax=list.remove(obj)"
   ]
  },
  {
   "cell_type": "code",
   "execution_count": 4,
   "metadata": {},
   "outputs": [
    {
     "name": "stdout",
     "output_type": "stream",
     "text": [
      "Enter value Danish\n",
      "Enter value kalam\n",
      "Enter value eshwar\n",
      "Enter value arjun\n",
      "Enter value nikhil\n",
      "Enter the value to be removearjun\n",
      "index= ['Danish', 'kalam', 'eshwar', 'nikhil']\n"
     ]
    }
   ],
   "source": [
    "a=[]\n",
    "for i in range(5):\n",
    "    x=input(\"Enter value \")\n",
    "    a.append(x)\n",
    "value=input(\"Enter the value to be remove\")\n",
    "z=a.remove(value)\n",
    "print(\"index=\",a)"
   ]
  },
  {
   "cell_type": "code",
   "execution_count": 46,
   "metadata": {},
   "outputs": [
    {
     "name": "stdout",
     "output_type": "stream",
     "text": [
      "\n",
      "List after Removing a range of elements: \n",
      "[5, 6, 7, 8, 9, 10, 11, 12]\n"
     ]
    }
   ],
   "source": [
    "# Removing elements from List\n",
    "# using iterator method\n",
    "List = [1, 2, 3, 4, 5, 6,\n",
    "        7, 8, 9, 10, 11, 12]\n",
    "for i in range(1, 5):\n",
    "    List.remove(i)\n",
    "print(\"\\nList after Removing a range of elements: \")\n",
    "print(List)"
   ]
  },
  {
   "cell_type": "markdown",
   "metadata": {},
   "source": [
    "##### Reverse: Reverse the list\n",
    "##### Syntax=list.reverse()"
   ]
  },
  {
   "cell_type": "code",
   "execution_count": 6,
   "metadata": {},
   "outputs": [
    {
     "name": "stdout",
     "output_type": "stream",
     "text": [
      "Enter value Danish\n",
      "Enter value ravi\n",
      "Enter value rahul\n",
      "Enter value kalam\n",
      "Enter value nipun\n",
      "reverse= ['nipun', 'kalam', 'rahul', 'ravi', 'Danish']\n"
     ]
    }
   ],
   "source": [
    "s=[]\n",
    "for i in range(5):\n",
    "    x=input(\"Enter value \")\n",
    "    s.append(x)\n",
    "z=s.reverse()\n",
    "print(\"reverse=\",s)"
   ]
  },
  {
   "cell_type": "code",
   "execution_count": 9,
   "metadata": {},
   "outputs": [
    {
     "name": "stdout",
     "output_type": "stream",
     "text": [
      "Enter value 3\n",
      "Enter value 4\n",
      "Enter value 56\n",
      "Enter value 8\n",
      "Enter value 6\n",
      "reverse= ['6', '8', '56', '4', '3']\n"
     ]
    }
   ],
   "source": [
    "a=[]\n",
    "for i in range(5):\n",
    "    x=input(\"Enter value \")\n",
    "    a.append(x)\n",
    "z=a.reverse()\n",
    "print(\"reverse=\",a)"
   ]
  },
  {
   "cell_type": "markdown",
   "metadata": {},
   "source": [
    "##### Sort: Sort the list in ascending or Decending order\n",
    "###### 1.Syntax=list.sort(reverse=True)\n",
    "###### 2.Syntax=list.sort(reverse=False)"
   ]
  },
  {
   "cell_type": "code",
   "execution_count": 80,
   "metadata": {},
   "outputs": [
    {
     "data": {
      "text/plain": [
       "[3.67, 3.28, 2.01, 2.0, 1.68]"
      ]
     },
     "execution_count": 80,
     "metadata": {},
     "output_type": "execute_result"
    }
   ],
   "source": [
    "# List of Floating point numbers\n",
    "decimalnumber = [2.01, 2.00, 3.67, 3.28, 1.68]\n",
    " \n",
    "# Sorting list of Floating point numbers\n",
    "decimalnumber.sort(reverse=True)\n",
    "decimalnumber"
   ]
  },
  {
   "cell_type": "code",
   "execution_count": 92,
   "metadata": {},
   "outputs": [
    {
     "data": {
      "text/plain": [
       "[(1, 1), (1, 2), (3, 3)]"
      ]
     },
     "execution_count": 92,
     "metadata": {},
     "output_type": "execute_result"
    }
   ],
   "source": [
    "list1 = [(1,2),(3,3),(1,1)]\n",
    "list1.sort(reverse=False)\n",
    "list1"
   ]
  },
  {
   "cell_type": "code",
   "execution_count": 12,
   "metadata": {},
   "outputs": [
    {
     "name": "stdout",
     "output_type": "stream",
     "text": [
      "enter the number: 2\n",
      "enter the number: 3\n",
      "enter the number: 1\n",
      "enter the number: 7\n",
      "enter the number: 5\n",
      "Sort: None\n",
      "[7, 5, 3, 2, 1]\n"
     ]
    }
   ],
   "source": [
    "a=[]\n",
    "for i in range(5):\n",
    "    x=int(input(\"enter the number: \"))\n",
    "    a.append(x)\n",
    "z=a.sort(reverse=True)\n",
    "print(\"Sort:\",z)\n",
    "print(a)"
   ]
  },
  {
   "cell_type": "markdown",
   "metadata": {},
   "source": [
    "##### Pop : to delete the last item from list\n",
    "   - To remove an element from a specific position of the List, the index of the element is passed as an argument to the pop() method.\n",
    "##### Syntax=list.pop() # from last\n",
    "##### Syntax=list.pop(index) # from a specific position"
   ]
  },
  {
   "cell_type": "code",
   "execution_count": 50,
   "metadata": {},
   "outputs": [
    {
     "name": "stdout",
     "output_type": "stream",
     "text": [
      "enter the number: 2\n",
      "enter the number: 4\n",
      "enter the number: 6\n",
      "enter the number: 8\n",
      "enter the number: 10\n",
      "pop: 8\n",
      "[2, 4, 6, 10]\n"
     ]
    }
   ],
   "source": [
    "a=[]\n",
    "for i in range(5):\n",
    "    x=int(input(\"enter the number: \"))\n",
    "    a.append(x)\n",
    "z=a.pop(3)\n",
    "print(\"pop:\",z)\n",
    "print(a)"
   ]
  },
  {
   "cell_type": "code",
   "execution_count": 49,
   "metadata": {},
   "outputs": [
    {
     "name": "stdout",
     "output_type": "stream",
     "text": [
      "\n",
      "List after popping an element: \n",
      "[1, 2, 3, 4]\n",
      "\n",
      "List after popping a specific element: \n",
      "[1, 3, 4]\n"
     ]
    }
   ],
   "source": [
    "List = [1,2,3,4,5]\n",
    "  \n",
    "# Removing element from the \n",
    "# Set using the pop() method\n",
    "List.pop()\n",
    "print(\"\\nList after popping an element: \")\n",
    "print(List)\n",
    "  \n",
    "# Removing element at a \n",
    "# specific location from the \n",
    "# Set using the pop() method\n",
    "List.pop(1)\n",
    "print(\"\\nList after popping a specific element: \")\n",
    "print(List)"
   ]
  },
  {
   "cell_type": "markdown",
   "metadata": {},
   "source": [
    "#### Clear() :- This function is used to erase all the elements of list. After this operation, list becomes empty.\n",
    "###### Syntax: list.clear()"
   ]
  },
  {
   "cell_type": "code",
   "execution_count": 77,
   "metadata": {},
   "outputs": [
    {
     "data": {
      "text/plain": [
       "[]"
      ]
     },
     "execution_count": 77,
     "metadata": {},
     "output_type": "execute_result"
    }
   ],
   "source": [
    "\n",
    "# Python code to demonstrate the working of\n",
    "# extend() and clear()\n",
    "  \n",
    "# initializing list 1\n",
    "lis2 = [2, 1, 3, 5]\n",
    "  \n",
    "# using clear() to delete all lis1 contents\n",
    "lis2.clear()\n",
    "lis2"
   ]
  },
  {
   "cell_type": "markdown",
   "metadata": {},
   "source": [
    "### Python Program to Find Sum of List Elements"
   ]
  },
  {
   "cell_type": "code",
   "execution_count": 36,
   "metadata": {},
   "outputs": [
    {
     "name": "stdout",
     "output_type": "stream",
     "text": [
      "Enter the Size 5\n",
      "enter the number: 2\n",
      "enter the number: 4\n",
      "enter the number: 6\n",
      "enter the number: 8\n",
      "enter the number: 10\n",
      "SUM: 30\n"
     ]
    }
   ],
   "source": [
    "a=[]\n",
    "Size=int(input(\"Enter the Size\"))\n",
    "for i in range(Size):\n",
    "    x=int(input(\"enter the number: \"))\n",
    "    a.append(x)\n",
    "sum=0\n",
    "for i in range(Size):\n",
    "    sum=sum+a[i]\n",
    "print(\"SUM:\",sum)"
   ]
  },
  {
   "cell_type": "markdown",
   "metadata": {},
   "source": [
    "### Python Program to Count Total Odd and Even Numbers in List"
   ]
  },
  {
   "cell_type": "code",
   "execution_count": 7,
   "metadata": {},
   "outputs": [
    {
     "name": "stdout",
     "output_type": "stream",
     "text": [
      "Enter the Size10\n",
      "enter the number: 1\n",
      "enter the number: 2\n",
      "enter the number: 3\n",
      "enter the number: 4\n",
      "enter the number: 5\n",
      "enter the number: 6\n",
      "enter the number: 7\n",
      "enter the number: 8\n",
      "enter the number: 9\n",
      "enter the number: 10\n",
      "Even: 5\n",
      "odd: 5\n"
     ]
    }
   ],
   "source": [
    "a=[]\n",
    "Size=int(input(\"Enter the Size\"))\n",
    "for i in range(Size):\n",
    "    x=int(input(\"enter the number: \"))\n",
    "    a.append(x)\n",
    "even=0\n",
    "odd=0\n",
    "for i in range(Size):\n",
    "    if (a[i]%2==0):\n",
    "        even=even+1\n",
    "    else:\n",
    "        odd=odd+1\n",
    "print(\"Even:\",even)\n",
    "print(\"odd:\",odd)"
   ]
  },
  {
   "cell_type": "markdown",
   "metadata": {},
   "source": [
    "### Python Program to find Sum of Even & Product of Odd Digits of a Number\n"
   ]
  },
  {
   "cell_type": "code",
   "execution_count": 16,
   "metadata": {},
   "outputs": [
    {
     "name": "stdout",
     "output_type": "stream",
     "text": [
      "Enter the Size5\n",
      "enter the number: 1\n",
      "enter the number: 2\n",
      "enter the number: 3\n",
      "enter the number: 4\n",
      "enter the number: 5\n",
      "Even: 6\n",
      "odd: 15\n"
     ]
    }
   ],
   "source": [
    "a=[]\n",
    "Size=int(input(\"Enter the Size\"))\n",
    "for i in range(Size):\n",
    "    x=int(input(\"enter the number: \"))\n",
    "    a.append(x)\n",
    "sum=0\n",
    "product=1\n",
    "for i in range(Size):\n",
    "    if (a[i]%2==0):\n",
    "        sum=sum+a[i]\n",
    "    else:\n",
    "        product=product*a[i]\n",
    "print(\"Even:\",sum)\n",
    "print(\"odd:\",product)"
   ]
  },
  {
   "cell_type": "markdown",
   "metadata": {},
   "source": [
    "### Python Program to Count Frequency of a Number"
   ]
  },
  {
   "cell_type": "code",
   "execution_count": 26,
   "metadata": {},
   "outputs": [
    {
     "name": "stdout",
     "output_type": "stream",
     "text": [
      "Enter the Size5\n",
      "enter the number: 1\n",
      "enter the number: 2\n",
      "enter the number: 3\n",
      "enter the number: 3\n",
      "enter the number: 4\n",
      "calculate the frequency of a number3\n",
      "Count: 2\n"
     ]
    }
   ],
   "source": [
    "a=[]\n",
    "Size=int(input(\"Enter the Size\"))\n",
    "for i in range(Size):\n",
    "    x=int(input(\"enter the number: \"))\n",
    "    a.append(x)\n",
    "count=0\n",
    "value=int(input(\"calculate the frequency of a number\"))\n",
    "for i in range(Size):\n",
    "    if (a[i]==value):\n",
    "        count=count+1\n",
    "print(\"Count:\",count)"
   ]
  },
  {
   "cell_type": "markdown",
   "metadata": {},
   "source": [
    "### Python Program to Search a Number in List "
   ]
  },
  {
   "cell_type": "code",
   "execution_count": 7,
   "metadata": {},
   "outputs": [
    {
     "name": "stdout",
     "output_type": "stream",
     "text": [
      "Enter the Size10\n",
      "enter the number: 1\n",
      "enter the number: 2\n",
      "enter the number: 3\n",
      "enter the number: 4\n",
      "enter the number: 5\n",
      "enter the number: 6\n",
      "enter the number: 7\n",
      "enter the number: 9\n",
      "enter the number: 0\n",
      "enter the number: 12\n",
      " Enter the number to be search: 12\n",
      "Element found at :  10\n"
     ]
    }
   ],
   "source": [
    "a=[]\n",
    "Size=int(input(\"Enter the Size\"))\n",
    "for i in range(Size):\n",
    "    x=int(input(\"enter the number: \"))\n",
    "    a.append(x)\n",
    "flag=0\n",
    "value=int(input(\" Enter the number to be search: \"))\n",
    "for i in range(Size):\n",
    "    if(a[i]==value):\n",
    "        flag=1\n",
    "        pos=i+1\n",
    "        break\n",
    "if (flag==1):\n",
    "    print(\"Element found at : \",pos)\n",
    "else:\n",
    "    print(\"no elelment found\")"
   ]
  },
  {
   "cell_type": "markdown",
   "metadata": {},
   "source": [
    "### Find Max and Min Number in Python List"
   ]
  },
  {
   "cell_type": "code",
   "execution_count": 12,
   "metadata": {},
   "outputs": [
    {
     "name": "stdout",
     "output_type": "stream",
     "text": [
      "Enter the Size5\n",
      "enter the number: 2\n",
      "enter the number: 1\n",
      "enter the number: 4\n",
      "enter the number: 3\n",
      "enter the number: 6\n",
      "6\n"
     ]
    }
   ],
   "source": [
    "a=[]\n",
    "Size=int(input(\"Enter the Size\"))\n",
    "for i in range(Size):\n",
    "    x=int(input(\"enter the number: \"))\n",
    "    a.append(x)\n",
    "max=a[0]\n",
    "for i in range(Size):\n",
    "    if (a[i]>max):\n",
    "        max=a[i]\n",
    "print(max)"
   ]
  },
  {
   "cell_type": "code",
   "execution_count": 13,
   "metadata": {},
   "outputs": [
    {
     "name": "stdout",
     "output_type": "stream",
     "text": [
      "Enter the Size5\n",
      "enter the number: 2\n",
      "enter the number: 1\n",
      "enter the number: 45\n",
      "enter the number: 34\n",
      "enter the number: 6\n",
      "1\n"
     ]
    }
   ],
   "source": [
    "a=[]\n",
    "Size=int(input(\"Enter the Size\"))\n",
    "for i in range(Size):\n",
    "    x=int(input(\"enter the number: \"))\n",
    "    a.append(x)\n",
    "min=a[0]\n",
    "for i in range(Size):\n",
    "    if (a[i]<min):\n",
    "        min=a[i]\n",
    "print(min)"
   ]
  },
  {
   "cell_type": "markdown",
   "metadata": {},
   "source": [
    "### Python Program to Find Second Max, Second Min"
   ]
  },
  {
   "cell_type": "markdown",
   "metadata": {},
   "source": [
    "###### Second max value"
   ]
  },
  {
   "cell_type": "code",
   "execution_count": 41,
   "metadata": {},
   "outputs": [
    {
     "name": "stdout",
     "output_type": "stream",
     "text": [
      "Enter the Size 5\n",
      "enter the number: 3\n",
      "enter the number: 9\n",
      "enter the number: 2\n",
      "enter the number: 5\n",
      "enter the number: 8\n",
      "Max value:  9\n",
      "Second Miax value:  8\n"
     ]
    }
   ],
   "source": [
    "a=[]\n",
    "Size=int(input(\"Enter the Size\"))\n",
    "for i in range(Size):\n",
    "    x=int(input(\"enter the number: \"))\n",
    "    a.append(x)\n",
    "a.sort()\n",
    "print(\"Max value: \",a[Size-1])\n",
    "print(\"Second Max value: \",a[Size-2])\n",
    "\n",
    "\n",
    "#max=a[0]\n",
    "#for i in range(Size):\n",
    " #   if (a[i]>max):\n",
    "  #      max=a[i]\n",
    "# print(max)"
   ]
  },
  {
   "cell_type": "markdown",
   "metadata": {},
   "source": [
    "###### Second min value"
   ]
  },
  {
   "cell_type": "code",
   "execution_count": 39,
   "metadata": {},
   "outputs": [
    {
     "name": "stdout",
     "output_type": "stream",
     "text": [
      "Enter the Size5\n",
      "enter the number: 7\n",
      "enter the number: 2\n",
      "enter the number: 9\n",
      "enter the number: 3\n",
      "enter the number: 5\n",
      "Min value:  2\n",
      "Second Min value:  3\n"
     ]
    }
   ],
   "source": [
    "a=[]\n",
    "Size=int(input(\"Enter the Size\"))\n",
    "for i in range(Size):\n",
    "    x=int(input(\"enter the number: \"))\n",
    "    a.append(x)\n",
    "a.sort()\n",
    "print(\"Min value: \",a[0])\n",
    "print(\"Second Min value: \",a[1])\n",
    "#min=a[0]\n",
    "#for i in range(Size):\n",
    " #   if (a[i]<min):\n",
    "        #min=a[i]\n",
    "#print(min)\n",
    "#print(\"Second Mininmum\",a[1])"
   ]
  },
  {
   "cell_type": "markdown",
   "metadata": {},
   "source": [
    "### Python Program for Shifting Each List Element One Step Left or Right "
   ]
  },
  {
   "cell_type": "markdown",
   "metadata": {},
   "source": [
    "#### Shifting Left"
   ]
  },
  {
   "cell_type": "code",
   "execution_count": 45,
   "metadata": {},
   "outputs": [
    {
     "name": "stdout",
     "output_type": "stream",
     "text": [
      "Enter the Size5\n",
      "Enter the numbers1\n",
      "Enter the numbers2\n",
      "Enter the numbers3\n",
      "Enter the numbers4\n",
      "Enter the numbers5\n",
      "Modified List: [2, 3, 4, 5, 1]\n"
     ]
    }
   ],
   "source": [
    "a=[]\n",
    "Size=int(input(\"Enter the Size\"))\n",
    "for i in range(Size):\n",
    "    x=int(input(\"Enter the numbers\"))\n",
    "    a.append(x)\n",
    "first_element=a[0]\n",
    "for i in range(1,Size):\n",
    "    a[i-1]=a[i]\n",
    "a[Size-1]=first_element\n",
    "print(\"Modified List:\",a)   \n",
    "    "
   ]
  },
  {
   "cell_type": "markdown",
   "metadata": {},
   "source": [
    "#### Shifting Right"
   ]
  },
  {
   "cell_type": "code",
   "execution_count": 46,
   "metadata": {},
   "outputs": [
    {
     "name": "stdout",
     "output_type": "stream",
     "text": [
      "Enter the Size5\n",
      "Enter the numbers1\n",
      "Enter the numbers2\n",
      "Enter the numbers3\n",
      "Enter the numbers4\n",
      "Enter the numbers5\n",
      "Modified List: [5, 1, 2, 3, 4]\n"
     ]
    }
   ],
   "source": [
    "a=[]\n",
    "Size=int(input(\"Enter the Size\"))\n",
    "for i in range(Size):\n",
    "    x=int(input(\"Enter the numbers\"))\n",
    "    a.append(x)\n",
    "    \n",
    "first_element=a[Size-1]\n",
    "for i in range(Size-2,-1,-1):\n",
    "    a[i+1]=a[i]\n",
    "a[0]=first_element\n",
    "print(\"Modified List:\",a)   \n",
    "    "
   ]
  },
  {
   "cell_type": "markdown",
   "metadata": {},
   "source": [
    "### Python Program for Shifting Each List Element \"N\" Step Left or Right "
   ]
  },
  {
   "cell_type": "markdown",
   "metadata": {},
   "source": [
    "#### Shift Left"
   ]
  },
  {
   "cell_type": "code",
   "execution_count": 68,
   "metadata": {},
   "outputs": [
    {
     "name": "stdout",
     "output_type": "stream",
     "text": [
      "Enter the Size :10\n",
      "Enter the number :1\n",
      "Enter the number :2\n",
      "Enter the number :3\n",
      "Enter the number :4\n",
      "Enter the number :5\n",
      "Enter the number :6\n",
      "Enter the number :7\n",
      "Enter the number :8\n",
      "Enter the number :9\n",
      "Enter the number :10\n",
      "Enter the number Shifts :3\n",
      "Modified List: [4, 5, 6, 7, 8, 9, 10, 1, 2, 3]\n"
     ]
    }
   ],
   "source": [
    "a=[]\n",
    "Size=int(input(\"Enter the Size :\"))\n",
    "for i in range(Size):\n",
    "    x=int(input(\"Enter the number :\"))\n",
    "    a.append(x)\n",
    "n=int(input(\"Enter the number Shifts :\"))\n",
    "for count in range(n):\n",
    "    first_element=a[0]\n",
    "    for i in range(1,Size):\n",
    "        a[i-1]=a[i]\n",
    "    a[Size-1]=first_element\n",
    "print(\"Modified List:\",a) "
   ]
  },
  {
   "cell_type": "markdown",
   "metadata": {},
   "source": [
    "#### Shift Right"
   ]
  },
  {
   "cell_type": "code",
   "execution_count": 69,
   "metadata": {},
   "outputs": [
    {
     "name": "stdout",
     "output_type": "stream",
     "text": [
      "Enter the Size :10\n",
      "Enter the number :1\n",
      "Enter the number :2\n",
      "Enter the number :3\n",
      "Enter the number :4\n",
      "Enter the number :5\n",
      "Enter the number :6\n",
      "Enter the number :7\n",
      "Enter the number :8\n",
      "Enter the number :9\n",
      "Enter the number :10\n",
      "Enter the number Shifts :3\n",
      "Modified List: [8, 9, 10, 1, 2, 3, 4, 5, 6, 7]\n"
     ]
    }
   ],
   "source": [
    "a=[]\n",
    "Size=int(input(\"Enter the Size :\"))\n",
    "for i in range(Size):\n",
    "    x=int(input(\"Enter the number :\"))\n",
    "    a.append(x)\n",
    "n=int(input(\"Enter the number Shifts :\"))\n",
    "for count in range(n):\n",
    "    first_element=a[Size-1]\n",
    "    for i in range(Size-2,-1,-1):\n",
    "        a[i+1]=a[i]\n",
    "    a[0]=first_element\n",
    "print(\"Modified List:\",a) "
   ]
  },
  {
   "cell_type": "markdown",
   "metadata": {},
   "source": [
    "### Delete a Given Element from the List in Python"
   ]
  },
  {
   "cell_type": "code",
   "execution_count": 11,
   "metadata": {},
   "outputs": [
    {
     "name": "stdout",
     "output_type": "stream",
     "text": [
      "Enter the Size10\n",
      "Enter the numbers1\n",
      "Enter the numbers2\n",
      "Enter the numbers3\n",
      "Enter the numbers4\n",
      "Enter the numbers5\n",
      "Enter the numbers6\n",
      "Enter the numbers7\n",
      "Enter the numbers8\n",
      "Enter the numbers9\n",
      "Enter the numbers10\n",
      "Enter the number to be delete6\n",
      "list after Deleltion:  [1, 2, 3, 4, 5, 7, 8, 9, 10]\n"
     ]
    }
   ],
   "source": [
    "a=[]\n",
    "Size=int(input(\"Enter the Size\"))\n",
    "for i in range(Size):\n",
    "    x=int(input(\"Enter the numbers\"))\n",
    "    a.append(x)\n",
    "flag=0\n",
    "value=int(input(\"Enter the number to be delete\"))\n",
    "for i in range(Size):\n",
    "    if(a[i]==value):\n",
    "        flag=1\n",
    "        pos=i\n",
    "        break\n",
    "if (flag==0):\n",
    "    print(\"Element not found\")\n",
    "else:\n",
    "    for i in range(pos,Size-1):\n",
    "        a[i]=a[i+1]\n",
    "z=a.pop()\n",
    "print(\"list after Deleltion: \",a)\n",
    "        \n"
   ]
  },
  {
   "cell_type": "code",
   "execution_count": 3,
   "metadata": {},
   "outputs": [
    {
     "name": "stdout",
     "output_type": "stream",
     "text": [
      "['h', 'i', 'j', 12, 34, 67, 97]\n"
     ]
    }
   ],
   "source": [
    "myList = [12,34,67, 'h' , 'i' , 'j' , 97]\n",
    "m=[]\n",
    "alpha=0\n",
    "for x in range(0,len(myList)):\n",
    "    if str(myList[x]).isdigit():\n",
    "        m.append(myList[x])\n",
    "    else:\n",
    "        m.insert(alpha,myList[x])\n",
    "        alpha+=1\n",
    "print(m)"
   ]
  },
  {
   "cell_type": "code",
   "execution_count": 4,
   "metadata": {},
   "outputs": [
    {
     "name": "stdout",
     "output_type": "stream",
     "text": [
      "[12, 34, 67, 97]\n",
      "['h', 'i', 'j']\n"
     ]
    }
   ],
   "source": [
    "myList = [12,34,67, 'h' , 'i' , 'j' , 97]\n",
    "m=[]\n",
    "n=[]\n",
    "for x in range(0,len(myList)):\n",
    "    if str(myList[x]).isdigit():\n",
    "               m.append(myList[x])\n",
    "    else:n.append(myList[x])\n",
    "print(m)\n",
    "print(n)"
   ]
  },
  {
   "cell_type": "code",
   "execution_count": 3,
   "metadata": {},
   "outputs": [
    {
     "name": "stdout",
     "output_type": "stream",
     "text": [
      "[3, 4, 9, 10, -5, -7, 0, -34]\n"
     ]
    }
   ],
   "source": [
    "A=[3,-5,4,-7,0,9,10,-34]\n",
    "neg_index=0\n",
    "B=[]\n",
    "for i in range (len(A)):\n",
    "    if A[i]<=0:\n",
    "        B.append(A[i])\n",
    "    else:\n",
    "        B.insert(neg_index,A[i])\n",
    "        neg_index+=1\n",
    "print(B)\n"
   ]
  },
  {
   "cell_type": "markdown",
   "metadata": {},
   "source": [
    "### Python Programe to find duplicacy of list elements"
   ]
  },
  {
   "cell_type": "code",
   "execution_count": 54,
   "metadata": {},
   "outputs": [
    {
     "name": "stdout",
     "output_type": "stream",
     "text": [
      "1 3 "
     ]
    }
   ],
   "source": [
    "\n",
    "l=[1,2,3,1,3,6,5]\n",
    "l1=[]\n",
    "for i in l:\n",
    "    if i not in l1:\n",
    "        l1.append(i)\n",
    "    else:\n",
    "        print(i,end=' ')"
   ]
  },
  {
   "cell_type": "code",
   "execution_count": 47,
   "metadata": {},
   "outputs": [
    {
     "name": "stdout",
     "output_type": "stream",
     "text": [
      "Count of 1 : 2\n",
      "Count of 2 : 1\n",
      "Count of 3 : 2\n",
      "Count of 6 : 1\n",
      "Count of 5 : 1\n"
     ]
    }
   ],
   "source": [
    "for i in range(len(l1)):\n",
    "    print(\"Count of\",l1[i],\":\",l.count(l1[i]))"
   ]
  },
  {
   "cell_type": "code",
   "execution_count": 48,
   "metadata": {},
   "outputs": [
    {
     "name": "stdout",
     "output_type": "stream",
     "text": [
      "5\n"
     ]
    }
   ],
   "source": [
    "if l.count(l1[i])==2:\n",
    "    print(l1[i]**2)\n",
    "else:\n",
    "    print(l1[i])"
   ]
  },
  {
   "cell_type": "markdown",
   "metadata": {},
   "source": [
    "### List Comprehension"
   ]
  },
  {
   "cell_type": "code",
   "execution_count": 70,
   "metadata": {},
   "outputs": [
    {
     "name": "stdout",
     "output_type": "stream",
     "text": [
      "Enter the Size5\n",
      "Enter the number2\n",
      "Enter the number4\n",
      "Enter the number6\n",
      "Enter the number8\n",
      "Enter the number17\n",
      "2 Its even\n",
      "4 Its even\n",
      "6 Its even\n",
      "8 Its even\n",
      "17 its odd\n"
     ]
    }
   ],
   "source": [
    "a=[]\n",
    "Size=int(input(\"Enter the Size\"))\n",
    "for i in range(Size):\n",
    "    x=int(input(\"Enter the number\"))\n",
    "    a.append(x)\n",
    "\n",
    "for i in range(Size):\n",
    "    if a[i]%2==0:\n",
    "        print (a[i],\"Its even\")\n",
    "    else:\n",
    "        print(a[i],\"its odd\")\n"
   ]
  },
  {
   "cell_type": "code",
   "execution_count": 1,
   "metadata": {},
   "outputs": [
    {
     "data": {
      "text/plain": [
       "[1, 4, 9, 16, 25]"
      ]
     },
     "execution_count": 1,
     "metadata": {},
     "output_type": "execute_result"
    }
   ],
   "source": [
    "a=[i**2 for i in range(1,6)]\n",
    "a"
   ]
  },
  {
   "cell_type": "code",
   "execution_count": 2,
   "metadata": {},
   "outputs": [
    {
     "name": "stdout",
     "output_type": "stream",
     "text": [
      "Enter the Size5\n",
      "Enter the number2\n",
      "Enter the number4\n",
      "Enter the number6\n",
      "Enter the number10\n",
      "Enter the number23\n"
     ]
    },
    {
     "data": {
      "text/plain": [
       "[2, 4, 6, 10]"
      ]
     },
     "execution_count": 2,
     "metadata": {},
     "output_type": "execute_result"
    }
   ],
   "source": [
    "a=[]\n",
    "Size=int(input(\"Enter the Size\"))\n",
    "for i in range(Size):\n",
    "    x=int(input(\"Enter the number\"))\n",
    "    a.append(x)\n",
    "c=[i for i in a if i%2==0]\n",
    "c"
   ]
  },
  {
   "cell_type": "code",
   "execution_count": 6,
   "metadata": {},
   "outputs": [
    {
     "name": "stdout",
     "output_type": "stream",
     "text": [
      "Enter the Size5\n",
      "Enter the number2\n",
      "Enter the number3\n",
      "Enter the number4\n",
      "Enter the number5\n",
      "Enter the number7\n"
     ]
    },
    {
     "data": {
      "text/plain": [
       "[2, 3, 4, 25, 49]"
      ]
     },
     "execution_count": 6,
     "metadata": {},
     "output_type": "execute_result"
    }
   ],
   "source": [
    "a=[]\n",
    "Size=int(input(\"Enter the Size\"))\n",
    "for i in range(Size):\n",
    "    x=int(input(\"Enter the number\"))\n",
    "    a.append(x)\n",
    "c=[i if i<5 else i*i for i in a]\n",
    "c"
   ]
  },
  {
   "cell_type": "code",
   "execution_count": 14,
   "metadata": {},
   "outputs": [
    {
     "name": "stdout",
     "output_type": "stream",
     "text": [
      "Enter the Size5\n",
      "Enter the numbers2\n",
      "Enter the numbers4\n",
      "Enter the numbers3\n",
      "Enter the numbers9\n",
      "Enter the numbers13\n",
      "[2, 4, 6, 18, 26]\n"
     ]
    }
   ],
   "source": [
    "a=[]\n",
    "Size=int(input(\"Enter the Size\"))\n",
    "for i in range(Size):\n",
    "    x=int(input(\"Enter the numbers\"))\n",
    "    a.append(x)\n",
    "c=[i if i%2==0 else i*2 for i in a ]\n",
    "print(c)"
   ]
  },
  {
   "cell_type": "code",
   "execution_count": 7,
   "metadata": {},
   "outputs": [
    {
     "name": "stdout",
     "output_type": "stream",
     "text": [
      "[4, 8]\n"
     ]
    }
   ],
   "source": [
    "lst=[(\"a\",2),(\"b\",13),(\"c\",4)]\n",
    "c=[j*2 for (i,j) in lst if i==\"a\" or i==\"c\"]\n",
    "print(c)"
   ]
  },
  {
   "cell_type": "code",
   "execution_count": 23,
   "metadata": {},
   "outputs": [
    {
     "name": "stdout",
     "output_type": "stream",
     "text": [
      "[52]\n"
     ]
    }
   ],
   "source": [
    "lst=[(\"a\",2),(\"b\",13),(\"c\",4)]\n",
    "c=[j*4 for (i,j) in lst if i==\"b\"]\n",
    "print(c)"
   ]
  },
  {
   "cell_type": "code",
   "execution_count": 6,
   "metadata": {},
   "outputs": [
    {
     "name": "stdout",
     "output_type": "stream",
     "text": [
      "[8]\n"
     ]
    }
   ],
   "source": [
    "lst=[(\"a\",2),(\"b\",13),(\"c\",4)]\n",
    "c=[j*4 for (i,j) in lst if i==\"a\" or i==\"c\" and i==\"b\"]\n",
    "print(c)\n"
   ]
  },
  {
   "cell_type": "code",
   "execution_count": 8,
   "metadata": {},
   "outputs": [
    {
     "name": "stdout",
     "output_type": "stream",
     "text": [
      "[2, 4, 6, 4, 8, 12, 6, 12, 18]\n"
     ]
    }
   ],
   "source": [
    "a=[1,2,3]\n",
    "b=[2,4,6]\n",
    "c=[ x*y for x in  a for y in b]\n",
    "print(c)"
   ]
  },
  {
   "cell_type": "code",
   "execution_count": 9,
   "metadata": {},
   "outputs": [
    {
     "name": "stdout",
     "output_type": "stream",
     "text": [
      "[('a', 'd'), ('a', 'e'), ('a', 'f'), ('b', 'd'), ('b', 'e'), ('b', 'f'), ('c', 'd'), ('c', 'e'), ('c', 'f')]\n"
     ]
    }
   ],
   "source": [
    "a=[\"a\",\"b\",\"c\"]\n",
    "b=[\"d\",\"e\",\"f\"]\n",
    "c=[(x,y) for x in a for y in b]\n",
    "print(c)"
   ]
  },
  {
   "cell_type": "markdown",
   "metadata": {},
   "source": [
    "### Nested List"
   ]
  },
  {
   "cell_type": "code",
   "execution_count": 2,
   "metadata": {},
   "outputs": [
    {
     "data": {
      "text/plain": [
       "[1, 2, 3, 4, 5, 6, 7, 8]"
      ]
     },
     "execution_count": 2,
     "metadata": {},
     "output_type": "execute_result"
    }
   ],
   "source": [
    "my_list = [[1], [2, 3], [4, 5, 6, 7],[8]]\n",
    "[j for i in my_list for j in i]"
   ]
  },
  {
   "cell_type": "markdown",
   "metadata": {},
   "source": [
    "## Iterate over a list in Python\n"
   ]
  },
  {
   "cell_type": "markdown",
   "metadata": {},
   "source": [
    "##### 1: Using For loop "
   ]
  },
  {
   "cell_type": "code",
   "execution_count": 14,
   "metadata": {},
   "outputs": [
    {
     "name": "stdout",
     "output_type": "stream",
     "text": [
      "1 3 5 7 9 "
     ]
    }
   ],
   "source": [
    "lst = [1, 3, 5, 7, 9]\n",
    "for i in lst:\n",
    "    print(i,end=\" \")"
   ]
  },
  {
   "cell_type": "markdown",
   "metadata": {},
   "source": [
    "#### 2: For loop and range()"
   ]
  },
  {
   "cell_type": "code",
   "execution_count": 16,
   "metadata": {},
   "outputs": [
    {
     "name": "stdout",
     "output_type": "stream",
     "text": [
      "0 1\n",
      "1 3\n",
      "2 5\n",
      "3 7\n",
      "4 9\n"
     ]
    }
   ],
   "source": [
    "lst = [1, 3, 5, 7, 9]\n",
    "for i in range(len(lst)):\n",
    "    print(i,lst[i])"
   ]
  },
  {
   "cell_type": "markdown",
   "metadata": {},
   "source": [
    "#### 3. Using while loop "
   ]
  },
  {
   "cell_type": "code",
   "execution_count": 43,
   "metadata": {},
   "outputs": [
    {
     "name": "stdout",
     "output_type": "stream",
     "text": [
      "1\n",
      "3\n",
      "5\n",
      "7\n",
      "9\n"
     ]
    }
   ],
   "source": [
    "lst = [1, 3, 5, 7, 9]\n",
    "length=len(lst)\n",
    "i=0 # Initializing \n",
    "while i<length: ## Condition\n",
    "    print(lst[i])\n",
    "    i=i+1 # incremental"
   ]
  },
  {
   "cell_type": "markdown",
   "metadata": {},
   "source": [
    "##### 4: Using list comprehension (Possibly the most concrete way).  "
   ]
  },
  {
   "cell_type": "code",
   "execution_count": 40,
   "metadata": {},
   "outputs": [
    {
     "data": {
      "text/plain": [
       "[2, 8]"
      ]
     },
     "execution_count": 40,
     "metadata": {},
     "output_type": "execute_result"
    }
   ],
   "source": [
    "lst = [1, 2, 5, 8, 9]\n",
    "[i for i in lst if i%2==0]"
   ]
  },
  {
   "cell_type": "markdown",
   "metadata": {},
   "source": [
    "###### 5: Using enumerate()\n",
    "If we want to convert the list into an iterable list of tuples (or get the index based on a condition check, for example in linear search you might need to save the index of minimum element), you can use the enumerate() function."
   ]
  },
  {
   "cell_type": "code",
   "execution_count": 32,
   "metadata": {},
   "outputs": [
    {
     "name": "stdout",
     "output_type": "stream",
     "text": [
      "0 , 1\n",
      "1 , 3\n",
      "2 , 5\n",
      "3 , 7\n",
      "4 , 9\n"
     ]
    }
   ],
   "source": [
    "list = [1, 3, 5, 7, 9]\n",
    "   \n",
    "# Using enumerate() \n",
    "for i, val in enumerate(list):\n",
    "    print (i, \",\",val)"
   ]
  },
  {
   "cell_type": "markdown",
   "metadata": {},
   "source": [
    "## *Iterate over multiple lists simultaneously"
   ]
  },
  {
   "cell_type": "code",
   "execution_count": 44,
   "metadata": {},
   "outputs": [],
   "source": [
    "import itertools "
   ]
  },
  {
   "cell_type": "markdown",
   "metadata": {},
   "source": [
    "##### 1.zip() : \n",
    "In Python 3, zip returns an iterator. zip() function stops when anyone of the list of all the lists gets exhausted. In simple words, it runs till the smallest of all the lists"
   ]
  },
  {
   "cell_type": "code",
   "execution_count": 1,
   "metadata": {},
   "outputs": [
    {
     "name": "stdout",
     "output_type": "stream",
     "text": [
      "1 red 255\n",
      "2 while 556\n"
     ]
    }
   ],
   "source": [
    "num = [1, 2, 3]\n",
    "color = ['red', 'while', 'black']\n",
    "value = [255,556]\n",
    "  \n",
    "# iterates over 3 lists and executes \n",
    "# 2 times as len(value)= 2 which is the\n",
    "# minimum among all the three \n",
    "for (a, b, c) in zip(num, color, value):\n",
    "     print (a, b, c)"
   ]
  },
  {
   "cell_type": "markdown",
   "metadata": {},
   "source": [
    "##### 2.itertools.zip_longest() :\n",
    "- zip_longest stops when all lists are exhausted. When the shorter iterator(s) are exhausted, zip_longest yields a tuple with None value."
   ]
  },
  {
   "cell_type": "code",
   "execution_count": 46,
   "metadata": {},
   "outputs": [
    {
     "name": "stdout",
     "output_type": "stream",
     "text": [
      "1 red 255\n",
      "2 while None\n",
      "3 black None\n"
     ]
    }
   ],
   "source": [
    "for (a, b, c) in itertools.zip_longest(num, color, value):\n",
    "    print (a, b, c)"
   ]
  },
  {
   "cell_type": "markdown",
   "metadata": {},
   "source": [
    "### Python List Comprehensions vs Generator Expressions"
   ]
  },
  {
   "cell_type": "markdown",
   "metadata": {},
   "source": [
    "- Syntax Difference: Parenthesis are used in place of square brackets."
   ]
  },
  {
   "cell_type": "code",
   "execution_count": 44,
   "metadata": {},
   "outputs": [
    {
     "name": "stdout",
     "output_type": "stream",
     "text": [
      "[0, 2, 4, 6, 8, 10]\n"
     ]
    }
   ],
   "source": [
    "# List Comprehension\n",
    "list_comprehension = [i for i in range(11) if i % 2 == 0]\n",
    "  \n",
    "print(list_comprehension)"
   ]
  },
  {
   "cell_type": "code",
   "execution_count": 45,
   "metadata": {},
   "outputs": [
    {
     "name": "stdout",
     "output_type": "stream",
     "text": [
      "<generator object <genexpr> at 0x0000020BA31DA820>\n"
     ]
    }
   ],
   "source": [
    "generator_expression = (i for i in range(11) if i % 2 == 0)\n",
    "  \n",
    "print(generator_expression)"
   ]
  },
  {
   "cell_type": "markdown",
   "metadata": {},
   "source": [
    "-In the above example, if we want to print the output for generator expressions, we can simply iterate it over generator object."
   ]
  },
  {
   "cell_type": "code",
   "execution_count": 46,
   "metadata": {},
   "outputs": [
    {
     "name": "stdout",
     "output_type": "stream",
     "text": [
      "0\n",
      "2\n",
      "4\n",
      "6\n",
      "8\n",
      "10\n"
     ]
    }
   ],
   "source": [
    "for i in generator_expression:\n",
    "    print(i)"
   ]
  },
  {
   "cell_type": "markdown",
   "metadata": {},
   "source": []
  }
 ],
 "metadata": {
  "kernelspec": {
   "display_name": "Python 3 (ipykernel)",
   "language": "python",
   "name": "python3"
  },
  "language_info": {
   "codemirror_mode": {
    "name": "ipython",
    "version": 3
   },
   "file_extension": ".py",
   "mimetype": "text/x-python",
   "name": "python",
   "nbconvert_exporter": "python",
   "pygments_lexer": "ipython3",
   "version": "3.9.13"
  }
 },
 "nbformat": 4,
 "nbformat_minor": 4
}
