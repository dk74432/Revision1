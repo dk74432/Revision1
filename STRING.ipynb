{
 "cells": [
  {
   "cell_type": "code",
   "execution_count": 2,
   "metadata": {},
   "outputs": [
    {
     "name": "stdout",
     "output_type": "stream",
     "text": [
      "DANISH"
     ]
    }
   ],
   "source": [
    "name=\"DANISH\"\n",
    "for i in name:\n",
    "    print(i,end=\"\")"
   ]
  },
  {
   "cell_type": "markdown",
   "metadata": {},
   "source": [
    "#### Strings are Immutable"
   ]
  },
  {
   "cell_type": "code",
   "execution_count": 3,
   "metadata": {},
   "outputs": [
    {
     "name": "stdout",
     "output_type": "stream",
     "text": [
      "Geeks\n"
     ]
    },
    {
     "ename": "TypeError",
     "evalue": "'str' object does not support item assignment",
     "output_type": "error",
     "traceback": [
      "\u001b[1;31m---------------------------------------------------------------------------\u001b[0m",
      "\u001b[1;31mTypeError\u001b[0m                                 Traceback (most recent call last)",
      "Input \u001b[1;32mIn [3]\u001b[0m, in \u001b[0;36m<cell line: 6>\u001b[1;34m()\u001b[0m\n\u001b[0;32m      3\u001b[0m \u001b[38;5;66;03m# output is displayed\u001b[39;00m\n\u001b[0;32m      4\u001b[0m \u001b[38;5;28mprint\u001b[39m(a)\n\u001b[1;32m----> 6\u001b[0m a[\u001b[38;5;241m2\u001b[39m] \u001b[38;5;241m=\u001b[39m \u001b[38;5;124m'\u001b[39m\u001b[38;5;124mE\u001b[39m\u001b[38;5;124m'\u001b[39m\n",
      "\u001b[1;31mTypeError\u001b[0m: 'str' object does not support item assignment"
     ]
    }
   ],
   "source": [
    "a = 'Geeks'\n",
    "  \n",
    "# output is displayed\n",
    "print(a)\n",
    "  \n",
    "a[2] = 'E'"
   ]
  },
  {
   "cell_type": "code",
   "execution_count": 4,
   "metadata": {},
   "outputs": [
    {
     "name": "stdout",
     "output_type": "stream",
     "text": [
      "1342172976816\n",
      "1342172976816\n"
     ]
    }
   ],
   "source": [
    "string1 = \"Hello\"\n",
    "string2 = \"Hello\"\n",
    "  \n",
    "print(id(string1))\n",
    "print(id(string2))"
   ]
  },
  {
   "cell_type": "markdown",
   "metadata": {},
   "source": [
    "- string1 and string2 both point to same object or same location.Now if someone try to modify any one of the string results will be different."
   ]
  },
  {
   "cell_type": "code",
   "execution_count": 5,
   "metadata": {},
   "outputs": [
    {
     "data": {
      "text/plain": [
       "'HelloWorld'"
      ]
     },
     "execution_count": 5,
     "metadata": {},
     "output_type": "execute_result"
    }
   ],
   "source": [
    "string2+=\"World\"\n",
    "string2"
   ]
  },
  {
   "cell_type": "code",
   "execution_count": 6,
   "metadata": {},
   "outputs": [
    {
     "name": "stdout",
     "output_type": "stream",
     "text": [
      "1342172976816\n",
      "1342172977072\n"
     ]
    }
   ],
   "source": [
    "print(id(string1))\n",
    "print(id(string2))"
   ]
  },
  {
   "cell_type": "markdown",
   "metadata": {},
   "source": [
    "#### Three ways to create strings"
   ]
  },
  {
   "cell_type": "code",
   "execution_count": 18,
   "metadata": {},
   "outputs": [
    {
     "name": "stdout",
     "output_type": "stream",
     "text": [
      "Geeks\n",
      "for\n",
      "Geeks a portal for geeks\n",
      "He said, \"I'm fine.\"\n",
      "GeeksforGeeks a portal for geeks\n"
     ]
    }
   ],
   "source": [
    "  \n",
    "# string with single quotes\n",
    "a = 'Geeks'\n",
    "  \n",
    "# string with double quotes\n",
    "b = \"for\"\n",
    "  \n",
    "# string with triple quotes\n",
    "c = '''Geeks a portal for geeks'''\n",
    "\n",
    "  \n",
    "print(a)\n",
    "print(b)\n",
    "print(c)\n",
    "print(d)\n",
    "  \n",
    "  \n",
    "# Concatenation of strings created \n",
    "# using different quotes\n",
    "print(a + b + c) "
   ]
  },
  {
   "cell_type": "markdown",
   "metadata": {},
   "source": [
    "### String Operator"
   ]
  },
  {
   "cell_type": "markdown",
   "metadata": {},
   "source": [
    "##### Concatenation (+)"
   ]
  },
  {
   "cell_type": "code",
   "execution_count": 37,
   "metadata": {},
   "outputs": [
    {
     "data": {
      "text/plain": [
       "'Everyday'"
      ]
     },
     "execution_count": 37,
     "metadata": {},
     "output_type": "execute_result"
    }
   ],
   "source": [
    "x=\"Every\"+\"day\"\n",
    "x"
   ]
  },
  {
   "cell_type": "markdown",
   "metadata": {},
   "source": [
    "##### Replication (*)"
   ]
  },
  {
   "cell_type": "code",
   "execution_count": 38,
   "metadata": {},
   "outputs": [
    {
     "data": {
      "text/plain": [
       "'HelloHelloHello'"
      ]
     },
     "execution_count": 38,
     "metadata": {},
     "output_type": "execute_result"
    }
   ],
   "source": [
    "3*\"Hello\""
   ]
  },
  {
   "cell_type": "markdown",
   "metadata": {},
   "source": [
    "##### Membership (in/Not in)"
   ]
  },
  {
   "cell_type": "code",
   "execution_count": 39,
   "metadata": {},
   "outputs": [
    {
     "data": {
      "text/plain": [
       "True"
      ]
     },
     "execution_count": 39,
     "metadata": {},
     "output_type": "execute_result"
    }
   ],
   "source": [
    "\"day\" in x"
   ]
  },
  {
   "cell_type": "code",
   "execution_count": 40,
   "metadata": {},
   "outputs": [
    {
     "data": {
      "text/plain": [
       "False"
      ]
     },
     "execution_count": 40,
     "metadata": {},
     "output_type": "execute_result"
    }
   ],
   "source": [
    "\"k\" in x"
   ]
  },
  {
   "cell_type": "markdown",
   "metadata": {},
   "source": [
    "##### Comparision Operator(<,>,<=,>=,==,!=)"
   ]
  },
  {
   "cell_type": "code",
   "execution_count": 41,
   "metadata": {},
   "outputs": [
    {
     "data": {
      "text/plain": [
       "True"
      ]
     },
     "execution_count": 41,
     "metadata": {},
     "output_type": "execute_result"
    }
   ],
   "source": [
    "\"A\"== \"A\""
   ]
  },
  {
   "cell_type": "code",
   "execution_count": 42,
   "metadata": {},
   "outputs": [
    {
     "data": {
      "text/plain": [
       "False"
      ]
     },
     "execution_count": 42,
     "metadata": {},
     "output_type": "execute_result"
    }
   ],
   "source": [
    "\n",
    "\"3\">=\"4\""
   ]
  },
  {
   "cell_type": "code",
   "execution_count": 43,
   "metadata": {},
   "outputs": [
    {
     "data": {
      "text/plain": [
       "True"
      ]
     },
     "execution_count": 43,
     "metadata": {},
     "output_type": "execute_result"
    }
   ],
   "source": [
    "\"a\"!=\"A\""
   ]
  },
  {
   "cell_type": "code",
   "execution_count": 44,
   "metadata": {},
   "outputs": [
    {
     "data": {
      "text/plain": [
       "True"
      ]
     },
     "execution_count": 44,
     "metadata": {},
     "output_type": "execute_result"
    }
   ],
   "source": [
    "\"3\"<=\"4\""
   ]
  },
  {
   "cell_type": "code",
   "execution_count": 45,
   "metadata": {},
   "outputs": [
    {
     "data": {
      "text/plain": [
       "True"
      ]
     },
     "execution_count": 45,
     "metadata": {},
     "output_type": "execute_result"
    }
   ],
   "source": [
    "\"danish\"==\"danish\""
   ]
  },
  {
   "cell_type": "markdown",
   "metadata": {},
   "source": [
    "### String Slicing\n",
    "it returns the characters falling between indices n & m:\n",
    "Starting from \"n\" and end at \"m-1\""
   ]
  },
  {
   "cell_type": "code",
   "execution_count": 46,
   "metadata": {},
   "outputs": [
    {
     "data": {
      "text/plain": [
       "('PYTHON', 'HELLO ')"
      ]
     },
     "execution_count": 46,
     "metadata": {},
     "output_type": "execute_result"
    }
   ],
   "source": [
    "a=\"HELLO PYTHON\"\n",
    "(a[6:],a[:6])"
   ]
  },
  {
   "cell_type": "code",
   "execution_count": 47,
   "metadata": {},
   "outputs": [
    {
     "data": {
      "text/plain": [
       "'HELLO PYTHON'"
      ]
     },
     "execution_count": 47,
     "metadata": {},
     "output_type": "execute_result"
    }
   ],
   "source": [
    "a[-12:]"
   ]
  },
  {
   "cell_type": "code",
   "execution_count": 48,
   "metadata": {},
   "outputs": [],
   "source": [
    "b=\"Y\""
   ]
  },
  {
   "cell_type": "markdown",
   "metadata": {},
   "source": [
    "### StringBuilt-in function"
   ]
  },
  {
   "cell_type": "code",
   "execution_count": 49,
   "metadata": {},
   "outputs": [
    {
     "data": {
      "text/plain": [
       "12"
      ]
     },
     "execution_count": 49,
     "metadata": {},
     "output_type": "execute_result"
    }
   ],
   "source": [
    "len(a)"
   ]
  },
  {
   "cell_type": "code",
   "execution_count": 50,
   "metadata": {},
   "outputs": [
    {
     "data": {
      "text/plain": [
       "7"
      ]
     },
     "execution_count": 50,
     "metadata": {},
     "output_type": "execute_result"
    }
   ],
   "source": [
    "a.find(b)"
   ]
  },
  {
   "cell_type": "code",
   "execution_count": 51,
   "metadata": {},
   "outputs": [
    {
     "data": {
      "text/plain": [
       "'HELLO PYTHON'"
      ]
     },
     "execution_count": 51,
     "metadata": {},
     "output_type": "execute_result"
    }
   ],
   "source": [
    "a.upper() # in upper case "
   ]
  },
  {
   "cell_type": "code",
   "execution_count": 52,
   "metadata": {},
   "outputs": [
    {
     "data": {
      "text/plain": [
       "'hello python'"
      ]
     },
     "execution_count": 52,
     "metadata": {},
     "output_type": "execute_result"
    }
   ],
   "source": [
    "a.lower() # in lower case "
   ]
  },
  {
   "cell_type": "code",
   "execution_count": 53,
   "metadata": {},
   "outputs": [
    {
     "data": {
      "text/plain": [
       "'Hello python'"
      ]
     },
     "execution_count": 53,
     "metadata": {},
     "output_type": "execute_result"
    }
   ],
   "source": [
    "a.capitalize() # Capatilize first alphabet of a sentencen  only"
   ]
  },
  {
   "cell_type": "code",
   "execution_count": 56,
   "metadata": {},
   "outputs": [
    {
     "data": {
      "text/plain": [
       "'Hello Python'"
      ]
     },
     "execution_count": 56,
     "metadata": {},
     "output_type": "execute_result"
    }
   ],
   "source": [
    "a.title() # Capatilize first alphabet of a  word of a sentence"
   ]
  },
  {
   "cell_type": "code",
   "execution_count": 55,
   "metadata": {},
   "outputs": [
    {
     "data": {
      "text/plain": [
       "'hello python'"
      ]
     },
     "execution_count": 55,
     "metadata": {},
     "output_type": "execute_result"
    }
   ],
   "source": [
    "a.swapcase()### Upper to lower case & vice-versa"
   ]
  },
  {
   "cell_type": "markdown",
   "metadata": {},
   "source": [
    "##### isalnum"
   ]
  },
  {
   "cell_type": "code",
   "execution_count": 32,
   "metadata": {},
   "outputs": [
    {
     "data": {
      "text/plain": [
       "False"
      ]
     },
     "execution_count": 32,
     "metadata": {},
     "output_type": "execute_result"
    }
   ],
   "source": [
    "a.isalnum()"
   ]
  },
  {
   "cell_type": "code",
   "execution_count": 34,
   "metadata": {},
   "outputs": [
    {
     "data": {
      "text/plain": [
       "True"
      ]
     },
     "execution_count": 34,
     "metadata": {},
     "output_type": "execute_result"
    }
   ],
   "source": [
    "b=\"Danish123\"\n",
    "b.isalnum()"
   ]
  },
  {
   "cell_type": "code",
   "execution_count": 35,
   "metadata": {},
   "outputs": [
    {
     "data": {
      "text/plain": [
       "True"
      ]
     },
     "execution_count": 35,
     "metadata": {},
     "output_type": "execute_result"
    }
   ],
   "source": [
    "b1=\"Danish\"\n",
    "b1.isalnum()"
   ]
  },
  {
   "cell_type": "code",
   "execution_count": 36,
   "metadata": {},
   "outputs": [
    {
     "data": {
      "text/plain": [
       "True"
      ]
     },
     "execution_count": 36,
     "metadata": {},
     "output_type": "execute_result"
    }
   ],
   "source": [
    "b2=\"123\"\n",
    "b2.isalnum()"
   ]
  },
  {
   "cell_type": "code",
   "execution_count": 39,
   "metadata": {},
   "outputs": [
    {
     "data": {
      "text/plain": [
       "False"
      ]
     },
     "execution_count": 39,
     "metadata": {},
     "output_type": "execute_result"
    }
   ],
   "source": [
    "b3=\"\"\n",
    "b3.isalnum()"
   ]
  },
  {
   "cell_type": "markdown",
   "metadata": {},
   "source": [
    "#### isdigit"
   ]
  },
  {
   "cell_type": "code",
   "execution_count": 65,
   "metadata": {},
   "outputs": [
    {
     "data": {
      "text/plain": [
       "False"
      ]
     },
     "execution_count": 65,
     "metadata": {},
     "output_type": "execute_result"
    }
   ],
   "source": [
    "b=\"Danish123\"\n",
    "b.isdigit()"
   ]
  },
  {
   "cell_type": "code",
   "execution_count": 66,
   "metadata": {},
   "outputs": [
    {
     "data": {
      "text/plain": [
       "False"
      ]
     },
     "execution_count": 66,
     "metadata": {},
     "output_type": "execute_result"
    }
   ],
   "source": [
    "b1=\"Danish\"\n",
    "b1.isdigit()"
   ]
  },
  {
   "cell_type": "code",
   "execution_count": 64,
   "metadata": {},
   "outputs": [
    {
     "data": {
      "text/plain": [
       "True"
      ]
     },
     "execution_count": 64,
     "metadata": {},
     "output_type": "execute_result"
    }
   ],
   "source": [
    "b2=\"123\"\n",
    "b2.isdigit()"
   ]
  },
  {
   "cell_type": "markdown",
   "metadata": {},
   "source": [
    "#### isspace\n",
    "\n",
    "- The isspace() method returns “True” if all characters in the string are whitespace characters, Otherwise, It returns “False”. This function is used to check if the argument contains all whitespace characters such as:"
   ]
  },
  {
   "cell_type": "code",
   "execution_count": 67,
   "metadata": {},
   "outputs": [
    {
     "data": {
      "text/plain": [
       "False"
      ]
     },
     "execution_count": 67,
     "metadata": {},
     "output_type": "execute_result"
    }
   ],
   "source": [
    "b3=\"\"\n",
    "b3.isspace()"
   ]
  },
  {
   "cell_type": "code",
   "execution_count": 68,
   "metadata": {},
   "outputs": [
    {
     "data": {
      "text/plain": [
       "True"
      ]
     },
     "execution_count": 68,
     "metadata": {},
     "output_type": "execute_result"
    }
   ],
   "source": [
    "b3=\" \"\n",
    "b3.isspace()"
   ]
  },
  {
   "cell_type": "code",
   "execution_count": 123,
   "metadata": {},
   "outputs": [
    {
     "data": {
      "text/plain": [
       "True"
      ]
     },
     "execution_count": 123,
     "metadata": {},
     "output_type": "execute_result"
    }
   ],
   "source": [
    "b3=\"\\n\"\n",
    "b3.isspace()"
   ]
  },
  {
   "cell_type": "markdown",
   "metadata": {},
   "source": [
    "\n",
    "   -  ‘ ‘ – Space\n",
    "   -  ‘\\t’ – Horizontal tab\n",
    "   -  ‘\\n’ – Newline\n",
    "   - ‘\\v’ – Vertical tab\n",
    "   - ‘\\f’ – Feed\n",
    "   -  ‘\\r’ – Carriage return"
   ]
  },
  {
   "cell_type": "markdown",
   "metadata": {},
   "source": [
    "#### COUNT\n"
   ]
  },
  {
   "cell_type": "markdown",
   "metadata": {},
   "source": [
    " ###### 1.Implementation of the count() method without optional parameters"
   ]
  },
  {
   "cell_type": "code",
   "execution_count": 403,
   "metadata": {},
   "outputs": [
    {
     "name": "stdout",
     "output_type": "stream",
     "text": [
      "1\n"
     ]
    }
   ],
   "source": [
    "# string in which occurrence will be checked\n",
    "string = \"GeeksforGeeks a computer science portal for a geeks\" \n",
    "    #string1= \"geeks\"\n",
    "  \n",
    "# counts the number of times substring occurs in the given string and returns an integer\n",
    "print(string.count(\"portal\"))\n",
    "\n",
    "    #print(string.count(string1))"
   ]
  },
  {
   "cell_type": "markdown",
   "metadata": {},
   "source": [
    "###### 2: Implementation of the count() method using optional parameters"
   ]
  },
  {
   "cell_type": "code",
   "execution_count": 18,
   "metadata": {},
   "outputs": [
    {
     "name": "stdout",
     "output_type": "stream",
     "text": [
      "1\n",
      "2\n",
      "1\n"
     ]
    }
   ],
   "source": [
    "string = \"geeks for geeks \" \n",
    "  \n",
    "# counts the number of times substring occurs in the given string between index 0 and 5 and returns an integer\n",
    "print(string.count(\"geeks\", 0, 5))\n",
    "  \n",
    "print(string.count(\"geeks\", 0, 15))\n",
    "\n",
    "  \n",
    "print(string.count(\"for\", 6, 15))"
   ]
  },
  {
   "cell_type": "markdown",
   "metadata": {},
   "source": [
    "#### String translate()"
   ]
  },
  {
   "attachments": {
    "image.png": {
     "image/png": "[encoded data removed]"
    }
   },
   "cell_type": "markdown",
   "metadata": {},
   "source": [
    "![image.png](attachment:image.png)"
   ]
  },
  {
   "cell_type": "code",
   "execution_count": 7,
   "metadata": {},
   "outputs": [
    {
     "name": "stdout",
     "output_type": "stream",
     "text": [
      "The string before translating is : weeksyourweeks\n",
      "The string after translating is : geeksforgeeks\n"
     ]
    }
   ],
   "source": [
    "table = { 119 : 103, 121 : 102, 117 : None }\n",
    "\n",
    "  \n",
    "# target string /\n",
    "\n",
    "trg = \"weeksyourweeks\"\n",
    "  \n",
    "# Printing original string \n",
    "print (\"The string before translating is : \", end =\"\") \n",
    "print (trg) \n",
    "  \n",
    "# using translate() to make translations. \n",
    "print (\"The string after translating is : \", end =\"\") \n",
    "print (trg.translate(table)) "
   ]
  },
  {
   "cell_type": "markdown",
   "metadata": {},
   "source": [
    "####  SPLIT"
   ]
  },
  {
   "cell_type": "code",
   "execution_count": 27,
   "metadata": {},
   "outputs": [
    {
     "name": "stdout",
     "output_type": "stream",
     "text": [
      "['geeks', 'for', 'geeks']\n",
      "['geeks', ' for', ' geeks']\n",
      "['geeks', 'for', 'geeks']\n",
      "['Ca', 'Ba', 'Sa', 'Fa', 'Or']\n"
     ]
    }
   ],
   "source": [
    "text = 'geeks for geeks'\n",
    "  \n",
    "# Splits at space\n",
    "print(text.split())\n",
    "  \n",
    "word = 'geeks, for, geeks'\n",
    "  \n",
    "# Splits at ','\n",
    "print(word.split(','))\n",
    "  \n",
    "word = 'geeks:for:geeks'\n",
    "  \n",
    "# Splitting at ':'\n",
    "print(word.split(':'))\n",
    "  \n",
    "word = 'CatBatSatFatOr'\n",
    "  \n",
    "# Splitting at t\n",
    "print(word.split('t'))"
   ]
  },
  {
   "cell_type": "markdown",
   "metadata": {},
   "source": [
    "#### Replace"
   ]
  },
  {
   "cell_type": "code",
   "execution_count": 39,
   "metadata": {},
   "outputs": [
    {
     "name": "stdout",
     "output_type": "stream",
     "text": [
      "Geeks for Geeks Geeks Geeks Geeks\n",
      "Hello for Hello Hello geeks geeks\n"
     ]
    }
   ],
   "source": [
    "string = \"geeks for geeks geeks geeks geeks\" \n",
    "   \n",
    "# Prints the string by replacing all\n",
    "# geeks by Geeks \n",
    "print(string.replace(\"geeks\", \"Geeks\")) \n",
    "  \n",
    "# Prints the string by replacing only\n",
    "# 3 occurrence of Geeks  \n",
    "print(string.replace(\"geeks\", \"Hello\", 3))"
   ]
  },
  {
   "cell_type": "markdown",
   "metadata": {},
   "source": [
    "#### Swap commas and dots in a String"
   ]
  },
  {
   "cell_type": "code",
   "execution_count": 42,
   "metadata": {},
   "outputs": [
    {
     "name": "stdout",
     "output_type": "stream",
     "text": [
      "14:625:498.002\n"
     ]
    }
   ],
   "source": [
    "def Replace(str1):\n",
    "    str1 = str1.replace(', ', 'y')\n",
    "    str1 = str1.replace(':', ', ')\n",
    "    str1 = str1.replace('y', ':')\n",
    "    return str1\n",
    "     \n",
    "string = \"14, 625, 498.002\"\n",
    "print(Replace(string))"
   ]
  },
  {
   "cell_type": "markdown",
   "metadata": {},
   "source": [
    "###### split() function works when maxsplit is specified"
   ]
  },
  {
   "cell_type": "code",
   "execution_count": 25,
   "metadata": {},
   "outputs": [
    {
     "name": "stdout",
     "output_type": "stream",
     "text": [
      "['geeks', 'for', 'geeks', 'pawan']\n",
      "['geeks', 'for', 'geeks', 'pawan']\n",
      "['geeks', 'for, geeks, pawan']\n"
     ]
    }
   ],
   "source": [
    "word = \n",
    "  \n",
    "# maxsplit: 0\n",
    "print(word.split(', ', 3))\n",
    "  \n",
    "# maxsplit: 4\n",
    "print(word.split(', ', 4))\n",
    "  \n",
    "# maxsplit: 1\n",
    "print(word.split(', ', 1))"
   ]
  },
  {
   "cell_type": "markdown",
   "metadata": {},
   "source": [
    "#### JOIN"
   ]
  },
  {
   "cell_type": "code",
   "execution_count": 31,
   "metadata": {},
   "outputs": [
    {
     "name": "stdout",
     "output_type": "stream",
     "text": [
      "g e e k s\n"
     ]
    }
   ],
   "source": [
    "list1 = ['g','e','e','k', 's']\n",
    "print(\" \".join(list1))"
   ]
  },
  {
   "cell_type": "code",
   "execution_count": 30,
   "metadata": {},
   "outputs": [
    {
     "name": "stdout",
     "output_type": "stream",
     "text": [
      "g_e_e_k_s\n"
     ]
    }
   ],
   "source": [
    "list1 = ['g','e','e','k', 's']\n",
    "\n",
    "print(\"_\".join(list1))"
   ]
  },
  {
   "cell_type": "code",
   "execution_count": 44,
   "metadata": {},
   "outputs": [
    {
     "name": "stdout",
     "output_type": "stream",
     "text": [
      "HELLO PYTHON"
     ]
    }
   ],
   "source": [
    "for i in range(0,len(a)):\n",
    "    print(a[i],end=\"\")"
   ]
  },
  {
   "cell_type": "code",
   "execution_count": 4,
   "metadata": {},
   "outputs": [
    {
     "data": {
      "text/plain": [
       "'NOHTYP OLLE'"
      ]
     },
     "execution_count": 4,
     "metadata": {},
     "output_type": "execute_result"
    }
   ],
   "source": [
    "a=\"HELLO PYTHON\"\n",
    "a[-1:0:-1]"
   ]
  },
  {
   "cell_type": "code",
   "execution_count": 3,
   "metadata": {},
   "outputs": [
    {
     "name": "stdout",
     "output_type": "stream",
     "text": [
      "NOHTYP OLLEH"
     ]
    }
   ],
   "source": [
    "for i in range((len(a)-1),-1,-1):\n",
    "    print(a[i],end=\"\")"
   ]
  },
  {
   "cell_type": "markdown",
   "metadata": {},
   "source": [
    "###### endswith() "
   ]
  },
  {
   "cell_type": "code",
   "execution_count": 32,
   "metadata": {},
   "outputs": [
    {
     "name": "stdout",
     "output_type": "stream",
     "text": [
      "False\n",
      "True\n"
     ]
    }
   ],
   "source": [
    "text = \"geeks for geeks.\"\n",
    "\n",
    "# returns False\n",
    "result = text.endswith('for geeks')\n",
    "print (result)\n",
    "  \n",
    "# returns True\n",
    "result = text.endswith('geeks.')\n",
    "print (result)"
   ]
  },
  {
   "cell_type": "markdown",
   "metadata": {},
   "source": [
    "###### startswith()"
   ]
  },
  {
   "cell_type": "code",
   "execution_count": 33,
   "metadata": {},
   "outputs": [
    {
     "name": "stdout",
     "output_type": "stream",
     "text": [
      "False\n",
      "True\n"
     ]
    }
   ],
   "source": [
    "result = text.startswith('for geeks')\n",
    "print (result)\n",
    "   \n",
    "# returns True\n",
    "result = text.startswith('geeks')\n",
    "print (result)\n",
    "   "
   ]
  },
  {
   "cell_type": "markdown",
   "metadata": {},
   "source": [
    "#### Replace"
   ]
  },
  {
   "cell_type": "code",
   "execution_count": 1,
   "metadata": {},
   "outputs": [
    {
     "name": "stdout",
     "output_type": "stream",
     "text": [
      "Print String in default order: \n",
      "Geeks For Life\n",
      "\n",
      "Print String in Positional order: \n",
      "For Geeks Life\n",
      "\n",
      "Print String in order of Keywords: \n",
      "Life For Geeks\n"
     ]
    }
   ],
   "source": [
    "# Python Program for\n",
    "# Formatting of Strings\n",
    "  \n",
    "# Default order\n",
    "String1 = \"{} {} {}\".format('Geeks', 'For', 'Life')\n",
    "print(\"Print String in default order: \")\n",
    "print(String1)\n",
    "  \n",
    "# Positional Formatting\n",
    "String1 = \"{1} {0} {2}\".format('Geeks', 'For', 'Life')\n",
    "print(\"\\nPrint String in Positional order: \")\n",
    "print(String1)\n",
    "  \n",
    "# Keyword Formatting\n",
    "String1 = \"{l} {f} {g}\".format(g='Geeks', f='For', l='Life')\n",
    "print(\"\\nPrint String in order of Keywords: \")\n",
    "print(String1)\n"
   ]
  },
  {
   "cell_type": "code",
   "execution_count": 20,
   "metadata": {},
   "outputs": [
    {
     "name": "stdout",
     "output_type": "stream",
     "text": [
      "\n",
      "Binary representation of 16 is \n",
      "10000\n",
      "\n",
      "Exponent representation of 165.6458 is \n",
      "1.656458e+02\n",
      "\n",
      "one-sixth is : \n",
      "0.33\n"
     ]
    }
   ],
   "source": [
    "# Formatting of Integers\n",
    "String1 = \"{0:b}\".format(16)\n",
    "print(\"\\nBinary representation of 16 is \")\n",
    "print(String1)\n",
    "  \n",
    "# Formatting of Floats\n",
    "String1 = \"{0:e}\".format(165.6458)\n",
    "print(\"\\nExponent representation of 165.6458 is \")\n",
    "print(String1)\n",
    "  \n",
    "# Rounding off Integers\n",
    "String1 = \"{0:.2f}\".format(1/3)\n",
    "print(\"\\none-sixth is : \")\n",
    "print(String1)"
   ]
  },
  {
   "cell_type": "markdown",
   "metadata": {},
   "source": [
    "### Q1.Count No of Vowels & Consonant in a String"
   ]
  },
  {
   "cell_type": "code",
   "execution_count": 20,
   "metadata": {},
   "outputs": [
    {
     "name": "stdout",
     "output_type": "stream",
     "text": [
      "Enetr the name: DANISH KHAN\n",
      "it is consonant\n",
      "it is a vowel\n",
      "it is consonant\n",
      "it is a vowel\n",
      "it is consonant\n",
      "it is consonant\n",
      "it is consonant\n",
      "it is consonant\n",
      "it is consonant\n",
      "it is a vowel\n",
      "it is consonant\n"
     ]
    }
   ],
   "source": [
    "Alphabets=str(input(\"Enetr the name: \"))\n",
    "vowel=0\n",
    "consonant=0\n",
    "for i in range(0,len(Alphabets)):\n",
    "    if (Alphabets[i]==\"A\" or Alphabets[i]==\"E\" or Alphabets[i]==\"I\" or Alphabets[i]==\"O\" or Alphabets[i]==\"U\" or Alphabets[i]==\"a\" or Alphabets[i]==\"e\" or Alphabets[i]==\"i\" or Alphabets[i]==\"o\" or Alphabets[i]==\"u\"):\n",
    "        vowel=vowel+1\n",
    "        print(\"it is a vowel\")\n",
    "    else:\n",
    "        consonant=consonant+1\n",
    "        print(\"it is consonant\")\n",
    "\n",
    "        \n",
    "    \n",
    "    \n",
    "    "
   ]
  },
  {
   "cell_type": "code",
   "execution_count": 46,
   "metadata": {},
   "outputs": [
    {
     "name": "stdout",
     "output_type": "stream",
     "text": [
      "Enter string:DANISH KHAN\n",
      "Number of vowels are: 3\n",
      "Number of consonant are 8\n"
     ]
    }
   ],
   "source": [
    "string=input(\"Enter string:\")\n",
    "vowels=0\n",
    "consonant=0\n",
    "for i in string:\n",
    "      if(i=='a' or i=='e' or i=='i' or i=='o' or i=='u' or i=='A' or i=='E' or i=='I' or i=='O' or i=='U'):\n",
    "            vowels=vowels+1\n",
    "      else:\n",
    "            consonant=consonant+1\n",
    "\n",
    "print(\"Number of vowels are:\",vowels)\n",
    "print(\"Number of consonant are\",consonant)"
   ]
  },
  {
   "cell_type": "markdown",
   "metadata": {},
   "source": [
    "#### Counting vowels: String Way"
   ]
  },
  {
   "cell_type": "code",
   "execution_count": 108,
   "metadata": {},
   "outputs": [
    {
     "name": "stdout",
     "output_type": "stream",
     "text": [
      "Enter string:DANISH KHAN\n",
      "3\n",
      "['A', 'I', 'A']\n"
     ]
    },
    {
     "data": {
      "text/plain": [
       "2"
      ]
     },
     "execution_count": 108,
     "metadata": {},
     "output_type": "execute_result"
    }
   ],
   "source": [
    "def vowelCheck(String, Vowels):\n",
    "    #count=0\n",
    "    #for i in String:\n",
    "     #   if i in Vowels:\n",
    "      #      print((i),end=\"\")\n",
    "        \n",
    "    count = [i for i in String if i in Vowels]\n",
    "    print(len(count))\n",
    "    print(count)\n",
    "    \n",
    " #Main code\n",
    " #Create string\n",
    "String=input(\"Enter string:\")\n",
    "Vowels = \"AaEeIiOoUu\"\n",
    "vowelCheck(String, Vowels) "
   ]
  },
  {
   "cell_type": "code",
   "execution_count": 88,
   "metadata": {},
   "outputs": [
    {
     "name": "stdout",
     "output_type": "stream",
     "text": [
      "Enter string:DANISH KHAN\n"
     ]
    },
    {
     "data": {
      "text/plain": [
       "{'D': 1, 'A': 2, 'N': 2, 'I': 1, 'S': 1, 'H': 2, ' ': 1, 'K': 1}"
      ]
     },
     "execution_count": 88,
     "metadata": {},
     "output_type": "execute_result"
    }
   ],
   "source": [
    "String=input(\"Enter string:\")\n",
    "Vowels = \"AaEeIiOoUu\"\n",
    "def stringCheck(String):\n",
    "    dict={}\n",
    "    count=0\n",
    "    for i in String:\n",
    "        if i in dict.keys():\n",
    "            dict[i]+=1\n",
    "        else:\n",
    "            dict[i]=1\n",
    "    return dict\n",
    "stringCheck(String)"
   ]
  },
  {
   "cell_type": "markdown",
   "metadata": {},
   "source": [
    "##### Counting vowels: Dictionary Way"
   ]
  },
  {
   "cell_type": "code",
   "execution_count": 113,
   "metadata": {},
   "outputs": [
    {
     "name": "stdout",
     "output_type": "stream",
     "text": [
      "Enter string:DANISH KHAN\n",
      "{'a': 2, 'e': 0, 'i': 1, 'o': 0, 'u': 0}\n"
     ]
    }
   ],
   "source": [
    "def Check_Vow(string, vowels):\n",
    "     \n",
    "    # casefold has been used to ignore cases\n",
    "    string = string.casefold()\n",
    "     \n",
    "    # Forms a dictionary with key as a vowel and the value as 0\n",
    "    count = {}.fromkeys(vowels, 0)\n",
    "     \n",
    "    # To count the vowels\n",
    "    for i in string:\n",
    "        if i in count:\n",
    "            count[i] += 1   \n",
    "    return count\n",
    "     \n",
    "# Driver Code\n",
    "vowels = 'aeiou'\n",
    "string=input(\"Enter string:\")\n",
    "print (Check_Vow(string, vowels))"
   ]
  },
  {
   "cell_type": "markdown",
   "metadata": {},
   "source": [
    "### Q2. To check String is a Palindrome or not ?"
   ]
  },
  {
   "cell_type": "code",
   "execution_count": 120,
   "metadata": {},
   "outputs": [
    {
     "name": "stdout",
     "output_type": "stream",
     "text": [
      "enter the String: Madam\n",
      "it's a Palindrome\n",
      "madam\n"
     ]
    }
   ],
   "source": [
    "a=input(\"enter the String: \")\n",
    "z=a.casefold()\n",
    "b=z[::-1]\n",
    "if(z==b):\n",
    "    print(\"it's a Palindrome\")\n",
    "    print(b)\n",
    "else:\n",
    "     print(\"it's not a Palindrome\")"
   ]
  },
  {
   "cell_type": "markdown",
   "metadata": {},
   "source": [
    "### Q3.Program to accept the strings which contains all vowels"
   ]
  },
  {
   "cell_type": "code",
   "execution_count": 129,
   "metadata": {},
   "outputs": [
    {
     "name": "stdout",
     "output_type": "stream",
     "text": [
      "ENter the String: DANISH KHAN\n",
      "rejected\n",
      "Accepted\n",
      "rejected\n",
      "Accepted\n",
      "rejected\n",
      "rejected\n",
      "rejected\n",
      "rejected\n",
      "rejected\n",
      "Accepted\n",
      "rejected\n"
     ]
    }
   ],
   "source": [
    "String=input(\"ENter the String: \")\n",
    "vowels=[\"a\",\"e\",\"i\",\"o\",\"u\",\"A\",\"E\",\"I\",\"O\",\"U\"]\n",
    "for i in String:\n",
    "    if i in vowels:\n",
    "        print(\"Accepted\")\n",
    "    else:\n",
    "        print(\"rejected\")"
   ]
  },
  {
   "cell_type": "code",
   "execution_count": 130,
   "metadata": {},
   "outputs": [
    {
     "data": {
      "text/plain": [
       "{5}"
      ]
     },
     "execution_count": 130,
     "metadata": {},
     "output_type": "execute_result"
    }
   ],
   "source": [
    "a = set([1, 2, 3, 4, 5])\n",
    "b = set([5, 6, 7, 8, 9])\n",
    "a.intersection(b)"
   ]
  },
  {
   "cell_type": "markdown",
   "metadata": {},
   "source": [
    "### Q4. Program to convert String to a List"
   ]
  },
  {
   "cell_type": "code",
   "execution_count": 350,
   "metadata": {},
   "outputs": [
    {
     "name": "stdout",
     "output_type": "stream",
     "text": [
      "enter the String: hello\n",
      "<class 'str'>\n",
      "['hello']\n",
      "<class 'list'>\n"
     ]
    }
   ],
   "source": [
    "a=input(\"enter the String: \")\n",
    "print(type(a))\n",
    "X=a.split(\" \")  #Split\n",
    "print(X)\n",
    "print(type(X))"
   ]
  },
  {
   "cell_type": "markdown",
   "metadata": {},
   "source": [
    "### Q5.Program to convert  List to aString"
   ]
  },
  {
   "cell_type": "code",
   "execution_count": 353,
   "metadata": {},
   "outputs": [
    {
     "name": "stdout",
     "output_type": "stream",
     "text": [
      "<class 'list'>\n",
      "ABC\n",
      "<class 'str'>\n"
     ]
    }
   ],
   "source": [
    "a=[\"A\",\"B\",\"C\"]\n",
    "print(type(a))\n",
    "X=(\"\".join(a))  #join\n",
    "print(X)\n",
    "print(type(X))"
   ]
  },
  {
   "cell_type": "markdown",
   "metadata": {},
   "source": [
    "### Q6. Count No of Vowels & Consonant in a String\n",
    "    - Counting vowels: Dictionary Way"
   ]
  },
  {
   "cell_type": "code",
   "execution_count": 134,
   "metadata": {},
   "outputs": [
    {
     "name": "stdout",
     "output_type": "stream",
     "text": [
      "Enter string:My name is Danish khan\n",
      "{'a': 3, 'e': 1, 'i': 2, 'o': 0, 'u': 0}\n"
     ]
    }
   ],
   "source": [
    "def Check_Vow(string, vowels):\n",
    "     \n",
    "    # casefold has been used to ignore cases\n",
    "    string = string.casefold()\n",
    "     \n",
    "    # Forms a dictionary with key as a vowel and the value as 0\n",
    "    count = {}.fromkeys(vowels, 0)\n",
    "     \n",
    "    # To count the vowels\n",
    "    for i in string:\n",
    "        if i in count:\n",
    "            count[i] =count[i]+1   \n",
    "    return count\n",
    "     \n",
    "# Driver Code\n",
    "vowels = 'aeiou'\n",
    "string=input(\"Enter string:\")\n",
    "print (Check_Vow(string, vowels))"
   ]
  },
  {
   "cell_type": "markdown",
   "metadata": {},
   "source": [
    "    - Counting vowels: String Way"
   ]
  },
  {
   "cell_type": "code",
   "execution_count": 135,
   "metadata": {},
   "outputs": [
    {
     "name": "stdout",
     "output_type": "stream",
     "text": [
      "Enter string:Danish khan\n",
      "aia"
     ]
    }
   ],
   "source": [
    "def vowelCheck(String, Vowels):\n",
    "    count=0\n",
    "    for i in String:\n",
    "        if i in Vowels:\n",
    "            print((i),end=\"\")\n",
    "        \n",
    "    #count = [i for i in String if i in Vowels]\n",
    "    #print(len(count))\n",
    "    #print(count)\n",
    "    \n",
    " #Main code\n",
    " #Create string\n",
    "String=(input(\"Enter string:\"))\n",
    "Vowels = set(\"AaEeIiOoUu\")\n",
    "vowelCheck(String, Vowels) "
   ]
  },
  {
   "cell_type": "markdown",
   "metadata": {},
   "source": [
    "### Q7 Python program to count number of vowels using sets in given string"
   ]
  },
  {
   "cell_type": "code",
   "execution_count": 136,
   "metadata": {},
   "outputs": [
    {
     "name": "stdout",
     "output_type": "stream",
     "text": [
      "Enter string:Danish khan\n",
      "No of vowels: 3\n",
      "['a', 'i', 'a']\n"
     ]
    }
   ],
   "source": [
    "def vowelCheck(String, Vowels):\n",
    "    #count=0\n",
    "    #for i in String:\n",
    "     #   if i in Vowels:\n",
    "      #      print((i),end=\"\")\n",
    "        \n",
    "    count = [i for i in String if i in Vowels]\n",
    "    print(\"No of vowels:\",len(count))\n",
    "    print(count)\n",
    "    \n",
    " #Main code\n",
    " #Create string\n",
    "String=input(\"Enter string:\")\n",
    "Vowels =set( \"AaEeIiOoUu\")\n",
    "vowelCheck(String, Vowels) "
   ]
  },
  {
   "cell_type": "markdown",
   "metadata": {},
   "source": [
    "### Q8. Python Programe to check if a Substring is Present in a Given String"
   ]
  },
  {
   "cell_type": "code",
   "execution_count": 139,
   "metadata": {},
   "outputs": [
    {
     "name": "stdout",
     "output_type": "stream",
     "text": [
      "Enter string:Geek\n",
      "Enter string:Geek for Geek\n",
      "yes present\n"
     ]
    }
   ],
   "source": [
    "s1 =str(input(\"Enter string:\"))\n",
    "s2=str(input(\"Enter string:\"))\n",
    "if s2.count(s1)>0:\n",
    "    print(\"yes present\")\n",
    "else:\n",
    "    print (\"not present\")"
   ]
  },
  {
   "cell_type": "markdown",
   "metadata": {},
   "source": [
    "### Q9 Python program to count upper and lower case characters without using inbuilt functions"
   ]
  },
  {
   "cell_type": "code",
   "execution_count": 355,
   "metadata": {},
   "outputs": [
    {
     "name": "stdout",
     "output_type": "stream",
     "text": [
      "Enter string:My name is Danish khan\n",
      "16\n",
      "2\n"
     ]
    }
   ],
   "source": [
    "u=0\n",
    "l=0\n",
    "string_1 =(input(\"Enter string:\"))\n",
    "for i in string_1:\n",
    "    if (i>=\"a\" and i<=\"z\"):\n",
    "        l+=1\n",
    "    if (i>=\"A\" and i<=\"Z\"):\n",
    "        u+=1\n",
    "print(l)\n",
    "print(u)"
   ]
  },
  {
   "cell_type": "markdown",
   "metadata": {},
   "source": [
    "### Q10.Python programe for Reverse words in a given String in Python"
   ]
  },
  {
   "cell_type": "code",
   "execution_count": 354,
   "metadata": {},
   "outputs": [
    {
     "name": "stdout",
     "output_type": "stream",
     "text": [
      "enter the String: Danish khan\n"
     ]
    },
    {
     "data": {
      "text/plain": [
       "'khan Danish'"
      ]
     },
     "execution_count": 354,
     "metadata": {},
     "output_type": "execute_result"
    }
   ],
   "source": [
    "a=input(\"enter the String: \")\n",
    "\n",
    "X=a.split(\" \")  #Split\n",
    "\n",
    "Y=reversed(X) #Reverse\n",
    "\n",
    "Z=(\" \".join(Y)) #Join\n",
    "Z"
   ]
  },
  {
   "cell_type": "markdown",
   "metadata": {},
   "source": [
    "### Q11. Python code to print common characters of two Strings in alphabetical order"
   ]
  },
  {
   "cell_type": "code",
   "execution_count": 359,
   "metadata": {},
   "outputs": [
    {
     "name": "stdout",
     "output_type": "stream",
     "text": [
      "enter the String: Danish\n",
      "enter the String: anish\n"
     ]
    },
    {
     "data": {
      "text/plain": [
       "['s', 'i', 'h', 'a', 'n']"
      ]
     },
     "execution_count": 359,
     "metadata": {},
     "output_type": "execute_result"
    }
   ],
   "source": [
    "a=set(input(\"enter the String: \"))\n",
    "b=set(input(\"enter the String: \"))\n",
    "c=(list(a.intersection(b)))\n",
    "c"
   ]
  },
  {
   "cell_type": "code",
   "execution_count": 199,
   "metadata": {},
   "outputs": [
    {
     "data": {
      "text/plain": [
       "['a', 'h', 'i', 'n', 's']"
      ]
     },
     "execution_count": 199,
     "metadata": {},
     "output_type": "execute_result"
    }
   ],
   "source": [
    "c.sort(reverse=False)\n",
    "c"
   ]
  },
  {
   "cell_type": "code",
   "execution_count": 201,
   "metadata": {},
   "outputs": [
    {
     "name": "stdout",
     "output_type": "stream",
     "text": [
      "ahins\n"
     ]
    }
   ],
   "source": [
    "print(\"\".join(c))"
   ]
  },
  {
   "cell_type": "markdown",
   "metadata": {},
   "source": [
    "### Q12. Python program to find frequency of each word in a string in Python"
   ]
  },
  {
   "cell_type": "code",
   "execution_count": 260,
   "metadata": {},
   "outputs": [
    {
     "name": "stdout",
     "output_type": "stream",
     "text": [
      "enter the String: apple mango apple orange orange apple guava mango mango\n",
      "1\n"
     ]
    }
   ],
   "source": [
    "# string in which occurrence will be checked\n",
    "string=input(\"enter the String: \")\n",
    "  \n",
    "# counts the number of times substring occurs in the given string and returns an integer\n",
    "print(string.count(\"guava\"))"
   ]
  },
  {
   "cell_type": "markdown",
   "metadata": {},
   "source": [
    "###### Using list():"
   ]
  },
  {
   "cell_type": "code",
   "execution_count": 7,
   "metadata": {},
   "outputs": [
    {
     "name": "stdout",
     "output_type": "stream",
     "text": [
      "enter the String: apple mango apple orange orange apple guava mango mango\n",
      "Frequency of string apple is:  3\n",
      "Frequency of string mango is:  3\n",
      "Frequency of string orange is:  2\n",
      "Frequency of string guava is:  1\n"
     ]
    }
   ],
   "source": [
    "str1=(input(\"enter the String: \")).split()  # break the string into list of words \n",
    "str2 = []\n",
    "for i in str1: #loop till string values present in list str\n",
    "    \n",
    "    if i not in str2: # checking for the duplicacy\n",
    "        \n",
    "        str2.append(i)  # insert value in str2\n",
    "for i in range(0,len(str2)):        \n",
    "    print(\"Frequency of string\",str2[i],\"is: \",str1.count(str2[i]))     # count the frequency of each word(present in str2) \n",
    "                                                                              #in str and print"
   ]
  },
  {
   "cell_type": "markdown",
   "metadata": {},
   "source": [
    "###### Using Dictionary"
   ]
  },
  {
   "cell_type": "code",
   "execution_count": 219,
   "metadata": {},
   "outputs": [
    {
     "name": "stdout",
     "output_type": "stream",
     "text": [
      "enter the String: apple mango apple orange orange apple guava mango mango\n"
     ]
    },
    {
     "data": {
      "text/plain": [
       "{'apple': 3, 'mango': 3, 'orange': 2, 'guava': 1}"
      ]
     },
     "execution_count": 219,
     "metadata": {},
     "output_type": "execute_result"
    }
   ],
   "source": [
    "String=(input(\"enter the String: \")).split()\n",
    "def stringCheck(String):\n",
    "    dict={}\n",
    "    count=0\n",
    "    for i in String:\n",
    "        if i in dict.keys():\n",
    "            dict[i]+=1\n",
    "        else:\n",
    "            dict[i]=1\n",
    "    return dict\n",
    "stringCheck(String)"
   ]
  },
  {
   "cell_type": "markdown",
   "metadata": {},
   "source": [
    "### Q13. Python Programe Count the Number of matching characters in a pair of string"
   ]
  },
  {
   "cell_type": "code",
   "execution_count": 264,
   "metadata": {},
   "outputs": [],
   "source": [
    "str1 = set('aabcddekll12@')\n",
    "str2 = set('bb22ll@55k')"
   ]
  },
  {
   "cell_type": "code",
   "execution_count": 265,
   "metadata": {},
   "outputs": [
    {
     "data": {
      "text/plain": [
       "{'2', '@', 'b', 'k', 'l'}"
      ]
     },
     "execution_count": 265,
     "metadata": {},
     "output_type": "execute_result"
    }
   ],
   "source": [
    "str1.intersection(str2)"
   ]
  },
  {
   "cell_type": "code",
   "execution_count": 268,
   "metadata": {},
   "outputs": [
    {
     "data": {
      "text/plain": [
       "('No. of matching characters are:', 5)"
      ]
     },
     "execution_count": 268,
     "metadata": {},
     "output_type": "execute_result"
    }
   ],
   "source": [
    "count=0\n",
    "for i in str1:\n",
    "    if i in str2:\n",
    "        count+=1\n",
    "(\"No. of matching characters are:\",count)"
   ]
  },
  {
   "cell_type": "markdown",
   "metadata": {},
   "source": [
    "### Q14. Program to accept the strings which contains all vowels"
   ]
  },
  {
   "cell_type": "code",
   "execution_count": 344,
   "metadata": {},
   "outputs": [
    {
     "name": "stdout",
     "output_type": "stream",
     "text": [
      "enter the String: Education\n",
      "Accepted\n"
     ]
    }
   ],
   "source": [
    "String=set(input(\"enter the String: \"))\n",
    "vowel= set(\"AaEeIiOoUu\")\n",
    "if len(String.intersection(vowel))>=5:\n",
    "    print(\"Accepted\")\n",
    "else:\n",
    "    print(\"rejected\")"
   ]
  },
  {
   "cell_type": "markdown",
   "metadata": {},
   "source": [
    "### Q15.Python  Programe to Sort words of sentence in ascending order"
   ]
  },
  {
   "cell_type": "code",
   "execution_count": 400,
   "metadata": {},
   "outputs": [
    {
     "name": "stdout",
     "output_type": "stream",
     "text": [
      "enter the String: My name is Danish khan\n"
     ]
    },
    {
     "data": {
      "text/plain": [
       "'danish is khan my name'"
      ]
     },
     "execution_count": 400,
     "metadata": {},
     "output_type": "execute_result"
    }
   ],
   "source": [
    "a=((input(\"enter the String: \").casefold()).split(\" \"))  #Split--------string to list\n",
    "a.sort()   #Sort\n",
    "new_sentence=\" \".join(a)  #Join----------list to string\n",
    "new_sentence"
   ]
  },
  {
   "cell_type": "code",
   "execution_count": null,
   "metadata": {},
   "outputs": [],
   "source": []
  },
  {
   "cell_type": "code",
   "execution_count": null,
   "metadata": {},
   "outputs": [],
   "source": []
  }
 ],
 "metadata": {
  "kernelspec": {
   "display_name": "Python 3 (ipykernel)",
   "language": "python",
   "name": "python3"
  },
  "language_info": {
   "codemirror_mode": {
    "name": "ipython",
    "version": 3
   },
   "file_extension": ".py",
   "mimetype": "text/x-python",
   "name": "python",
   "nbconvert_exporter": "python",
   "pygments_lexer": "ipython3",
   "version": "3.9.13"
  }
 },
 "nbformat": 4,
 "nbformat_minor": 4
}
